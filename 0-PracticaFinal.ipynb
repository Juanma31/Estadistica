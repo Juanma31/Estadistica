{
 "cells": [
  {
   "cell_type": "code",
   "execution_count": 761,
   "metadata": {},
   "outputs": [],
   "source": [
    "library(ggplot2)\n",
    "options(repr.plot.height=4,repr.plot.width=6)"
   ]
  },
  {
   "cell_type": "markdown",
   "metadata": {},
   "source": [
    "Cargar los datos en un dataframe llamado: airbnb"
   ]
  },
  {
   "cell_type": "code",
   "execution_count": 762,
   "metadata": {},
   "outputs": [],
   "source": [
    "airbnb<-read.csv('data//airbnb.csv',sep = ',')"
   ]
  },
  {
   "cell_type": "markdown",
   "metadata": {},
   "source": [
    "Mostrar las primeras 6 filas del dataframe"
   ]
  },
  {
   "cell_type": "code",
   "execution_count": 763,
   "metadata": {
    "scrolled": true
   },
   "outputs": [
    {
     "data": {
      "text/html": [
       "<table>\n",
       "<caption>A data.frame: 6 × 13</caption>\n",
       "<thead>\n",
       "\t<tr><th></th><th scope=col>Zipcode</th><th scope=col>Neighbourhood.Cleansed</th><th scope=col>Property.Type</th><th scope=col>Room.Type</th><th scope=col>Accommodates</th><th scope=col>Bathrooms</th><th scope=col>Bedrooms</th><th scope=col>Beds</th><th scope=col>Bed.Type</th><th scope=col>Amenities</th><th scope=col>Square.Feet</th><th scope=col>Price</th><th scope=col>Review.Scores.Rating</th></tr>\n",
       "\t<tr><th></th><th scope=col>&lt;fct&gt;</th><th scope=col>&lt;fct&gt;</th><th scope=col>&lt;fct&gt;</th><th scope=col>&lt;fct&gt;</th><th scope=col>&lt;int&gt;</th><th scope=col>&lt;dbl&gt;</th><th scope=col>&lt;int&gt;</th><th scope=col>&lt;int&gt;</th><th scope=col>&lt;fct&gt;</th><th scope=col>&lt;fct&gt;</th><th scope=col>&lt;int&gt;</th><th scope=col>&lt;int&gt;</th><th scope=col>&lt;int&gt;</th></tr>\n",
       "</thead>\n",
       "<tbody>\n",
       "\t<tr><th scope=row>1</th><td>28004</td><td>Universidad</td><td>Apartment</td><td>Private room   </td><td>2</td><td>2</td><td>1</td><td>1</td><td>Real Bed</td><td>TV,Wireless Internet,Kitchen,Pets allowed,Pets live on this property,Buzzer/wireless intercom,Heating,Suitable for events,Washer,First aid kit,Essentials,Lock on bedroom door,Iron                                                                                                                                                                             </td><td> NA</td><td>35</td><td> NA</td></tr>\n",
       "\t<tr><th scope=row>2</th><td>28004</td><td>Universidad</td><td>Apartment</td><td>Entire home/apt</td><td>6</td><td>1</td><td>3</td><td>5</td><td>Real Bed</td><td>TV,Internet,Wireless Internet,Air conditioning,Kitchen,Indoor fireplace,Heating,Family/kid friendly,Washer,Dryer,Smoke detector,Carbon monoxide detector,Essentials,Shampoo                                                                                                                                                                                     </td><td> NA</td><td>92</td><td> 96</td></tr>\n",
       "\t<tr><th scope=row>3</th><td>28004</td><td>Universidad</td><td>Apartment</td><td>Entire home/apt</td><td>3</td><td>1</td><td>2</td><td>2</td><td>Real Bed</td><td>TV,Internet,Wireless Internet,Air conditioning,Kitchen,Doorman,Heating,Family/kid friendly,Washer,Essentials,Shampoo,Hangers,Hair dryer,Iron,Laptop friendly workspace                                                                                                                                                                                          </td><td> NA</td><td>55</td><td> 91</td></tr>\n",
       "\t<tr><th scope=row>4</th><td>28004</td><td>Universidad</td><td>Loft     </td><td>Entire home/apt</td><td>3</td><td>2</td><td>1</td><td>1</td><td>Real Bed</td><td>TV,Internet,Wireless Internet,Air conditioning,Kitchen,Pets allowed,Breakfast,Elevator in building,Indoor fireplace,Buzzer/wireless intercom,Heating,Washer,Essentials,Shampoo,Hangers,Hair dryer,Iron,Laptop friendly workspace,translation missing: en.hosting_amenity_49,translation missing: en.hosting_amenity_50                                          </td><td> NA</td><td>60</td><td>100</td></tr>\n",
       "\t<tr><th scope=row>5</th><td>28015</td><td>Universidad</td><td>Apartment</td><td>Entire home/apt</td><td>5</td><td>1</td><td>1</td><td>1</td><td>Real Bed</td><td>TV,Wireless Internet,Air conditioning,Kitchen,Smoking allowed,Pets allowed,Elevator in building,Heating,Family/kid friendly,Washer,Essentials,Iron                                                                                                                                                                                                              </td><td>538</td><td>75</td><td> 90</td></tr>\n",
       "\t<tr><th scope=row>6</th><td>28004</td><td>Universidad</td><td>Apartment</td><td>Entire home/apt</td><td>2</td><td>1</td><td>0</td><td>1</td><td>Real Bed</td><td>TV,Cable TV,Internet,Wireless Internet,Air conditioning,Wheelchair accessible,Kitchen,Doorman,Elevator in building,Buzzer/wireless intercom,Heating,Washer,Smoke detector,Carbon monoxide detector,First aid kit,Safety card,Fire extinguisher,Essentials,Shampoo,24-hour check-in,Hangers,Hair dryer,Iron,Laptop friendly workspace,Self Check-In,Doorman Entry</td><td> NA</td><td>55</td><td> 95</td></tr>\n",
       "</tbody>\n",
       "</table>\n"
      ],
      "text/latex": [
       "A data.frame: 6 × 13\n",
       "\\begin{tabular}{r|lllllllllllll}\n",
       "  & Zipcode & Neighbourhood.Cleansed & Property.Type & Room.Type & Accommodates & Bathrooms & Bedrooms & Beds & Bed.Type & Amenities & Square.Feet & Price & Review.Scores.Rating\\\\\n",
       "  & <fct> & <fct> & <fct> & <fct> & <int> & <dbl> & <int> & <int> & <fct> & <fct> & <int> & <int> & <int>\\\\\n",
       "\\hline\n",
       "\t1 & 28004 & Universidad & Apartment & Private room    & 2 & 2 & 1 & 1 & Real Bed & TV,Wireless Internet,Kitchen,Pets allowed,Pets live on this property,Buzzer/wireless intercom,Heating,Suitable for events,Washer,First aid kit,Essentials,Lock on bedroom door,Iron                                                                                                                                                                              &  NA & 35 &  NA\\\\\n",
       "\t2 & 28004 & Universidad & Apartment & Entire home/apt & 6 & 1 & 3 & 5 & Real Bed & TV,Internet,Wireless Internet,Air conditioning,Kitchen,Indoor fireplace,Heating,Family/kid friendly,Washer,Dryer,Smoke detector,Carbon monoxide detector,Essentials,Shampoo                                                                                                                                                                                      &  NA & 92 &  96\\\\\n",
       "\t3 & 28004 & Universidad & Apartment & Entire home/apt & 3 & 1 & 2 & 2 & Real Bed & TV,Internet,Wireless Internet,Air conditioning,Kitchen,Doorman,Heating,Family/kid friendly,Washer,Essentials,Shampoo,Hangers,Hair dryer,Iron,Laptop friendly workspace                                                                                                                                                                                           &  NA & 55 &  91\\\\\n",
       "\t4 & 28004 & Universidad & Loft      & Entire home/apt & 3 & 2 & 1 & 1 & Real Bed & TV,Internet,Wireless Internet,Air conditioning,Kitchen,Pets allowed,Breakfast,Elevator in building,Indoor fireplace,Buzzer/wireless intercom,Heating,Washer,Essentials,Shampoo,Hangers,Hair dryer,Iron,Laptop friendly workspace,translation missing: en.hosting\\_amenity\\_49,translation missing: en.hosting\\_amenity\\_50                                           &  NA & 60 & 100\\\\\n",
       "\t5 & 28015 & Universidad & Apartment & Entire home/apt & 5 & 1 & 1 & 1 & Real Bed & TV,Wireless Internet,Air conditioning,Kitchen,Smoking allowed,Pets allowed,Elevator in building,Heating,Family/kid friendly,Washer,Essentials,Iron                                                                                                                                                                                                               & 538 & 75 &  90\\\\\n",
       "\t6 & 28004 & Universidad & Apartment & Entire home/apt & 2 & 1 & 0 & 1 & Real Bed & TV,Cable TV,Internet,Wireless Internet,Air conditioning,Wheelchair accessible,Kitchen,Doorman,Elevator in building,Buzzer/wireless intercom,Heating,Washer,Smoke detector,Carbon monoxide detector,First aid kit,Safety card,Fire extinguisher,Essentials,Shampoo,24-hour check-in,Hangers,Hair dryer,Iron,Laptop friendly workspace,Self Check-In,Doorman Entry &  NA & 55 &  95\\\\\n",
       "\\end{tabular}\n"
      ],
      "text/markdown": [
       "\n",
       "A data.frame: 6 × 13\n",
       "\n",
       "| <!--/--> | Zipcode &lt;fct&gt; | Neighbourhood.Cleansed &lt;fct&gt; | Property.Type &lt;fct&gt; | Room.Type &lt;fct&gt; | Accommodates &lt;int&gt; | Bathrooms &lt;dbl&gt; | Bedrooms &lt;int&gt; | Beds &lt;int&gt; | Bed.Type &lt;fct&gt; | Amenities &lt;fct&gt; | Square.Feet &lt;int&gt; | Price &lt;int&gt; | Review.Scores.Rating &lt;int&gt; |\n",
       "|---|---|---|---|---|---|---|---|---|---|---|---|---|---|\n",
       "| 1 | 28004 | Universidad | Apartment | Private room    | 2 | 2 | 1 | 1 | Real Bed | TV,Wireless Internet,Kitchen,Pets allowed,Pets live on this property,Buzzer/wireless intercom,Heating,Suitable for events,Washer,First aid kit,Essentials,Lock on bedroom door,Iron                                                                                                                                                                              |  NA | 35 |  NA |\n",
       "| 2 | 28004 | Universidad | Apartment | Entire home/apt | 6 | 1 | 3 | 5 | Real Bed | TV,Internet,Wireless Internet,Air conditioning,Kitchen,Indoor fireplace,Heating,Family/kid friendly,Washer,Dryer,Smoke detector,Carbon monoxide detector,Essentials,Shampoo                                                                                                                                                                                      |  NA | 92 |  96 |\n",
       "| 3 | 28004 | Universidad | Apartment | Entire home/apt | 3 | 1 | 2 | 2 | Real Bed | TV,Internet,Wireless Internet,Air conditioning,Kitchen,Doorman,Heating,Family/kid friendly,Washer,Essentials,Shampoo,Hangers,Hair dryer,Iron,Laptop friendly workspace                                                                                                                                                                                           |  NA | 55 |  91 |\n",
       "| 4 | 28004 | Universidad | Loft      | Entire home/apt | 3 | 2 | 1 | 1 | Real Bed | TV,Internet,Wireless Internet,Air conditioning,Kitchen,Pets allowed,Breakfast,Elevator in building,Indoor fireplace,Buzzer/wireless intercom,Heating,Washer,Essentials,Shampoo,Hangers,Hair dryer,Iron,Laptop friendly workspace,translation missing: en.hosting_amenity_49,translation missing: en.hosting_amenity_50                                           |  NA | 60 | 100 |\n",
       "| 5 | 28015 | Universidad | Apartment | Entire home/apt | 5 | 1 | 1 | 1 | Real Bed | TV,Wireless Internet,Air conditioning,Kitchen,Smoking allowed,Pets allowed,Elevator in building,Heating,Family/kid friendly,Washer,Essentials,Iron                                                                                                                                                                                                               | 538 | 75 |  90 |\n",
       "| 6 | 28004 | Universidad | Apartment | Entire home/apt | 2 | 1 | 0 | 1 | Real Bed | TV,Cable TV,Internet,Wireless Internet,Air conditioning,Wheelchair accessible,Kitchen,Doorman,Elevator in building,Buzzer/wireless intercom,Heating,Washer,Smoke detector,Carbon monoxide detector,First aid kit,Safety card,Fire extinguisher,Essentials,Shampoo,24-hour check-in,Hangers,Hair dryer,Iron,Laptop friendly workspace,Self Check-In,Doorman Entry |  NA | 55 |  95 |\n",
       "\n"
      ],
      "text/plain": [
       "  Zipcode Neighbourhood.Cleansed Property.Type Room.Type       Accommodates\n",
       "1 28004   Universidad            Apartment     Private room    2           \n",
       "2 28004   Universidad            Apartment     Entire home/apt 6           \n",
       "3 28004   Universidad            Apartment     Entire home/apt 3           \n",
       "4 28004   Universidad            Loft          Entire home/apt 3           \n",
       "5 28015   Universidad            Apartment     Entire home/apt 5           \n",
       "6 28004   Universidad            Apartment     Entire home/apt 2           \n",
       "  Bathrooms Bedrooms Beds Bed.Type\n",
       "1 2         1        1    Real Bed\n",
       "2 1         3        5    Real Bed\n",
       "3 1         2        2    Real Bed\n",
       "4 2         1        1    Real Bed\n",
       "5 1         1        1    Real Bed\n",
       "6 1         0        1    Real Bed\n",
       "  Amenities                                                                                                                                                                                                                                                                                                                                                       \n",
       "1 TV,Wireless Internet,Kitchen,Pets allowed,Pets live on this property,Buzzer/wireless intercom,Heating,Suitable for events,Washer,First aid kit,Essentials,Lock on bedroom door,Iron                                                                                                                                                                             \n",
       "2 TV,Internet,Wireless Internet,Air conditioning,Kitchen,Indoor fireplace,Heating,Family/kid friendly,Washer,Dryer,Smoke detector,Carbon monoxide detector,Essentials,Shampoo                                                                                                                                                                                     \n",
       "3 TV,Internet,Wireless Internet,Air conditioning,Kitchen,Doorman,Heating,Family/kid friendly,Washer,Essentials,Shampoo,Hangers,Hair dryer,Iron,Laptop friendly workspace                                                                                                                                                                                          \n",
       "4 TV,Internet,Wireless Internet,Air conditioning,Kitchen,Pets allowed,Breakfast,Elevator in building,Indoor fireplace,Buzzer/wireless intercom,Heating,Washer,Essentials,Shampoo,Hangers,Hair dryer,Iron,Laptop friendly workspace,translation missing: en.hosting_amenity_49,translation missing: en.hosting_amenity_50                                          \n",
       "5 TV,Wireless Internet,Air conditioning,Kitchen,Smoking allowed,Pets allowed,Elevator in building,Heating,Family/kid friendly,Washer,Essentials,Iron                                                                                                                                                                                                              \n",
       "6 TV,Cable TV,Internet,Wireless Internet,Air conditioning,Wheelchair accessible,Kitchen,Doorman,Elevator in building,Buzzer/wireless intercom,Heating,Washer,Smoke detector,Carbon monoxide detector,First aid kit,Safety card,Fire extinguisher,Essentials,Shampoo,24-hour check-in,Hangers,Hair dryer,Iron,Laptop friendly workspace,Self Check-In,Doorman Entry\n",
       "  Square.Feet Price Review.Scores.Rating\n",
       "1  NA         35     NA                 \n",
       "2  NA         92     96                 \n",
       "3  NA         55     91                 \n",
       "4  NA         60    100                 \n",
       "5 538         75     90                 \n",
       "6  NA         55     95                 "
      ]
     },
     "metadata": {},
     "output_type": "display_data"
    }
   ],
   "source": [
    "head(airbnb)"
   ]
  },
  {
   "cell_type": "markdown",
   "metadata": {},
   "source": [
    "Renombrar las columnas de la siguiente forma:\n",
    "\n",
    "| Nombre original | Nuevo nombre |\n",
    "| - | - |\n",
    "| Zipcode | CodigoPostal |\n",
    "| Neighbourhood.Cleansed | Barrio |\n",
    "| Property.Type\t| TipoPropiedad |\n",
    "| Room.Type | TipoAlquiler |\n",
    "| Accommodates | MaxOcupantes |\n",
    "| Bathrooms\t| NumBanyos |\n",
    "| Bedrooms\t| NumDormitorios |\n",
    "| Beds\t|  NumCamas |\n",
    "| Bed.Type\t| TipoCama |\n",
    "| Amenities | Comodidades |\n",
    "| Square.Feet | PiesCuadrados |\n",
    "| Price\t| Precio |\n",
    "| Review.Scores.Rating | Puntuacion |"
   ]
  },
  {
   "cell_type": "code",
   "execution_count": 764,
   "metadata": {},
   "outputs": [
    {
     "data": {
      "text/html": [
       "<table>\n",
       "<caption>A data.frame: 6 × 13</caption>\n",
       "<thead>\n",
       "\t<tr><th></th><th scope=col>CodigoPostal</th><th scope=col>Barrio</th><th scope=col>TipoPropiedad</th><th scope=col>TipoAlquiler</th><th scope=col>MaxOcupantes</th><th scope=col>NumBanyos</th><th scope=col>NumDormitorios</th><th scope=col>NumCamas</th><th scope=col>TipoCama</th><th scope=col>Comodidades</th><th scope=col>PiesCuadrados</th><th scope=col>Precio</th><th scope=col>Puntuacion</th></tr>\n",
       "\t<tr><th></th><th scope=col>&lt;fct&gt;</th><th scope=col>&lt;fct&gt;</th><th scope=col>&lt;fct&gt;</th><th scope=col>&lt;fct&gt;</th><th scope=col>&lt;int&gt;</th><th scope=col>&lt;dbl&gt;</th><th scope=col>&lt;int&gt;</th><th scope=col>&lt;int&gt;</th><th scope=col>&lt;fct&gt;</th><th scope=col>&lt;fct&gt;</th><th scope=col>&lt;int&gt;</th><th scope=col>&lt;int&gt;</th><th scope=col>&lt;int&gt;</th></tr>\n",
       "</thead>\n",
       "<tbody>\n",
       "\t<tr><th scope=row>1</th><td>28004</td><td>Universidad</td><td>Apartment</td><td>Private room   </td><td>2</td><td>2</td><td>1</td><td>1</td><td>Real Bed</td><td>TV,Wireless Internet,Kitchen,Pets allowed,Pets live on this property,Buzzer/wireless intercom,Heating,Suitable for events,Washer,First aid kit,Essentials,Lock on bedroom door,Iron                                                                                                                                                                             </td><td> NA</td><td>35</td><td> NA</td></tr>\n",
       "\t<tr><th scope=row>2</th><td>28004</td><td>Universidad</td><td>Apartment</td><td>Entire home/apt</td><td>6</td><td>1</td><td>3</td><td>5</td><td>Real Bed</td><td>TV,Internet,Wireless Internet,Air conditioning,Kitchen,Indoor fireplace,Heating,Family/kid friendly,Washer,Dryer,Smoke detector,Carbon monoxide detector,Essentials,Shampoo                                                                                                                                                                                     </td><td> NA</td><td>92</td><td> 96</td></tr>\n",
       "\t<tr><th scope=row>3</th><td>28004</td><td>Universidad</td><td>Apartment</td><td>Entire home/apt</td><td>3</td><td>1</td><td>2</td><td>2</td><td>Real Bed</td><td>TV,Internet,Wireless Internet,Air conditioning,Kitchen,Doorman,Heating,Family/kid friendly,Washer,Essentials,Shampoo,Hangers,Hair dryer,Iron,Laptop friendly workspace                                                                                                                                                                                          </td><td> NA</td><td>55</td><td> 91</td></tr>\n",
       "\t<tr><th scope=row>4</th><td>28004</td><td>Universidad</td><td>Loft     </td><td>Entire home/apt</td><td>3</td><td>2</td><td>1</td><td>1</td><td>Real Bed</td><td>TV,Internet,Wireless Internet,Air conditioning,Kitchen,Pets allowed,Breakfast,Elevator in building,Indoor fireplace,Buzzer/wireless intercom,Heating,Washer,Essentials,Shampoo,Hangers,Hair dryer,Iron,Laptop friendly workspace,translation missing: en.hosting_amenity_49,translation missing: en.hosting_amenity_50                                          </td><td> NA</td><td>60</td><td>100</td></tr>\n",
       "\t<tr><th scope=row>5</th><td>28015</td><td>Universidad</td><td>Apartment</td><td>Entire home/apt</td><td>5</td><td>1</td><td>1</td><td>1</td><td>Real Bed</td><td>TV,Wireless Internet,Air conditioning,Kitchen,Smoking allowed,Pets allowed,Elevator in building,Heating,Family/kid friendly,Washer,Essentials,Iron                                                                                                                                                                                                              </td><td>538</td><td>75</td><td> 90</td></tr>\n",
       "\t<tr><th scope=row>6</th><td>28004</td><td>Universidad</td><td>Apartment</td><td>Entire home/apt</td><td>2</td><td>1</td><td>0</td><td>1</td><td>Real Bed</td><td>TV,Cable TV,Internet,Wireless Internet,Air conditioning,Wheelchair accessible,Kitchen,Doorman,Elevator in building,Buzzer/wireless intercom,Heating,Washer,Smoke detector,Carbon monoxide detector,First aid kit,Safety card,Fire extinguisher,Essentials,Shampoo,24-hour check-in,Hangers,Hair dryer,Iron,Laptop friendly workspace,Self Check-In,Doorman Entry</td><td> NA</td><td>55</td><td> 95</td></tr>\n",
       "</tbody>\n",
       "</table>\n"
      ],
      "text/latex": [
       "A data.frame: 6 × 13\n",
       "\\begin{tabular}{r|lllllllllllll}\n",
       "  & CodigoPostal & Barrio & TipoPropiedad & TipoAlquiler & MaxOcupantes & NumBanyos & NumDormitorios & NumCamas & TipoCama & Comodidades & PiesCuadrados & Precio & Puntuacion\\\\\n",
       "  & <fct> & <fct> & <fct> & <fct> & <int> & <dbl> & <int> & <int> & <fct> & <fct> & <int> & <int> & <int>\\\\\n",
       "\\hline\n",
       "\t1 & 28004 & Universidad & Apartment & Private room    & 2 & 2 & 1 & 1 & Real Bed & TV,Wireless Internet,Kitchen,Pets allowed,Pets live on this property,Buzzer/wireless intercom,Heating,Suitable for events,Washer,First aid kit,Essentials,Lock on bedroom door,Iron                                                                                                                                                                              &  NA & 35 &  NA\\\\\n",
       "\t2 & 28004 & Universidad & Apartment & Entire home/apt & 6 & 1 & 3 & 5 & Real Bed & TV,Internet,Wireless Internet,Air conditioning,Kitchen,Indoor fireplace,Heating,Family/kid friendly,Washer,Dryer,Smoke detector,Carbon monoxide detector,Essentials,Shampoo                                                                                                                                                                                      &  NA & 92 &  96\\\\\n",
       "\t3 & 28004 & Universidad & Apartment & Entire home/apt & 3 & 1 & 2 & 2 & Real Bed & TV,Internet,Wireless Internet,Air conditioning,Kitchen,Doorman,Heating,Family/kid friendly,Washer,Essentials,Shampoo,Hangers,Hair dryer,Iron,Laptop friendly workspace                                                                                                                                                                                           &  NA & 55 &  91\\\\\n",
       "\t4 & 28004 & Universidad & Loft      & Entire home/apt & 3 & 2 & 1 & 1 & Real Bed & TV,Internet,Wireless Internet,Air conditioning,Kitchen,Pets allowed,Breakfast,Elevator in building,Indoor fireplace,Buzzer/wireless intercom,Heating,Washer,Essentials,Shampoo,Hangers,Hair dryer,Iron,Laptop friendly workspace,translation missing: en.hosting\\_amenity\\_49,translation missing: en.hosting\\_amenity\\_50                                           &  NA & 60 & 100\\\\\n",
       "\t5 & 28015 & Universidad & Apartment & Entire home/apt & 5 & 1 & 1 & 1 & Real Bed & TV,Wireless Internet,Air conditioning,Kitchen,Smoking allowed,Pets allowed,Elevator in building,Heating,Family/kid friendly,Washer,Essentials,Iron                                                                                                                                                                                                               & 538 & 75 &  90\\\\\n",
       "\t6 & 28004 & Universidad & Apartment & Entire home/apt & 2 & 1 & 0 & 1 & Real Bed & TV,Cable TV,Internet,Wireless Internet,Air conditioning,Wheelchair accessible,Kitchen,Doorman,Elevator in building,Buzzer/wireless intercom,Heating,Washer,Smoke detector,Carbon monoxide detector,First aid kit,Safety card,Fire extinguisher,Essentials,Shampoo,24-hour check-in,Hangers,Hair dryer,Iron,Laptop friendly workspace,Self Check-In,Doorman Entry &  NA & 55 &  95\\\\\n",
       "\\end{tabular}\n"
      ],
      "text/markdown": [
       "\n",
       "A data.frame: 6 × 13\n",
       "\n",
       "| <!--/--> | CodigoPostal &lt;fct&gt; | Barrio &lt;fct&gt; | TipoPropiedad &lt;fct&gt; | TipoAlquiler &lt;fct&gt; | MaxOcupantes &lt;int&gt; | NumBanyos &lt;dbl&gt; | NumDormitorios &lt;int&gt; | NumCamas &lt;int&gt; | TipoCama &lt;fct&gt; | Comodidades &lt;fct&gt; | PiesCuadrados &lt;int&gt; | Precio &lt;int&gt; | Puntuacion &lt;int&gt; |\n",
       "|---|---|---|---|---|---|---|---|---|---|---|---|---|---|\n",
       "| 1 | 28004 | Universidad | Apartment | Private room    | 2 | 2 | 1 | 1 | Real Bed | TV,Wireless Internet,Kitchen,Pets allowed,Pets live on this property,Buzzer/wireless intercom,Heating,Suitable for events,Washer,First aid kit,Essentials,Lock on bedroom door,Iron                                                                                                                                                                              |  NA | 35 |  NA |\n",
       "| 2 | 28004 | Universidad | Apartment | Entire home/apt | 6 | 1 | 3 | 5 | Real Bed | TV,Internet,Wireless Internet,Air conditioning,Kitchen,Indoor fireplace,Heating,Family/kid friendly,Washer,Dryer,Smoke detector,Carbon monoxide detector,Essentials,Shampoo                                                                                                                                                                                      |  NA | 92 |  96 |\n",
       "| 3 | 28004 | Universidad | Apartment | Entire home/apt | 3 | 1 | 2 | 2 | Real Bed | TV,Internet,Wireless Internet,Air conditioning,Kitchen,Doorman,Heating,Family/kid friendly,Washer,Essentials,Shampoo,Hangers,Hair dryer,Iron,Laptop friendly workspace                                                                                                                                                                                           |  NA | 55 |  91 |\n",
       "| 4 | 28004 | Universidad | Loft      | Entire home/apt | 3 | 2 | 1 | 1 | Real Bed | TV,Internet,Wireless Internet,Air conditioning,Kitchen,Pets allowed,Breakfast,Elevator in building,Indoor fireplace,Buzzer/wireless intercom,Heating,Washer,Essentials,Shampoo,Hangers,Hair dryer,Iron,Laptop friendly workspace,translation missing: en.hosting_amenity_49,translation missing: en.hosting_amenity_50                                           |  NA | 60 | 100 |\n",
       "| 5 | 28015 | Universidad | Apartment | Entire home/apt | 5 | 1 | 1 | 1 | Real Bed | TV,Wireless Internet,Air conditioning,Kitchen,Smoking allowed,Pets allowed,Elevator in building,Heating,Family/kid friendly,Washer,Essentials,Iron                                                                                                                                                                                                               | 538 | 75 |  90 |\n",
       "| 6 | 28004 | Universidad | Apartment | Entire home/apt | 2 | 1 | 0 | 1 | Real Bed | TV,Cable TV,Internet,Wireless Internet,Air conditioning,Wheelchair accessible,Kitchen,Doorman,Elevator in building,Buzzer/wireless intercom,Heating,Washer,Smoke detector,Carbon monoxide detector,First aid kit,Safety card,Fire extinguisher,Essentials,Shampoo,24-hour check-in,Hangers,Hair dryer,Iron,Laptop friendly workspace,Self Check-In,Doorman Entry |  NA | 55 |  95 |\n",
       "\n"
      ],
      "text/plain": [
       "  CodigoPostal Barrio      TipoPropiedad TipoAlquiler    MaxOcupantes NumBanyos\n",
       "1 28004        Universidad Apartment     Private room    2            2        \n",
       "2 28004        Universidad Apartment     Entire home/apt 6            1        \n",
       "3 28004        Universidad Apartment     Entire home/apt 3            1        \n",
       "4 28004        Universidad Loft          Entire home/apt 3            2        \n",
       "5 28015        Universidad Apartment     Entire home/apt 5            1        \n",
       "6 28004        Universidad Apartment     Entire home/apt 2            1        \n",
       "  NumDormitorios NumCamas TipoCama\n",
       "1 1              1        Real Bed\n",
       "2 3              5        Real Bed\n",
       "3 2              2        Real Bed\n",
       "4 1              1        Real Bed\n",
       "5 1              1        Real Bed\n",
       "6 0              1        Real Bed\n",
       "  Comodidades                                                                                                                                                                                                                                                                                                                                                     \n",
       "1 TV,Wireless Internet,Kitchen,Pets allowed,Pets live on this property,Buzzer/wireless intercom,Heating,Suitable for events,Washer,First aid kit,Essentials,Lock on bedroom door,Iron                                                                                                                                                                             \n",
       "2 TV,Internet,Wireless Internet,Air conditioning,Kitchen,Indoor fireplace,Heating,Family/kid friendly,Washer,Dryer,Smoke detector,Carbon monoxide detector,Essentials,Shampoo                                                                                                                                                                                     \n",
       "3 TV,Internet,Wireless Internet,Air conditioning,Kitchen,Doorman,Heating,Family/kid friendly,Washer,Essentials,Shampoo,Hangers,Hair dryer,Iron,Laptop friendly workspace                                                                                                                                                                                          \n",
       "4 TV,Internet,Wireless Internet,Air conditioning,Kitchen,Pets allowed,Breakfast,Elevator in building,Indoor fireplace,Buzzer/wireless intercom,Heating,Washer,Essentials,Shampoo,Hangers,Hair dryer,Iron,Laptop friendly workspace,translation missing: en.hosting_amenity_49,translation missing: en.hosting_amenity_50                                          \n",
       "5 TV,Wireless Internet,Air conditioning,Kitchen,Smoking allowed,Pets allowed,Elevator in building,Heating,Family/kid friendly,Washer,Essentials,Iron                                                                                                                                                                                                              \n",
       "6 TV,Cable TV,Internet,Wireless Internet,Air conditioning,Wheelchair accessible,Kitchen,Doorman,Elevator in building,Buzzer/wireless intercom,Heating,Washer,Smoke detector,Carbon monoxide detector,First aid kit,Safety card,Fire extinguisher,Essentials,Shampoo,24-hour check-in,Hangers,Hair dryer,Iron,Laptop friendly workspace,Self Check-In,Doorman Entry\n",
       "  PiesCuadrados Precio Puntuacion\n",
       "1  NA           35      NA       \n",
       "2  NA           92      96       \n",
       "3  NA           55      91       \n",
       "4  NA           60     100       \n",
       "5 538           75      90       \n",
       "6  NA           55      95       "
      ]
     },
     "metadata": {},
     "output_type": "display_data"
    }
   ],
   "source": [
    "newnames<-c(\"CodigoPostal\",\"Barrio\",\"TipoPropiedad\",\"TipoAlquiler\",\"MaxOcupantes\",\"NumBanyos\",\n",
    "\"NumDormitorios\",\"NumCamas\",\"TipoCama\",\"Comodidades\",\"PiesCuadrados\",\"Precio\",\"Puntuacion\")\n",
    "colnames(airbnb)<-newnames\n",
    "head(airbnb)"
   ]
  },
  {
   "cell_type": "markdown",
   "metadata": {},
   "source": [
    "Crea una nueva columna llamada MetrosCuadrados a partir de la columna PiesCuadrados.\n",
    "\n",
    "Ayuda: 1 pie cuadrado son 0,092903 metros cuadrdados"
   ]
  },
  {
   "cell_type": "code",
   "execution_count": 765,
   "metadata": {},
   "outputs": [
    {
     "data": {
      "text/html": [
       "<style>\n",
       ".list-inline {list-style: none; margin:0; padding: 0}\n",
       ".list-inline>li {display: inline-block}\n",
       ".list-inline>li:not(:last-child)::after {content: \"\\00b7\"; padding: 0 .5ex}\n",
       "</style>\n",
       "<ol class=list-inline><li>&lt;NA&gt;</li><li>&lt;NA&gt;</li><li>&lt;NA&gt;</li><li>&lt;NA&gt;</li><li>49.981814</li><li>&lt;NA&gt;</li></ol>\n"
      ],
      "text/latex": [
       "\\begin{enumerate*}\n",
       "\\item <NA>\n",
       "\\item <NA>\n",
       "\\item <NA>\n",
       "\\item <NA>\n",
       "\\item 49.981814\n",
       "\\item <NA>\n",
       "\\end{enumerate*}\n"
      ],
      "text/markdown": [
       "1. &lt;NA&gt;\n",
       "2. &lt;NA&gt;\n",
       "3. &lt;NA&gt;\n",
       "4. &lt;NA&gt;\n",
       "5. 49.981814\n",
       "6. &lt;NA&gt;\n",
       "\n",
       "\n"
      ],
      "text/plain": [
       "[1]       NA       NA       NA       NA 49.98181       NA"
      ]
     },
     "metadata": {},
     "output_type": "display_data"
    }
   ],
   "source": [
    "MetrosCuadrados = airbnb$PiesCuadrados*0.092903\n",
    "head(MetrosCuadrados)"
   ]
  },
  {
   "cell_type": "code",
   "execution_count": 766,
   "metadata": {},
   "outputs": [],
   "source": [
    "airbnb$MetrosCuadrados<-MetrosCuadrados"
   ]
  },
  {
   "cell_type": "code",
   "execution_count": 767,
   "metadata": {},
   "outputs": [
    {
     "data": {
      "text/html": [
       "<table>\n",
       "<caption>A data.frame: 6 × 14</caption>\n",
       "<thead>\n",
       "\t<tr><th></th><th scope=col>CodigoPostal</th><th scope=col>Barrio</th><th scope=col>TipoPropiedad</th><th scope=col>TipoAlquiler</th><th scope=col>MaxOcupantes</th><th scope=col>NumBanyos</th><th scope=col>NumDormitorios</th><th scope=col>NumCamas</th><th scope=col>TipoCama</th><th scope=col>Comodidades</th><th scope=col>PiesCuadrados</th><th scope=col>Precio</th><th scope=col>Puntuacion</th><th scope=col>MetrosCuadrados</th></tr>\n",
       "\t<tr><th></th><th scope=col>&lt;fct&gt;</th><th scope=col>&lt;fct&gt;</th><th scope=col>&lt;fct&gt;</th><th scope=col>&lt;fct&gt;</th><th scope=col>&lt;int&gt;</th><th scope=col>&lt;dbl&gt;</th><th scope=col>&lt;int&gt;</th><th scope=col>&lt;int&gt;</th><th scope=col>&lt;fct&gt;</th><th scope=col>&lt;fct&gt;</th><th scope=col>&lt;int&gt;</th><th scope=col>&lt;int&gt;</th><th scope=col>&lt;int&gt;</th><th scope=col>&lt;dbl&gt;</th></tr>\n",
       "</thead>\n",
       "<tbody>\n",
       "\t<tr><th scope=row>1</th><td>28004</td><td>Universidad</td><td>Apartment</td><td>Private room   </td><td>2</td><td>2</td><td>1</td><td>1</td><td>Real Bed</td><td>TV,Wireless Internet,Kitchen,Pets allowed,Pets live on this property,Buzzer/wireless intercom,Heating,Suitable for events,Washer,First aid kit,Essentials,Lock on bedroom door,Iron                                                                                                                                                                             </td><td> NA</td><td>35</td><td> NA</td><td>      NA</td></tr>\n",
       "\t<tr><th scope=row>2</th><td>28004</td><td>Universidad</td><td>Apartment</td><td>Entire home/apt</td><td>6</td><td>1</td><td>3</td><td>5</td><td>Real Bed</td><td>TV,Internet,Wireless Internet,Air conditioning,Kitchen,Indoor fireplace,Heating,Family/kid friendly,Washer,Dryer,Smoke detector,Carbon monoxide detector,Essentials,Shampoo                                                                                                                                                                                     </td><td> NA</td><td>92</td><td> 96</td><td>      NA</td></tr>\n",
       "\t<tr><th scope=row>3</th><td>28004</td><td>Universidad</td><td>Apartment</td><td>Entire home/apt</td><td>3</td><td>1</td><td>2</td><td>2</td><td>Real Bed</td><td>TV,Internet,Wireless Internet,Air conditioning,Kitchen,Doorman,Heating,Family/kid friendly,Washer,Essentials,Shampoo,Hangers,Hair dryer,Iron,Laptop friendly workspace                                                                                                                                                                                          </td><td> NA</td><td>55</td><td> 91</td><td>      NA</td></tr>\n",
       "\t<tr><th scope=row>4</th><td>28004</td><td>Universidad</td><td>Loft     </td><td>Entire home/apt</td><td>3</td><td>2</td><td>1</td><td>1</td><td>Real Bed</td><td>TV,Internet,Wireless Internet,Air conditioning,Kitchen,Pets allowed,Breakfast,Elevator in building,Indoor fireplace,Buzzer/wireless intercom,Heating,Washer,Essentials,Shampoo,Hangers,Hair dryer,Iron,Laptop friendly workspace,translation missing: en.hosting_amenity_49,translation missing: en.hosting_amenity_50                                          </td><td> NA</td><td>60</td><td>100</td><td>      NA</td></tr>\n",
       "\t<tr><th scope=row>5</th><td>28015</td><td>Universidad</td><td>Apartment</td><td>Entire home/apt</td><td>5</td><td>1</td><td>1</td><td>1</td><td>Real Bed</td><td>TV,Wireless Internet,Air conditioning,Kitchen,Smoking allowed,Pets allowed,Elevator in building,Heating,Family/kid friendly,Washer,Essentials,Iron                                                                                                                                                                                                              </td><td>538</td><td>75</td><td> 90</td><td>49.98181</td></tr>\n",
       "\t<tr><th scope=row>6</th><td>28004</td><td>Universidad</td><td>Apartment</td><td>Entire home/apt</td><td>2</td><td>1</td><td>0</td><td>1</td><td>Real Bed</td><td>TV,Cable TV,Internet,Wireless Internet,Air conditioning,Wheelchair accessible,Kitchen,Doorman,Elevator in building,Buzzer/wireless intercom,Heating,Washer,Smoke detector,Carbon monoxide detector,First aid kit,Safety card,Fire extinguisher,Essentials,Shampoo,24-hour check-in,Hangers,Hair dryer,Iron,Laptop friendly workspace,Self Check-In,Doorman Entry</td><td> NA</td><td>55</td><td> 95</td><td>      NA</td></tr>\n",
       "</tbody>\n",
       "</table>\n"
      ],
      "text/latex": [
       "A data.frame: 6 × 14\n",
       "\\begin{tabular}{r|llllllllllllll}\n",
       "  & CodigoPostal & Barrio & TipoPropiedad & TipoAlquiler & MaxOcupantes & NumBanyos & NumDormitorios & NumCamas & TipoCama & Comodidades & PiesCuadrados & Precio & Puntuacion & MetrosCuadrados\\\\\n",
       "  & <fct> & <fct> & <fct> & <fct> & <int> & <dbl> & <int> & <int> & <fct> & <fct> & <int> & <int> & <int> & <dbl>\\\\\n",
       "\\hline\n",
       "\t1 & 28004 & Universidad & Apartment & Private room    & 2 & 2 & 1 & 1 & Real Bed & TV,Wireless Internet,Kitchen,Pets allowed,Pets live on this property,Buzzer/wireless intercom,Heating,Suitable for events,Washer,First aid kit,Essentials,Lock on bedroom door,Iron                                                                                                                                                                              &  NA & 35 &  NA &       NA\\\\\n",
       "\t2 & 28004 & Universidad & Apartment & Entire home/apt & 6 & 1 & 3 & 5 & Real Bed & TV,Internet,Wireless Internet,Air conditioning,Kitchen,Indoor fireplace,Heating,Family/kid friendly,Washer,Dryer,Smoke detector,Carbon monoxide detector,Essentials,Shampoo                                                                                                                                                                                      &  NA & 92 &  96 &       NA\\\\\n",
       "\t3 & 28004 & Universidad & Apartment & Entire home/apt & 3 & 1 & 2 & 2 & Real Bed & TV,Internet,Wireless Internet,Air conditioning,Kitchen,Doorman,Heating,Family/kid friendly,Washer,Essentials,Shampoo,Hangers,Hair dryer,Iron,Laptop friendly workspace                                                                                                                                                                                           &  NA & 55 &  91 &       NA\\\\\n",
       "\t4 & 28004 & Universidad & Loft      & Entire home/apt & 3 & 2 & 1 & 1 & Real Bed & TV,Internet,Wireless Internet,Air conditioning,Kitchen,Pets allowed,Breakfast,Elevator in building,Indoor fireplace,Buzzer/wireless intercom,Heating,Washer,Essentials,Shampoo,Hangers,Hair dryer,Iron,Laptop friendly workspace,translation missing: en.hosting\\_amenity\\_49,translation missing: en.hosting\\_amenity\\_50                                           &  NA & 60 & 100 &       NA\\\\\n",
       "\t5 & 28015 & Universidad & Apartment & Entire home/apt & 5 & 1 & 1 & 1 & Real Bed & TV,Wireless Internet,Air conditioning,Kitchen,Smoking allowed,Pets allowed,Elevator in building,Heating,Family/kid friendly,Washer,Essentials,Iron                                                                                                                                                                                                               & 538 & 75 &  90 & 49.98181\\\\\n",
       "\t6 & 28004 & Universidad & Apartment & Entire home/apt & 2 & 1 & 0 & 1 & Real Bed & TV,Cable TV,Internet,Wireless Internet,Air conditioning,Wheelchair accessible,Kitchen,Doorman,Elevator in building,Buzzer/wireless intercom,Heating,Washer,Smoke detector,Carbon monoxide detector,First aid kit,Safety card,Fire extinguisher,Essentials,Shampoo,24-hour check-in,Hangers,Hair dryer,Iron,Laptop friendly workspace,Self Check-In,Doorman Entry &  NA & 55 &  95 &       NA\\\\\n",
       "\\end{tabular}\n"
      ],
      "text/markdown": [
       "\n",
       "A data.frame: 6 × 14\n",
       "\n",
       "| <!--/--> | CodigoPostal &lt;fct&gt; | Barrio &lt;fct&gt; | TipoPropiedad &lt;fct&gt; | TipoAlquiler &lt;fct&gt; | MaxOcupantes &lt;int&gt; | NumBanyos &lt;dbl&gt; | NumDormitorios &lt;int&gt; | NumCamas &lt;int&gt; | TipoCama &lt;fct&gt; | Comodidades &lt;fct&gt; | PiesCuadrados &lt;int&gt; | Precio &lt;int&gt; | Puntuacion &lt;int&gt; | MetrosCuadrados &lt;dbl&gt; |\n",
       "|---|---|---|---|---|---|---|---|---|---|---|---|---|---|---|\n",
       "| 1 | 28004 | Universidad | Apartment | Private room    | 2 | 2 | 1 | 1 | Real Bed | TV,Wireless Internet,Kitchen,Pets allowed,Pets live on this property,Buzzer/wireless intercom,Heating,Suitable for events,Washer,First aid kit,Essentials,Lock on bedroom door,Iron                                                                                                                                                                              |  NA | 35 |  NA |       NA |\n",
       "| 2 | 28004 | Universidad | Apartment | Entire home/apt | 6 | 1 | 3 | 5 | Real Bed | TV,Internet,Wireless Internet,Air conditioning,Kitchen,Indoor fireplace,Heating,Family/kid friendly,Washer,Dryer,Smoke detector,Carbon monoxide detector,Essentials,Shampoo                                                                                                                                                                                      |  NA | 92 |  96 |       NA |\n",
       "| 3 | 28004 | Universidad | Apartment | Entire home/apt | 3 | 1 | 2 | 2 | Real Bed | TV,Internet,Wireless Internet,Air conditioning,Kitchen,Doorman,Heating,Family/kid friendly,Washer,Essentials,Shampoo,Hangers,Hair dryer,Iron,Laptop friendly workspace                                                                                                                                                                                           |  NA | 55 |  91 |       NA |\n",
       "| 4 | 28004 | Universidad | Loft      | Entire home/apt | 3 | 2 | 1 | 1 | Real Bed | TV,Internet,Wireless Internet,Air conditioning,Kitchen,Pets allowed,Breakfast,Elevator in building,Indoor fireplace,Buzzer/wireless intercom,Heating,Washer,Essentials,Shampoo,Hangers,Hair dryer,Iron,Laptop friendly workspace,translation missing: en.hosting_amenity_49,translation missing: en.hosting_amenity_50                                           |  NA | 60 | 100 |       NA |\n",
       "| 5 | 28015 | Universidad | Apartment | Entire home/apt | 5 | 1 | 1 | 1 | Real Bed | TV,Wireless Internet,Air conditioning,Kitchen,Smoking allowed,Pets allowed,Elevator in building,Heating,Family/kid friendly,Washer,Essentials,Iron                                                                                                                                                                                                               | 538 | 75 |  90 | 49.98181 |\n",
       "| 6 | 28004 | Universidad | Apartment | Entire home/apt | 2 | 1 | 0 | 1 | Real Bed | TV,Cable TV,Internet,Wireless Internet,Air conditioning,Wheelchair accessible,Kitchen,Doorman,Elevator in building,Buzzer/wireless intercom,Heating,Washer,Smoke detector,Carbon monoxide detector,First aid kit,Safety card,Fire extinguisher,Essentials,Shampoo,24-hour check-in,Hangers,Hair dryer,Iron,Laptop friendly workspace,Self Check-In,Doorman Entry |  NA | 55 |  95 |       NA |\n",
       "\n"
      ],
      "text/plain": [
       "  CodigoPostal Barrio      TipoPropiedad TipoAlquiler    MaxOcupantes NumBanyos\n",
       "1 28004        Universidad Apartment     Private room    2            2        \n",
       "2 28004        Universidad Apartment     Entire home/apt 6            1        \n",
       "3 28004        Universidad Apartment     Entire home/apt 3            1        \n",
       "4 28004        Universidad Loft          Entire home/apt 3            2        \n",
       "5 28015        Universidad Apartment     Entire home/apt 5            1        \n",
       "6 28004        Universidad Apartment     Entire home/apt 2            1        \n",
       "  NumDormitorios NumCamas TipoCama\n",
       "1 1              1        Real Bed\n",
       "2 3              5        Real Bed\n",
       "3 2              2        Real Bed\n",
       "4 1              1        Real Bed\n",
       "5 1              1        Real Bed\n",
       "6 0              1        Real Bed\n",
       "  Comodidades                                                                                                                                                                                                                                                                                                                                                     \n",
       "1 TV,Wireless Internet,Kitchen,Pets allowed,Pets live on this property,Buzzer/wireless intercom,Heating,Suitable for events,Washer,First aid kit,Essentials,Lock on bedroom door,Iron                                                                                                                                                                             \n",
       "2 TV,Internet,Wireless Internet,Air conditioning,Kitchen,Indoor fireplace,Heating,Family/kid friendly,Washer,Dryer,Smoke detector,Carbon monoxide detector,Essentials,Shampoo                                                                                                                                                                                     \n",
       "3 TV,Internet,Wireless Internet,Air conditioning,Kitchen,Doorman,Heating,Family/kid friendly,Washer,Essentials,Shampoo,Hangers,Hair dryer,Iron,Laptop friendly workspace                                                                                                                                                                                          \n",
       "4 TV,Internet,Wireless Internet,Air conditioning,Kitchen,Pets allowed,Breakfast,Elevator in building,Indoor fireplace,Buzzer/wireless intercom,Heating,Washer,Essentials,Shampoo,Hangers,Hair dryer,Iron,Laptop friendly workspace,translation missing: en.hosting_amenity_49,translation missing: en.hosting_amenity_50                                          \n",
       "5 TV,Wireless Internet,Air conditioning,Kitchen,Smoking allowed,Pets allowed,Elevator in building,Heating,Family/kid friendly,Washer,Essentials,Iron                                                                                                                                                                                                              \n",
       "6 TV,Cable TV,Internet,Wireless Internet,Air conditioning,Wheelchair accessible,Kitchen,Doorman,Elevator in building,Buzzer/wireless intercom,Heating,Washer,Smoke detector,Carbon monoxide detector,First aid kit,Safety card,Fire extinguisher,Essentials,Shampoo,24-hour check-in,Hangers,Hair dryer,Iron,Laptop friendly workspace,Self Check-In,Doorman Entry\n",
       "  PiesCuadrados Precio Puntuacion MetrosCuadrados\n",
       "1  NA           35      NA              NA       \n",
       "2  NA           92      96              NA       \n",
       "3  NA           55      91              NA       \n",
       "4  NA           60     100              NA       \n",
       "5 538           75      90        49.98181       \n",
       "6  NA           55      95              NA       "
      ]
     },
     "metadata": {},
     "output_type": "display_data"
    }
   ],
   "source": [
    "head(airbnb)"
   ]
  },
  {
   "cell_type": "code",
   "execution_count": 768,
   "metadata": {},
   "outputs": [
    {
     "data": {
      "text/html": [
       "<table>\n",
       "<caption>A data.frame: 6 × 1</caption>\n",
       "<thead>\n",
       "\t<tr><th></th><th scope=col>CodigoPostal</th></tr>\n",
       "\t<tr><th></th><th scope=col>&lt;fct&gt;</th></tr>\n",
       "</thead>\n",
       "<tbody>\n",
       "\t<tr><th scope=row>1</th><td>28004</td></tr>\n",
       "\t<tr><th scope=row>2</th><td>28004</td></tr>\n",
       "\t<tr><th scope=row>3</th><td>28004</td></tr>\n",
       "\t<tr><th scope=row>4</th><td>28004</td></tr>\n",
       "\t<tr><th scope=row>5</th><td>28015</td></tr>\n",
       "\t<tr><th scope=row>6</th><td>28004</td></tr>\n",
       "</tbody>\n",
       "</table>\n"
      ],
      "text/latex": [
       "A data.frame: 6 × 1\n",
       "\\begin{tabular}{r|l}\n",
       "  & CodigoPostal\\\\\n",
       "  & <fct>\\\\\n",
       "\\hline\n",
       "\t1 & 28004\\\\\n",
       "\t2 & 28004\\\\\n",
       "\t3 & 28004\\\\\n",
       "\t4 & 28004\\\\\n",
       "\t5 & 28015\\\\\n",
       "\t6 & 28004\\\\\n",
       "\\end{tabular}\n"
      ],
      "text/markdown": [
       "\n",
       "A data.frame: 6 × 1\n",
       "\n",
       "| <!--/--> | CodigoPostal &lt;fct&gt; |\n",
       "|---|---|\n",
       "| 1 | 28004 |\n",
       "| 2 | 28004 |\n",
       "| 3 | 28004 |\n",
       "| 4 | 28004 |\n",
       "| 5 | 28015 |\n",
       "| 6 | 28004 |\n",
       "\n"
      ],
      "text/plain": [
       "  CodigoPostal\n",
       "1 28004       \n",
       "2 28004       \n",
       "3 28004       \n",
       "4 28004       \n",
       "5 28015       \n",
       "6 28004       "
      ]
     },
     "metadata": {},
     "output_type": "display_data"
    }
   ],
   "source": [
    "head(airbnb[\"CodigoPostal\"])"
   ]
  },
  {
   "cell_type": "code",
   "execution_count": 769,
   "metadata": {
    "scrolled": true
   },
   "outputs": [
    {
     "data": {
      "text/html": [
       "<style>\n",
       ".dl-inline {width: auto; margin:0; padding: 0}\n",
       ".dl-inline>dt, .dl-inline>dd {float: none; width: auto; display: inline-block}\n",
       ".dl-inline>dt::after {content: \":\\0020\"; padding-right: .5ex}\n",
       ".dl-inline>dt:not(:first-of-type) {padding-left: .5ex}\n",
       "</style><dl class=dl-inline><dt>1</dt><dd>439</dd><dt>-</dt><dd>1</dd><dt>20013</dt><dd>1</dd><dt>20126</dt><dd>1</dd><dt>2015</dt><dd>1</dd><dt>25008</dt><dd>1</dd><dt>27004</dt><dd>1</dd><dt>27013</dt><dd>1</dd><dt>28</dt><dd>1</dd><dt>28001</dt><dd>231</dd><dt>280013</dt><dd>1</dd><dt>28002</dt><dd>170</dd><dt>28002\n",
       "28002</dt><dd>1</dd><dt>28003</dt><dd>185</dd><dt>28004</dt><dd>1794</dd><dt>28005</dt><dd>1194</dd><dt>28006</dt><dd>218</dd><dt>28007</dt><dd>206</dd><dt>28008</dt><dd>338</dd><dt>28009</dt><dd>216</dd><dt>28010</dt><dd>384</dd><dt>28011</dt><dd>250</dd><dt>28012</dt><dd>2060</dd><dt>28013</dt><dd>1019</dd><dt>28014</dt><dd>630</dd><dt>28015</dt><dd>600</dd><dt>28016</dt><dd>76</dd><dt>28017</dt><dd>107</dd><dt>28018</dt><dd>43</dd><dt>28019</dt><dd>200</dd><dt>28020</dt><dd>192</dd><dt>28021</dt><dd>58</dd><dt>28022</dt><dd>30</dd><dt>28023</dt><dd>23</dd><dt>28024</dt><dd>44</dd><dt>28025</dt><dd>123</dd><dt>28026</dt><dd>93</dd><dt>28027</dt><dd>122</dd><dt>28028</dt><dd>263</dd><dt>28029</dt><dd>110</dd><dt>28030</dt><dd>73</dd><dt>28031</dt><dd>27</dd><dt>28032</dt><dd>33</dd><dt>28033</dt><dd>89</dd><dt>28034</dt><dd>45</dd><dt>28035</dt><dd>59</dd><dt>28036</dt><dd>67</dd><dt>28037</dt><dd>65</dd><dt>28038</dt><dd>77</dd><dt>28039</dt><dd>160</dd><dt>2804</dt><dd>1</dd><dt>28040</dt><dd>16</dd><dt>28041</dt><dd>63</dd><dt>28042</dt><dd>90</dd><dt>28043</dt><dd>103</dd><dt>28044</dt><dd>19</dd><dt>28045</dt><dd>495</dd><dt>28046</dt><dd>32</dd><dt>28047</dt><dd>67</dd><dt>28048</dt><dd>1</dd><dt>28049</dt><dd>3</dd><dt>2805</dt><dd>1</dd><dt>28050</dt><dd>58</dd><dt>28051</dt><dd>16</dd><dt>28051\n",
       "28051</dt><dd>1</dd><dt>28052</dt><dd>1</dd><dt>28053</dt><dd>85</dd><dt>28054</dt><dd>12</dd><dt>28055</dt><dd>12</dd><dt>28056</dt><dd>1</dd><dt>28058</dt><dd>1</dd><dt>28060</dt><dd>1</dd><dt>28094</dt><dd>1</dd><dt>28105</dt><dd>1</dd><dt>2815</dt><dd>1</dd><dt>28850</dt><dd>1</dd><dt>Madrid 28004</dt><dd>1</dd></dl>\n"
      ],
      "text/latex": [
       "\\begin{description*}\n",
       "\\item[1] 439\n",
       "\\item[-] 1\n",
       "\\item[20013] 1\n",
       "\\item[20126] 1\n",
       "\\item[2015] 1\n",
       "\\item[25008] 1\n",
       "\\item[27004] 1\n",
       "\\item[27013] 1\n",
       "\\item[28] 1\n",
       "\\item[28001] 231\n",
       "\\item[280013] 1\n",
       "\\item[28002] 170\n",
       "\\item[28002\n",
       "28002] 1\n",
       "\\item[28003] 185\n",
       "\\item[28004] 1794\n",
       "\\item[28005] 1194\n",
       "\\item[28006] 218\n",
       "\\item[28007] 206\n",
       "\\item[28008] 338\n",
       "\\item[28009] 216\n",
       "\\item[28010] 384\n",
       "\\item[28011] 250\n",
       "\\item[28012] 2060\n",
       "\\item[28013] 1019\n",
       "\\item[28014] 630\n",
       "\\item[28015] 600\n",
       "\\item[28016] 76\n",
       "\\item[28017] 107\n",
       "\\item[28018] 43\n",
       "\\item[28019] 200\n",
       "\\item[28020] 192\n",
       "\\item[28021] 58\n",
       "\\item[28022] 30\n",
       "\\item[28023] 23\n",
       "\\item[28024] 44\n",
       "\\item[28025] 123\n",
       "\\item[28026] 93\n",
       "\\item[28027] 122\n",
       "\\item[28028] 263\n",
       "\\item[28029] 110\n",
       "\\item[28030] 73\n",
       "\\item[28031] 27\n",
       "\\item[28032] 33\n",
       "\\item[28033] 89\n",
       "\\item[28034] 45\n",
       "\\item[28035] 59\n",
       "\\item[28036] 67\n",
       "\\item[28037] 65\n",
       "\\item[28038] 77\n",
       "\\item[28039] 160\n",
       "\\item[2804] 1\n",
       "\\item[28040] 16\n",
       "\\item[28041] 63\n",
       "\\item[28042] 90\n",
       "\\item[28043] 103\n",
       "\\item[28044] 19\n",
       "\\item[28045] 495\n",
       "\\item[28046] 32\n",
       "\\item[28047] 67\n",
       "\\item[28048] 1\n",
       "\\item[28049] 3\n",
       "\\item[2805] 1\n",
       "\\item[28050] 58\n",
       "\\item[28051] 16\n",
       "\\item[28051\n",
       "28051] 1\n",
       "\\item[28052] 1\n",
       "\\item[28053] 85\n",
       "\\item[28054] 12\n",
       "\\item[28055] 12\n",
       "\\item[28056] 1\n",
       "\\item[28058] 1\n",
       "\\item[28060] 1\n",
       "\\item[28094] 1\n",
       "\\item[28105] 1\n",
       "\\item[2815] 1\n",
       "\\item[28850] 1\n",
       "\\item[Madrid 28004] 1\n",
       "\\end{description*}\n"
      ],
      "text/markdown": [
       "1\n",
       ":   439-\n",
       ":   120013\n",
       ":   120126\n",
       ":   12015\n",
       ":   125008\n",
       ":   127004\n",
       ":   127013\n",
       ":   128\n",
       ":   128001\n",
       ":   231280013\n",
       ":   128002\n",
       ":   17028002\n",
       "28002\n",
       ":   128003\n",
       ":   18528004\n",
       ":   179428005\n",
       ":   119428006\n",
       ":   21828007\n",
       ":   20628008\n",
       ":   33828009\n",
       ":   21628010\n",
       ":   38428011\n",
       ":   25028012\n",
       ":   206028013\n",
       ":   101928014\n",
       ":   63028015\n",
       ":   60028016\n",
       ":   7628017\n",
       ":   10728018\n",
       ":   4328019\n",
       ":   20028020\n",
       ":   19228021\n",
       ":   5828022\n",
       ":   3028023\n",
       ":   2328024\n",
       ":   4428025\n",
       ":   12328026\n",
       ":   9328027\n",
       ":   12228028\n",
       ":   26328029\n",
       ":   11028030\n",
       ":   7328031\n",
       ":   2728032\n",
       ":   3328033\n",
       ":   8928034\n",
       ":   4528035\n",
       ":   5928036\n",
       ":   6728037\n",
       ":   6528038\n",
       ":   7728039\n",
       ":   1602804\n",
       ":   128040\n",
       ":   1628041\n",
       ":   6328042\n",
       ":   9028043\n",
       ":   10328044\n",
       ":   1928045\n",
       ":   49528046\n",
       ":   3228047\n",
       ":   6728048\n",
       ":   128049\n",
       ":   32805\n",
       ":   128050\n",
       ":   5828051\n",
       ":   1628051\n",
       "28051\n",
       ":   128052\n",
       ":   128053\n",
       ":   8528054\n",
       ":   1228055\n",
       ":   1228056\n",
       ":   128058\n",
       ":   128060\n",
       ":   128094\n",
       ":   128105\n",
       ":   12815\n",
       ":   128850\n",
       ":   1Madrid 28004\n",
       ":   1\n",
       "\n"
      ],
      "text/plain": [
       "                        -        20013        20126         2015        25008 \n",
       "         439            1            1            1            1            1 \n",
       "       27004        27013           28        28001       280013        28002 \n",
       "           1            1            1          231            1          170 \n",
       "28002\\n28002        28003        28004        28005        28006        28007 \n",
       "           1          185         1794         1194          218          206 \n",
       "       28008        28009        28010        28011        28012        28013 \n",
       "         338          216          384          250         2060         1019 \n",
       "       28014        28015        28016        28017        28018        28019 \n",
       "         630          600           76          107           43          200 \n",
       "       28020        28021        28022        28023        28024        28025 \n",
       "         192           58           30           23           44          123 \n",
       "       28026        28027        28028        28029        28030        28031 \n",
       "          93          122          263          110           73           27 \n",
       "       28032        28033        28034        28035        28036        28037 \n",
       "          33           89           45           59           67           65 \n",
       "       28038        28039         2804        28040        28041        28042 \n",
       "          77          160            1           16           63           90 \n",
       "       28043        28044        28045        28046        28047        28048 \n",
       "         103           19          495           32           67            1 \n",
       "       28049         2805        28050        28051 28051\\n28051        28052 \n",
       "           3            1           58           16            1            1 \n",
       "       28053        28054        28055        28056        28058        28060 \n",
       "          85           12           12            1            1            1 \n",
       "       28094        28105         2815        28850 Madrid 28004 \n",
       "           1            1            1            1            1 "
      ]
     },
     "metadata": {},
     "output_type": "display_data"
    }
   ],
   "source": [
    "summary(airbnb$CodigoPostal)"
   ]
  },
  {
   "cell_type": "raw",
   "metadata": {},
   "source": [
    "\n",
    "\n",
    "Miremos el código postal. Es una variable con entradas erroneas.\n",
    "Hay valores como '', '-'  y '28' que deberían ser considerados como NA.\n",
    "Así mismo también debería ser NA todos los que no compiencen por 28, ya que estamos con códigos postales de Madrid\n",
    "\n",
    "El código postal 28002, 28004 y 28051 tienen entradas repetidas. \n",
    "Por ejemplo las entradas 28002\\n20882 deberían ir dnetro de 28002\n",
    "\n",
    "El codigo 2804 debería ser 28004, 2805 deberia ser 28005 y 2815 juncto con 2815 debería ser 28015\n",
    "\n",
    "Limpia los datos de la columna Codigo Postal"
   ]
  },
  {
   "cell_type": "code",
   "execution_count": 770,
   "metadata": {},
   "outputs": [
    {
     "data": {
      "text/html": [
       "<style>\n",
       ".dl-inline {width: auto; margin:0; padding: 0}\n",
       ".dl-inline>dt, .dl-inline>dd {float: none; width: auto; display: inline-block}\n",
       ".dl-inline>dt::after {content: \":\\0020\"; padding-right: .5ex}\n",
       ".dl-inline>dt:not(:first-of-type) {padding-left: .5ex}\n",
       "</style><dl class=dl-inline><dt>1</dt><dd>0</dd><dt>-</dt><dd>0</dd><dt>20013</dt><dd>0</dd><dt>20126</dt><dd>0</dd><dt>2015</dt><dd>0</dd><dt>25008</dt><dd>0</dd><dt>27004</dt><dd>0</dd><dt>27013</dt><dd>0</dd><dt>28</dt><dd>0</dd><dt>28001</dt><dd>231</dd><dt>280013</dt><dd>1</dd><dt>28002</dt><dd>171</dd><dt>28002\n",
       "28002</dt><dd>0</dd><dt>28003</dt><dd>185</dd><dt>28004</dt><dd>1796</dd><dt>28005</dt><dd>1195</dd><dt>28006</dt><dd>218</dd><dt>28007</dt><dd>206</dd><dt>28008</dt><dd>338</dd><dt>28009</dt><dd>216</dd><dt>28010</dt><dd>384</dd><dt>28011</dt><dd>250</dd><dt>28012</dt><dd>2060</dd><dt>28013</dt><dd>1019</dd><dt>28014</dt><dd>630</dd><dt>28015</dt><dd>602</dd><dt>28016</dt><dd>76</dd><dt>28017</dt><dd>107</dd><dt>28018</dt><dd>43</dd><dt>28019</dt><dd>200</dd><dt>28020</dt><dd>192</dd><dt>28021</dt><dd>58</dd><dt>28022</dt><dd>30</dd><dt>28023</dt><dd>23</dd><dt>28024</dt><dd>44</dd><dt>28025</dt><dd>123</dd><dt>28026</dt><dd>93</dd><dt>28027</dt><dd>122</dd><dt>28028</dt><dd>263</dd><dt>28029</dt><dd>110</dd><dt>28030</dt><dd>73</dd><dt>28031</dt><dd>27</dd><dt>28032</dt><dd>33</dd><dt>28033</dt><dd>89</dd><dt>28034</dt><dd>45</dd><dt>28035</dt><dd>59</dd><dt>28036</dt><dd>67</dd><dt>28037</dt><dd>65</dd><dt>28038</dt><dd>77</dd><dt>28039</dt><dd>160</dd><dt>2804</dt><dd>0</dd><dt>28040</dt><dd>16</dd><dt>28041</dt><dd>63</dd><dt>28042</dt><dd>90</dd><dt>28043</dt><dd>103</dd><dt>28044</dt><dd>19</dd><dt>28045</dt><dd>495</dd><dt>28046</dt><dd>32</dd><dt>28047</dt><dd>67</dd><dt>28048</dt><dd>1</dd><dt>28049</dt><dd>3</dd><dt>2805</dt><dd>0</dd><dt>28050</dt><dd>58</dd><dt>28051</dt><dd>17</dd><dt>28051\n",
       "28051</dt><dd>0</dd><dt>28052</dt><dd>1</dd><dt>28053</dt><dd>85</dd><dt>28054</dt><dd>12</dd><dt>28055</dt><dd>12</dd><dt>28056</dt><dd>1</dd><dt>28058</dt><dd>1</dd><dt>28060</dt><dd>1</dd><dt>28094</dt><dd>1</dd><dt>28105</dt><dd>1</dd><dt>2815</dt><dd>0</dd><dt>28850</dt><dd>1</dd><dt>Madrid 28004</dt><dd>0</dd><dt>NA's</dt><dd>446</dd></dl>\n"
      ],
      "text/latex": [
       "\\begin{description*}\n",
       "\\item[1] 0\n",
       "\\item[-] 0\n",
       "\\item[20013] 0\n",
       "\\item[20126] 0\n",
       "\\item[2015] 0\n",
       "\\item[25008] 0\n",
       "\\item[27004] 0\n",
       "\\item[27013] 0\n",
       "\\item[28] 0\n",
       "\\item[28001] 231\n",
       "\\item[280013] 1\n",
       "\\item[28002] 171\n",
       "\\item[28002\n",
       "28002] 0\n",
       "\\item[28003] 185\n",
       "\\item[28004] 1796\n",
       "\\item[28005] 1195\n",
       "\\item[28006] 218\n",
       "\\item[28007] 206\n",
       "\\item[28008] 338\n",
       "\\item[28009] 216\n",
       "\\item[28010] 384\n",
       "\\item[28011] 250\n",
       "\\item[28012] 2060\n",
       "\\item[28013] 1019\n",
       "\\item[28014] 630\n",
       "\\item[28015] 602\n",
       "\\item[28016] 76\n",
       "\\item[28017] 107\n",
       "\\item[28018] 43\n",
       "\\item[28019] 200\n",
       "\\item[28020] 192\n",
       "\\item[28021] 58\n",
       "\\item[28022] 30\n",
       "\\item[28023] 23\n",
       "\\item[28024] 44\n",
       "\\item[28025] 123\n",
       "\\item[28026] 93\n",
       "\\item[28027] 122\n",
       "\\item[28028] 263\n",
       "\\item[28029] 110\n",
       "\\item[28030] 73\n",
       "\\item[28031] 27\n",
       "\\item[28032] 33\n",
       "\\item[28033] 89\n",
       "\\item[28034] 45\n",
       "\\item[28035] 59\n",
       "\\item[28036] 67\n",
       "\\item[28037] 65\n",
       "\\item[28038] 77\n",
       "\\item[28039] 160\n",
       "\\item[2804] 0\n",
       "\\item[28040] 16\n",
       "\\item[28041] 63\n",
       "\\item[28042] 90\n",
       "\\item[28043] 103\n",
       "\\item[28044] 19\n",
       "\\item[28045] 495\n",
       "\\item[28046] 32\n",
       "\\item[28047] 67\n",
       "\\item[28048] 1\n",
       "\\item[28049] 3\n",
       "\\item[2805] 0\n",
       "\\item[28050] 58\n",
       "\\item[28051] 17\n",
       "\\item[28051\n",
       "28051] 0\n",
       "\\item[28052] 1\n",
       "\\item[28053] 85\n",
       "\\item[28054] 12\n",
       "\\item[28055] 12\n",
       "\\item[28056] 1\n",
       "\\item[28058] 1\n",
       "\\item[28060] 1\n",
       "\\item[28094] 1\n",
       "\\item[28105] 1\n",
       "\\item[2815] 0\n",
       "\\item[28850] 1\n",
       "\\item[Madrid 28004] 0\n",
       "\\item[NA's] 446\n",
       "\\end{description*}\n"
      ],
      "text/markdown": [
       "1\n",
       ":   0-\n",
       ":   020013\n",
       ":   020126\n",
       ":   02015\n",
       ":   025008\n",
       ":   027004\n",
       ":   027013\n",
       ":   028\n",
       ":   028001\n",
       ":   231280013\n",
       ":   128002\n",
       ":   17128002\n",
       "28002\n",
       ":   028003\n",
       ":   18528004\n",
       ":   179628005\n",
       ":   119528006\n",
       ":   21828007\n",
       ":   20628008\n",
       ":   33828009\n",
       ":   21628010\n",
       ":   38428011\n",
       ":   25028012\n",
       ":   206028013\n",
       ":   101928014\n",
       ":   63028015\n",
       ":   60228016\n",
       ":   7628017\n",
       ":   10728018\n",
       ":   4328019\n",
       ":   20028020\n",
       ":   19228021\n",
       ":   5828022\n",
       ":   3028023\n",
       ":   2328024\n",
       ":   4428025\n",
       ":   12328026\n",
       ":   9328027\n",
       ":   12228028\n",
       ":   26328029\n",
       ":   11028030\n",
       ":   7328031\n",
       ":   2728032\n",
       ":   3328033\n",
       ":   8928034\n",
       ":   4528035\n",
       ":   5928036\n",
       ":   6728037\n",
       ":   6528038\n",
       ":   7728039\n",
       ":   1602804\n",
       ":   028040\n",
       ":   1628041\n",
       ":   6328042\n",
       ":   9028043\n",
       ":   10328044\n",
       ":   1928045\n",
       ":   49528046\n",
       ":   3228047\n",
       ":   6728048\n",
       ":   128049\n",
       ":   32805\n",
       ":   028050\n",
       ":   5828051\n",
       ":   1728051\n",
       "28051\n",
       ":   028052\n",
       ":   128053\n",
       ":   8528054\n",
       ":   1228055\n",
       ":   1228056\n",
       ":   128058\n",
       ":   128060\n",
       ":   128094\n",
       ":   128105\n",
       ":   12815\n",
       ":   028850\n",
       ":   1Madrid 28004\n",
       ":   0NA's\n",
       ":   446\n",
       "\n"
      ],
      "text/plain": [
       "                        -        20013        20126         2015        25008 \n",
       "           0            0            0            0            0            0 \n",
       "       27004        27013           28        28001       280013        28002 \n",
       "           0            0            0          231            1          171 \n",
       "28002\\n28002        28003        28004        28005        28006        28007 \n",
       "           0          185         1796         1195          218          206 \n",
       "       28008        28009        28010        28011        28012        28013 \n",
       "         338          216          384          250         2060         1019 \n",
       "       28014        28015        28016        28017        28018        28019 \n",
       "         630          602           76          107           43          200 \n",
       "       28020        28021        28022        28023        28024        28025 \n",
       "         192           58           30           23           44          123 \n",
       "       28026        28027        28028        28029        28030        28031 \n",
       "          93          122          263          110           73           27 \n",
       "       28032        28033        28034        28035        28036        28037 \n",
       "          33           89           45           59           67           65 \n",
       "       28038        28039         2804        28040        28041        28042 \n",
       "          77          160            0           16           63           90 \n",
       "       28043        28044        28045        28046        28047        28048 \n",
       "         103           19          495           32           67            1 \n",
       "       28049         2805        28050        28051 28051\\n28051        28052 \n",
       "           3            0           58           17            0            1 \n",
       "       28053        28054        28055        28056        28058        28060 \n",
       "          85           12           12            1            1            1 \n",
       "       28094        28105         2815        28850 Madrid 28004         NA's \n",
       "           1            1            0            1            0          446 "
      ]
     },
     "metadata": {},
     "output_type": "display_data"
    }
   ],
   "source": [
    "airbnb$CodigoPostal[airbnb$CodigoPostal=='']<-NA\n",
    "airbnb$CodigoPostal[airbnb$CodigoPostal==\"-\"]<-NA\n",
    "airbnb$CodigoPostal[airbnb$CodigoPostal==\"28\"]<-NA\n",
    "airbnb$CodigoPostal[grepl(\" \",airbnb$CodigoPostal)]<-\"28004\"\n",
    "airbnb$CodigoPostal[airbnb$CodigoPostal==\"2015\"]<-\"28015\"\n",
    "airbnb$CodigoPostal[substring(airbnb$CodigoPostal, 1,2)!='28'] <- NA\n",
    "\n",
    "airbnb$CodigoPostal[airbnb$CodigoPostal==\"28002\\n28002\"]<-\"28002\"\n",
    "airbnb$CodigoPostal[airbnb$CodigoPostal==\"28004\\n28004\"]<-\"28004\"\n",
    "airbnb$CodigoPostal[airbnb$CodigoPostal==\"28051\\n28051\"]<-\"28051\"\n",
    "\n",
    "airbnb$CodigoPostal[airbnb$CodigoPostal==\"2804\"]<-\"28004\"\n",
    "airbnb$CodigoPostal[airbnb$CodigoPostal==\"2805\"]<-\"28005\"\n",
    "airbnb$CodigoPostal[airbnb$CodigoPostal==\"2815\"]<-\"28015\"\n",
    "\n",
    "\n",
    "summary(airbnb$CodigoPostal)"
   ]
  },
  {
   "cell_type": "code",
   "execution_count": 771,
   "metadata": {},
   "outputs": [
    {
     "data": {
      "text/html": [
       "<style>\n",
       ".dl-inline {width: auto; margin:0; padding: 0}\n",
       ".dl-inline>dt, .dl-inline>dd {float: none; width: auto; display: inline-block}\n",
       ".dl-inline>dt::after {content: \":\\0020\"; padding-right: .5ex}\n",
       ".dl-inline>dt:not(:first-of-type) {padding-left: .5ex}\n",
       "</style><dl class=dl-inline><dt>28001</dt><dd>231</dd><dt>280013</dt><dd>1</dd><dt>28002</dt><dd>171</dd><dt>28003</dt><dd>185</dd><dt>28004</dt><dd>1796</dd><dt>28005</dt><dd>1195</dd><dt>28006</dt><dd>218</dd><dt>28007</dt><dd>206</dd><dt>28008</dt><dd>338</dd><dt>28009</dt><dd>216</dd><dt>28010</dt><dd>384</dd><dt>28011</dt><dd>250</dd><dt>28012</dt><dd>2060</dd><dt>28013</dt><dd>1019</dd><dt>28014</dt><dd>630</dd><dt>28015</dt><dd>602</dd><dt>28016</dt><dd>76</dd><dt>28017</dt><dd>107</dd><dt>28018</dt><dd>43</dd><dt>28019</dt><dd>200</dd><dt>28020</dt><dd>192</dd><dt>28021</dt><dd>58</dd><dt>28022</dt><dd>30</dd><dt>28023</dt><dd>23</dd><dt>28024</dt><dd>44</dd><dt>28025</dt><dd>123</dd><dt>28026</dt><dd>93</dd><dt>28027</dt><dd>122</dd><dt>28028</dt><dd>263</dd><dt>28029</dt><dd>110</dd><dt>28030</dt><dd>73</dd><dt>28031</dt><dd>27</dd><dt>28032</dt><dd>33</dd><dt>28033</dt><dd>89</dd><dt>28034</dt><dd>45</dd><dt>28035</dt><dd>59</dd><dt>28036</dt><dd>67</dd><dt>28037</dt><dd>65</dd><dt>28038</dt><dd>77</dd><dt>28039</dt><dd>160</dd><dt>28040</dt><dd>16</dd><dt>28041</dt><dd>63</dd><dt>28042</dt><dd>90</dd><dt>28043</dt><dd>103</dd><dt>28044</dt><dd>19</dd><dt>28045</dt><dd>495</dd><dt>28046</dt><dd>32</dd><dt>28047</dt><dd>67</dd><dt>28048</dt><dd>1</dd><dt>28049</dt><dd>3</dd><dt>28050</dt><dd>58</dd><dt>28051</dt><dd>17</dd><dt>28052</dt><dd>1</dd><dt>28053</dt><dd>85</dd><dt>28054</dt><dd>12</dd><dt>28055</dt><dd>12</dd><dt>28056</dt><dd>1</dd><dt>28058</dt><dd>1</dd><dt>28060</dt><dd>1</dd><dt>28094</dt><dd>1</dd><dt>28105</dt><dd>1</dd><dt>28850</dt><dd>1</dd><dt>NA's</dt><dd>446</dd></dl>\n"
      ],
      "text/latex": [
       "\\begin{description*}\n",
       "\\item[28001] 231\n",
       "\\item[280013] 1\n",
       "\\item[28002] 171\n",
       "\\item[28003] 185\n",
       "\\item[28004] 1796\n",
       "\\item[28005] 1195\n",
       "\\item[28006] 218\n",
       "\\item[28007] 206\n",
       "\\item[28008] 338\n",
       "\\item[28009] 216\n",
       "\\item[28010] 384\n",
       "\\item[28011] 250\n",
       "\\item[28012] 2060\n",
       "\\item[28013] 1019\n",
       "\\item[28014] 630\n",
       "\\item[28015] 602\n",
       "\\item[28016] 76\n",
       "\\item[28017] 107\n",
       "\\item[28018] 43\n",
       "\\item[28019] 200\n",
       "\\item[28020] 192\n",
       "\\item[28021] 58\n",
       "\\item[28022] 30\n",
       "\\item[28023] 23\n",
       "\\item[28024] 44\n",
       "\\item[28025] 123\n",
       "\\item[28026] 93\n",
       "\\item[28027] 122\n",
       "\\item[28028] 263\n",
       "\\item[28029] 110\n",
       "\\item[28030] 73\n",
       "\\item[28031] 27\n",
       "\\item[28032] 33\n",
       "\\item[28033] 89\n",
       "\\item[28034] 45\n",
       "\\item[28035] 59\n",
       "\\item[28036] 67\n",
       "\\item[28037] 65\n",
       "\\item[28038] 77\n",
       "\\item[28039] 160\n",
       "\\item[28040] 16\n",
       "\\item[28041] 63\n",
       "\\item[28042] 90\n",
       "\\item[28043] 103\n",
       "\\item[28044] 19\n",
       "\\item[28045] 495\n",
       "\\item[28046] 32\n",
       "\\item[28047] 67\n",
       "\\item[28048] 1\n",
       "\\item[28049] 3\n",
       "\\item[28050] 58\n",
       "\\item[28051] 17\n",
       "\\item[28052] 1\n",
       "\\item[28053] 85\n",
       "\\item[28054] 12\n",
       "\\item[28055] 12\n",
       "\\item[28056] 1\n",
       "\\item[28058] 1\n",
       "\\item[28060] 1\n",
       "\\item[28094] 1\n",
       "\\item[28105] 1\n",
       "\\item[28850] 1\n",
       "\\item[NA's] 446\n",
       "\\end{description*}\n"
      ],
      "text/markdown": [
       "28001\n",
       ":   231280013\n",
       ":   128002\n",
       ":   17128003\n",
       ":   18528004\n",
       ":   179628005\n",
       ":   119528006\n",
       ":   21828007\n",
       ":   20628008\n",
       ":   33828009\n",
       ":   21628010\n",
       ":   38428011\n",
       ":   25028012\n",
       ":   206028013\n",
       ":   101928014\n",
       ":   63028015\n",
       ":   60228016\n",
       ":   7628017\n",
       ":   10728018\n",
       ":   4328019\n",
       ":   20028020\n",
       ":   19228021\n",
       ":   5828022\n",
       ":   3028023\n",
       ":   2328024\n",
       ":   4428025\n",
       ":   12328026\n",
       ":   9328027\n",
       ":   12228028\n",
       ":   26328029\n",
       ":   11028030\n",
       ":   7328031\n",
       ":   2728032\n",
       ":   3328033\n",
       ":   8928034\n",
       ":   4528035\n",
       ":   5928036\n",
       ":   6728037\n",
       ":   6528038\n",
       ":   7728039\n",
       ":   16028040\n",
       ":   1628041\n",
       ":   6328042\n",
       ":   9028043\n",
       ":   10328044\n",
       ":   1928045\n",
       ":   49528046\n",
       ":   3228047\n",
       ":   6728048\n",
       ":   128049\n",
       ":   328050\n",
       ":   5828051\n",
       ":   1728052\n",
       ":   128053\n",
       ":   8528054\n",
       ":   1228055\n",
       ":   1228056\n",
       ":   128058\n",
       ":   128060\n",
       ":   128094\n",
       ":   128105\n",
       ":   128850\n",
       ":   1NA's\n",
       ":   446\n",
       "\n"
      ],
      "text/plain": [
       " 28001 280013  28002  28003  28004  28005  28006  28007  28008  28009  28010 \n",
       "   231      1    171    185   1796   1195    218    206    338    216    384 \n",
       " 28011  28012  28013  28014  28015  28016  28017  28018  28019  28020  28021 \n",
       "   250   2060   1019    630    602     76    107     43    200    192     58 \n",
       " 28022  28023  28024  28025  28026  28027  28028  28029  28030  28031  28032 \n",
       "    30     23     44    123     93    122    263    110     73     27     33 \n",
       " 28033  28034  28035  28036  28037  28038  28039  28040  28041  28042  28043 \n",
       "    89     45     59     67     65     77    160     16     63     90    103 \n",
       " 28044  28045  28046  28047  28048  28049  28050  28051  28052  28053  28054 \n",
       "    19    495     32     67      1      3     58     17      1     85     12 \n",
       " 28055  28056  28058  28060  28094  28105  28850   NA's \n",
       "    12      1      1      1      1      1      1    446 "
      ]
     },
     "metadata": {},
     "output_type": "display_data"
    }
   ],
   "source": [
    "airbnb$CodigoPostal<-factor(airbnb$CodigoPostal)\n",
    "summary(airbnb$CodigoPostal)"
   ]
  },
  {
   "cell_type": "code",
   "execution_count": 772,
   "metadata": {},
   "outputs": [
    {
     "data": {
      "text/plain": [
       "  CodigoPostal          Barrio             TipoPropiedad  \n",
       " 28012  :2060   Embajadores:1844   Apartment      :10888  \n",
       " 28004  :1796   Universidad:1358   House          :  966  \n",
       " 28005  :1195   Palacio    :1083   Condominium    :  345  \n",
       " 28013  :1019   Sol        : 940   Bed & Breakfast:  337  \n",
       " 28014  : 630   Justicia   : 785   Loft           :  283  \n",
       " (Other):6061   Cortes     : 750   Other          :  220  \n",
       " NA's   : 446   (Other)    :6447   (Other)        :  168  \n",
       "          TipoAlquiler   MaxOcupantes      NumBanyos     NumDormitorios  \n",
       " Entire home/apt:7903   Min.   : 1.000   Min.   :0.000   Min.   : 0.000  \n",
       " Private room   :5113   1st Qu.: 2.000   1st Qu.:1.000   1st Qu.: 1.000  \n",
       " Shared room    : 191   Median : 2.000   Median :1.000   Median : 1.000  \n",
       "                        Mean   : 3.191   Mean   :1.253   Mean   : 1.294  \n",
       "                        3rd Qu.: 4.000   3rd Qu.:1.000   3rd Qu.: 2.000  \n",
       "                        Max.   :16.000   Max.   :8.000   Max.   :10.000  \n",
       "                                         NA's   :49      NA's   :23      \n",
       "    NumCamas               TipoCama    \n",
       " Min.   : 1.000   Airbed       :    5  \n",
       " 1st Qu.: 1.000   Couch        :   15  \n",
       " Median : 2.000   Futon        :   35  \n",
       " Mean   : 1.986   Pull-out Sofa:  238  \n",
       " 3rd Qu.: 2.000   Real Bed     :12914  \n",
       " Max.   :16.000                        \n",
       " NA's   :49                            \n",
       "                                                                                                                                                                                                                        Comodidades   \n",
       "                                                                                                                                                                                                                              :  107  \n",
       " TV,Internet,Wireless Internet,Air conditioning,Kitchen,Elevator in building,Buzzer/wireless intercom,Heating,Family/kid friendly,Washer,Essentials,Hangers,Hair dryer,Iron,Laptop friendly workspace                         :   41  \n",
       " TV,Wireless Internet,Air conditioning,Kitchen,Elevator in building,Heating,Family/kid friendly,Washer,Dryer,Essentials,Shampoo,Hangers,Hair dryer,Iron                                                                       :   34  \n",
       " translation missing: en.hosting_amenity_49,translation missing: en.hosting_amenity_50                                                                                                                                        :   28  \n",
       " TV,Internet,Wireless Internet,Air conditioning,Kitchen,Elevator in building,Buzzer/wireless intercom,Heating,Family/kid friendly,Washer,Essentials,Shampoo,24-hour check-in,Hangers,Hair dryer,Iron,Laptop friendly workspace:   28  \n",
       " Wireless Internet,Heating,Fire extinguisher,Lock on bedroom door,translation missing: en.hosting_amenity_49,translation missing: en.hosting_amenity_50                                                                       :   25  \n",
       " (Other)                                                                                                                                                                                                                      :12944  \n",
       " PiesCuadrados       Precio         Puntuacion     MetrosCuadrados \n",
       " Min.   :   0    Min.   :  9.00   Min.   : 20.00   Min.   :  0.00  \n",
       " 1st Qu.:   0    1st Qu.: 31.00   1st Qu.: 88.00   1st Qu.:  0.00  \n",
       " Median : 108    Median : 52.00   Median : 94.00   Median : 10.03  \n",
       " Mean   : 378    Mean   : 65.92   Mean   : 91.62   Mean   : 35.12  \n",
       " 3rd Qu.: 646    3rd Qu.: 80.00   3rd Qu.: 98.00   3rd Qu.: 60.02  \n",
       " Max.   :5167    Max.   :875.00   Max.   :100.00   Max.   :480.03  \n",
       " NA's   :12688   NA's   :9        NA's   :2838     NA's   :12688   "
      ]
     },
     "metadata": {},
     "output_type": "display_data"
    }
   ],
   "source": [
    "summary(airbnb)"
   ]
  },
  {
   "cell_type": "markdown",
   "metadata": {},
   "source": [
    "Una vez limpios los datos ¿Cuales son los códigos postales que tenemos? "
   ]
  },
  {
   "cell_type": "code",
   "execution_count": 773,
   "metadata": {},
   "outputs": [
    {
     "data": {
      "text/html": [
       "<style>\n",
       ".dl-inline {width: auto; margin:0; padding: 0}\n",
       ".dl-inline>dt, .dl-inline>dd {float: none; width: auto; display: inline-block}\n",
       ".dl-inline>dt::after {content: \":\\0020\"; padding-right: .5ex}\n",
       ".dl-inline>dt:not(:first-of-type) {padding-left: .5ex}\n",
       "</style><dl class=dl-inline><dt>28001</dt><dd>231</dd><dt>280013</dt><dd>1</dd><dt>28002</dt><dd>171</dd><dt>28003</dt><dd>185</dd><dt>28004</dt><dd>1796</dd><dt>28005</dt><dd>1195</dd><dt>28006</dt><dd>218</dd><dt>28007</dt><dd>206</dd><dt>28008</dt><dd>338</dd><dt>28009</dt><dd>216</dd><dt>28010</dt><dd>384</dd><dt>28011</dt><dd>250</dd><dt>28012</dt><dd>2060</dd><dt>28013</dt><dd>1019</dd><dt>28014</dt><dd>630</dd><dt>28015</dt><dd>602</dd><dt>28016</dt><dd>76</dd><dt>28017</dt><dd>107</dd><dt>28018</dt><dd>43</dd><dt>28019</dt><dd>200</dd><dt>28020</dt><dd>192</dd><dt>28021</dt><dd>58</dd><dt>28022</dt><dd>30</dd><dt>28023</dt><dd>23</dd><dt>28024</dt><dd>44</dd><dt>28025</dt><dd>123</dd><dt>28026</dt><dd>93</dd><dt>28027</dt><dd>122</dd><dt>28028</dt><dd>263</dd><dt>28029</dt><dd>110</dd><dt>28030</dt><dd>73</dd><dt>28031</dt><dd>27</dd><dt>28032</dt><dd>33</dd><dt>28033</dt><dd>89</dd><dt>28034</dt><dd>45</dd><dt>28035</dt><dd>59</dd><dt>28036</dt><dd>67</dd><dt>28037</dt><dd>65</dd><dt>28038</dt><dd>77</dd><dt>28039</dt><dd>160</dd><dt>28040</dt><dd>16</dd><dt>28041</dt><dd>63</dd><dt>28042</dt><dd>90</dd><dt>28043</dt><dd>103</dd><dt>28044</dt><dd>19</dd><dt>28045</dt><dd>495</dd><dt>28046</dt><dd>32</dd><dt>28047</dt><dd>67</dd><dt>28048</dt><dd>1</dd><dt>28049</dt><dd>3</dd><dt>28050</dt><dd>58</dd><dt>28051</dt><dd>17</dd><dt>28052</dt><dd>1</dd><dt>28053</dt><dd>85</dd><dt>28054</dt><dd>12</dd><dt>28055</dt><dd>12</dd><dt>28056</dt><dd>1</dd><dt>28058</dt><dd>1</dd><dt>28060</dt><dd>1</dd><dt>28094</dt><dd>1</dd><dt>28105</dt><dd>1</dd><dt>28850</dt><dd>1</dd><dt>NA's</dt><dd>446</dd></dl>\n"
      ],
      "text/latex": [
       "\\begin{description*}\n",
       "\\item[28001] 231\n",
       "\\item[280013] 1\n",
       "\\item[28002] 171\n",
       "\\item[28003] 185\n",
       "\\item[28004] 1796\n",
       "\\item[28005] 1195\n",
       "\\item[28006] 218\n",
       "\\item[28007] 206\n",
       "\\item[28008] 338\n",
       "\\item[28009] 216\n",
       "\\item[28010] 384\n",
       "\\item[28011] 250\n",
       "\\item[28012] 2060\n",
       "\\item[28013] 1019\n",
       "\\item[28014] 630\n",
       "\\item[28015] 602\n",
       "\\item[28016] 76\n",
       "\\item[28017] 107\n",
       "\\item[28018] 43\n",
       "\\item[28019] 200\n",
       "\\item[28020] 192\n",
       "\\item[28021] 58\n",
       "\\item[28022] 30\n",
       "\\item[28023] 23\n",
       "\\item[28024] 44\n",
       "\\item[28025] 123\n",
       "\\item[28026] 93\n",
       "\\item[28027] 122\n",
       "\\item[28028] 263\n",
       "\\item[28029] 110\n",
       "\\item[28030] 73\n",
       "\\item[28031] 27\n",
       "\\item[28032] 33\n",
       "\\item[28033] 89\n",
       "\\item[28034] 45\n",
       "\\item[28035] 59\n",
       "\\item[28036] 67\n",
       "\\item[28037] 65\n",
       "\\item[28038] 77\n",
       "\\item[28039] 160\n",
       "\\item[28040] 16\n",
       "\\item[28041] 63\n",
       "\\item[28042] 90\n",
       "\\item[28043] 103\n",
       "\\item[28044] 19\n",
       "\\item[28045] 495\n",
       "\\item[28046] 32\n",
       "\\item[28047] 67\n",
       "\\item[28048] 1\n",
       "\\item[28049] 3\n",
       "\\item[28050] 58\n",
       "\\item[28051] 17\n",
       "\\item[28052] 1\n",
       "\\item[28053] 85\n",
       "\\item[28054] 12\n",
       "\\item[28055] 12\n",
       "\\item[28056] 1\n",
       "\\item[28058] 1\n",
       "\\item[28060] 1\n",
       "\\item[28094] 1\n",
       "\\item[28105] 1\n",
       "\\item[28850] 1\n",
       "\\item[NA's] 446\n",
       "\\end{description*}\n"
      ],
      "text/markdown": [
       "28001\n",
       ":   231280013\n",
       ":   128002\n",
       ":   17128003\n",
       ":   18528004\n",
       ":   179628005\n",
       ":   119528006\n",
       ":   21828007\n",
       ":   20628008\n",
       ":   33828009\n",
       ":   21628010\n",
       ":   38428011\n",
       ":   25028012\n",
       ":   206028013\n",
       ":   101928014\n",
       ":   63028015\n",
       ":   60228016\n",
       ":   7628017\n",
       ":   10728018\n",
       ":   4328019\n",
       ":   20028020\n",
       ":   19228021\n",
       ":   5828022\n",
       ":   3028023\n",
       ":   2328024\n",
       ":   4428025\n",
       ":   12328026\n",
       ":   9328027\n",
       ":   12228028\n",
       ":   26328029\n",
       ":   11028030\n",
       ":   7328031\n",
       ":   2728032\n",
       ":   3328033\n",
       ":   8928034\n",
       ":   4528035\n",
       ":   5928036\n",
       ":   6728037\n",
       ":   6528038\n",
       ":   7728039\n",
       ":   16028040\n",
       ":   1628041\n",
       ":   6328042\n",
       ":   9028043\n",
       ":   10328044\n",
       ":   1928045\n",
       ":   49528046\n",
       ":   3228047\n",
       ":   6728048\n",
       ":   128049\n",
       ":   328050\n",
       ":   5828051\n",
       ":   1728052\n",
       ":   128053\n",
       ":   8528054\n",
       ":   1228055\n",
       ":   1228056\n",
       ":   128058\n",
       ":   128060\n",
       ":   128094\n",
       ":   128105\n",
       ":   128850\n",
       ":   1NA's\n",
       ":   446\n",
       "\n"
      ],
      "text/plain": [
       " 28001 280013  28002  28003  28004  28005  28006  28007  28008  28009  28010 \n",
       "   231      1    171    185   1796   1195    218    206    338    216    384 \n",
       " 28011  28012  28013  28014  28015  28016  28017  28018  28019  28020  28021 \n",
       "   250   2060   1019    630    602     76    107     43    200    192     58 \n",
       " 28022  28023  28024  28025  28026  28027  28028  28029  28030  28031  28032 \n",
       "    30     23     44    123     93    122    263    110     73     27     33 \n",
       " 28033  28034  28035  28036  28037  28038  28039  28040  28041  28042  28043 \n",
       "    89     45     59     67     65     77    160     16     63     90    103 \n",
       " 28044  28045  28046  28047  28048  28049  28050  28051  28052  28053  28054 \n",
       "    19    495     32     67      1      3     58     17      1     85     12 \n",
       " 28055  28056  28058  28060  28094  28105  28850   NA's \n",
       "    12      1      1      1      1      1      1    446 "
      ]
     },
     "metadata": {},
     "output_type": "display_data"
    }
   ],
   "source": [
    "summary(airbnb$CodigoPostal)\n"
   ]
  },
  {
   "cell_type": "code",
   "execution_count": 774,
   "metadata": {},
   "outputs": [
    {
     "name": "stdout",
     "output_type": "stream",
     "text": [
      "[1] \"Total:  13207\"\n",
      "[1] \"Total de codigos postales:  63\"\n"
     ]
    }
   ],
   "source": [
    "print(paste(\"Total: \", length(airbnb$CodigoPostal)))\n",
    "print(paste(\"Total de codigos postales: \", length(unique(airbnb$CodigoPostal))))\n"
   ]
  },
  {
   "cell_type": "code",
   "execution_count": 775,
   "metadata": {},
   "outputs": [
    {
     "data": {
      "text/html": [
       "<style>\n",
       ".list-inline {list-style: none; margin:0; padding: 0}\n",
       ".list-inline>li {display: inline-block}\n",
       ".list-inline>li:not(:last-child)::after {content: \"\\00b7\"; padding: 0 .5ex}\n",
       "</style>\n",
       "<ol class=list-inline><li>28004</li><li>28015</li><li>28013</li><li>28005</li><li>28012</li><li>28014</li><li>28045</li><li>&lt;NA&gt;</li><li>28007</li><li>28028</li><li>28009</li><li>28001</li><li>28006</li><li>28010</li><li>28002</li><li>28034</li><li>28050</li><li>28008</li><li>28011</li><li>28049</li><li>28038</li><li>28053</li><li>28047</li><li>28025</li><li>28019</li><li>28024</li><li>28016</li><li>28036</li><li>28046</li><li>28039</li><li>28020</li><li>28003</li><li>28029</li><li>28054</li><li>28041</li><li>28026</li><li>28058</li><li>28018</li><li>28030</li><li>28017</li><li>28027</li><li>28043</li><li>28033</li><li>28055</li><li>28021</li><li>28032</li><li>28037</li><li>28022</li><li>28042</li><li>28094</li><li>280013</li><li>28035</li><li>28040</li><li>28031</li><li>28044</li><li>28105</li><li>28023</li><li>28051</li><li>28850</li><li>28048</li><li>28056</li><li>28060</li><li>28052</li></ol>\n",
       "\n",
       "<details>\n",
       "\t<summary style=display:list-item;cursor:pointer>\n",
       "\t\t<strong>Levels</strong>:\n",
       "\t</summary>\n",
       "\t<style>\n",
       "\t.list-inline {list-style: none; margin:0; padding: 0}\n",
       "\t.list-inline>li {display: inline-block}\n",
       "\t.list-inline>li:not(:last-child)::after {content: \"\\00b7\"; padding: 0 .5ex}\n",
       "\t</style>\n",
       "\t<ol class=list-inline><li>'28001'</li><li>'280013'</li><li>'28002'</li><li>'28003'</li><li>'28004'</li><li>'28005'</li><li>'28006'</li><li>'28007'</li><li>'28008'</li><li>'28009'</li><li>'28010'</li><li>'28011'</li><li>'28012'</li><li>'28013'</li><li>'28014'</li><li>'28015'</li><li>'28016'</li><li>'28017'</li><li>'28018'</li><li>'28019'</li><li>'28020'</li><li>'28021'</li><li>'28022'</li><li>'28023'</li><li>'28024'</li><li>'28025'</li><li>'28026'</li><li>'28027'</li><li>'28028'</li><li>'28029'</li><li>'28030'</li><li>'28031'</li><li>'28032'</li><li>'28033'</li><li>'28034'</li><li>'28035'</li><li>'28036'</li><li>'28037'</li><li>'28038'</li><li>'28039'</li><li>'28040'</li><li>'28041'</li><li>'28042'</li><li>'28043'</li><li>'28044'</li><li>'28045'</li><li>'28046'</li><li>'28047'</li><li>'28048'</li><li>'28049'</li><li>'28050'</li><li>'28051'</li><li>'28052'</li><li>'28053'</li><li>'28054'</li><li>'28055'</li><li>'28056'</li><li>'28058'</li><li>'28060'</li><li>'28094'</li><li>'28105'</li><li>'28850'</li></ol>\n",
       "</details>"
      ],
      "text/latex": [
       "\\begin{enumerate*}\n",
       "\\item 28004\n",
       "\\item 28015\n",
       "\\item 28013\n",
       "\\item 28005\n",
       "\\item 28012\n",
       "\\item 28014\n",
       "\\item 28045\n",
       "\\item <NA>\n",
       "\\item 28007\n",
       "\\item 28028\n",
       "\\item 28009\n",
       "\\item 28001\n",
       "\\item 28006\n",
       "\\item 28010\n",
       "\\item 28002\n",
       "\\item 28034\n",
       "\\item 28050\n",
       "\\item 28008\n",
       "\\item 28011\n",
       "\\item 28049\n",
       "\\item 28038\n",
       "\\item 28053\n",
       "\\item 28047\n",
       "\\item 28025\n",
       "\\item 28019\n",
       "\\item 28024\n",
       "\\item 28016\n",
       "\\item 28036\n",
       "\\item 28046\n",
       "\\item 28039\n",
       "\\item 28020\n",
       "\\item 28003\n",
       "\\item 28029\n",
       "\\item 28054\n",
       "\\item 28041\n",
       "\\item 28026\n",
       "\\item 28058\n",
       "\\item 28018\n",
       "\\item 28030\n",
       "\\item 28017\n",
       "\\item 28027\n",
       "\\item 28043\n",
       "\\item 28033\n",
       "\\item 28055\n",
       "\\item 28021\n",
       "\\item 28032\n",
       "\\item 28037\n",
       "\\item 28022\n",
       "\\item 28042\n",
       "\\item 28094\n",
       "\\item 280013\n",
       "\\item 28035\n",
       "\\item 28040\n",
       "\\item 28031\n",
       "\\item 28044\n",
       "\\item 28105\n",
       "\\item 28023\n",
       "\\item 28051\n",
       "\\item 28850\n",
       "\\item 28048\n",
       "\\item 28056\n",
       "\\item 28060\n",
       "\\item 28052\n",
       "\\end{enumerate*}\n",
       "\n",
       "\\emph{Levels}: \\begin{enumerate*}\n",
       "\\item '28001'\n",
       "\\item '280013'\n",
       "\\item '28002'\n",
       "\\item '28003'\n",
       "\\item '28004'\n",
       "\\item '28005'\n",
       "\\item '28006'\n",
       "\\item '28007'\n",
       "\\item '28008'\n",
       "\\item '28009'\n",
       "\\item '28010'\n",
       "\\item '28011'\n",
       "\\item '28012'\n",
       "\\item '28013'\n",
       "\\item '28014'\n",
       "\\item '28015'\n",
       "\\item '28016'\n",
       "\\item '28017'\n",
       "\\item '28018'\n",
       "\\item '28019'\n",
       "\\item '28020'\n",
       "\\item '28021'\n",
       "\\item '28022'\n",
       "\\item '28023'\n",
       "\\item '28024'\n",
       "\\item '28025'\n",
       "\\item '28026'\n",
       "\\item '28027'\n",
       "\\item '28028'\n",
       "\\item '28029'\n",
       "\\item '28030'\n",
       "\\item '28031'\n",
       "\\item '28032'\n",
       "\\item '28033'\n",
       "\\item '28034'\n",
       "\\item '28035'\n",
       "\\item '28036'\n",
       "\\item '28037'\n",
       "\\item '28038'\n",
       "\\item '28039'\n",
       "\\item '28040'\n",
       "\\item '28041'\n",
       "\\item '28042'\n",
       "\\item '28043'\n",
       "\\item '28044'\n",
       "\\item '28045'\n",
       "\\item '28046'\n",
       "\\item '28047'\n",
       "\\item '28048'\n",
       "\\item '28049'\n",
       "\\item '28050'\n",
       "\\item '28051'\n",
       "\\item '28052'\n",
       "\\item '28053'\n",
       "\\item '28054'\n",
       "\\item '28055'\n",
       "\\item '28056'\n",
       "\\item '28058'\n",
       "\\item '28060'\n",
       "\\item '28094'\n",
       "\\item '28105'\n",
       "\\item '28850'\n",
       "\\end{enumerate*}\n"
      ],
      "text/markdown": [
       "1. 28004\n",
       "2. 28015\n",
       "3. 28013\n",
       "4. 28005\n",
       "5. 28012\n",
       "6. 28014\n",
       "7. 28045\n",
       "8. &lt;NA&gt;\n",
       "9. 28007\n",
       "10. 28028\n",
       "11. 28009\n",
       "12. 28001\n",
       "13. 28006\n",
       "14. 28010\n",
       "15. 28002\n",
       "16. 28034\n",
       "17. 28050\n",
       "18. 28008\n",
       "19. 28011\n",
       "20. 28049\n",
       "21. 28038\n",
       "22. 28053\n",
       "23. 28047\n",
       "24. 28025\n",
       "25. 28019\n",
       "26. 28024\n",
       "27. 28016\n",
       "28. 28036\n",
       "29. 28046\n",
       "30. 28039\n",
       "31. 28020\n",
       "32. 28003\n",
       "33. 28029\n",
       "34. 28054\n",
       "35. 28041\n",
       "36. 28026\n",
       "37. 28058\n",
       "38. 28018\n",
       "39. 28030\n",
       "40. 28017\n",
       "41. 28027\n",
       "42. 28043\n",
       "43. 28033\n",
       "44. 28055\n",
       "45. 28021\n",
       "46. 28032\n",
       "47. 28037\n",
       "48. 28022\n",
       "49. 28042\n",
       "50. 28094\n",
       "51. 280013\n",
       "52. 28035\n",
       "53. 28040\n",
       "54. 28031\n",
       "55. 28044\n",
       "56. 28105\n",
       "57. 28023\n",
       "58. 28051\n",
       "59. 28850\n",
       "60. 28048\n",
       "61. 28056\n",
       "62. 28060\n",
       "63. 28052\n",
       "\n",
       "\n",
       "\n",
       "**Levels**: 1. '28001'\n",
       "2. '280013'\n",
       "3. '28002'\n",
       "4. '28003'\n",
       "5. '28004'\n",
       "6. '28005'\n",
       "7. '28006'\n",
       "8. '28007'\n",
       "9. '28008'\n",
       "10. '28009'\n",
       "11. '28010'\n",
       "12. '28011'\n",
       "13. '28012'\n",
       "14. '28013'\n",
       "15. '28014'\n",
       "16. '28015'\n",
       "17. '28016'\n",
       "18. '28017'\n",
       "19. '28018'\n",
       "20. '28019'\n",
       "21. '28020'\n",
       "22. '28021'\n",
       "23. '28022'\n",
       "24. '28023'\n",
       "25. '28024'\n",
       "26. '28025'\n",
       "27. '28026'\n",
       "28. '28027'\n",
       "29. '28028'\n",
       "30. '28029'\n",
       "31. '28030'\n",
       "32. '28031'\n",
       "33. '28032'\n",
       "34. '28033'\n",
       "35. '28034'\n",
       "36. '28035'\n",
       "37. '28036'\n",
       "38. '28037'\n",
       "39. '28038'\n",
       "40. '28039'\n",
       "41. '28040'\n",
       "42. '28041'\n",
       "43. '28042'\n",
       "44. '28043'\n",
       "45. '28044'\n",
       "46. '28045'\n",
       "47. '28046'\n",
       "48. '28047'\n",
       "49. '28048'\n",
       "50. '28049'\n",
       "51. '28050'\n",
       "52. '28051'\n",
       "53. '28052'\n",
       "54. '28053'\n",
       "55. '28054'\n",
       "56. '28055'\n",
       "57. '28056'\n",
       "58. '28058'\n",
       "59. '28060'\n",
       "60. '28094'\n",
       "61. '28105'\n",
       "62. '28850'\n",
       "\n",
       "\n"
      ],
      "text/plain": [
       " [1] 28004  28015  28013  28005  28012  28014  28045  <NA>   28007  28028 \n",
       "[11] 28009  28001  28006  28010  28002  28034  28050  28008  28011  28049 \n",
       "[21] 28038  28053  28047  28025  28019  28024  28016  28036  28046  28039 \n",
       "[31] 28020  28003  28029  28054  28041  28026  28058  28018  28030  28017 \n",
       "[41] 28027  28043  28033  28055  28021  28032  28037  28022  28042  28094 \n",
       "[51] 280013 28035  28040  28031  28044  28105  28023  28051  28850  28048 \n",
       "[61] 28056  28060  28052 \n",
       "62 Levels: 28001 280013 28002 28003 28004 28005 28006 28007 28008 ... 28850"
      ]
     },
     "metadata": {},
     "output_type": "display_data"
    }
   ],
   "source": [
    "unique(airbnb$CodigoPostal)"
   ]
  },
  {
   "cell_type": "code",
   "execution_count": 776,
   "metadata": {},
   "outputs": [
    {
     "name": "stdout",
     "output_type": "stream",
     "text": [
      " Factor w/ 62 levels \"28001\",\"280013\",..: NA NA NA NA NA NA NA NA NA NA ...\n"
     ]
    }
   ],
   "source": [
    "str(airbnb$CodigoPostal[airbnb$CodigoPostal==\"NA\"])"
   ]
  },
  {
   "cell_type": "markdown",
   "metadata": {},
   "source": [
    "¿Cuales son los 5 códigos postales con más entradas? ¿Y con menos? ¿Cuantas entradas tienen?"
   ]
  },
  {
   "cell_type": "code",
   "execution_count": 777,
   "metadata": {},
   "outputs": [
    {
     "name": "stdout",
     "output_type": "stream",
     "text": [
      "[1] \"Los 5 codigos postales con mas entradas son: \"\n"
     ]
    },
    {
     "data": {
      "text/html": [
       "<style>\n",
       ".dl-inline {width: auto; margin:0; padding: 0}\n",
       ".dl-inline>dt, .dl-inline>dd {float: none; width: auto; display: inline-block}\n",
       ".dl-inline>dt::after {content: \":\\0020\"; padding-right: .5ex}\n",
       ".dl-inline>dt:not(:first-of-type) {padding-left: .5ex}\n",
       "</style><dl class=dl-inline><dt>28012</dt><dd>2060</dd><dt>28004</dt><dd>1796</dd><dt>28005</dt><dd>1195</dd><dt>28013</dt><dd>1019</dd><dt>28014</dt><dd>630</dd></dl>\n"
      ],
      "text/latex": [
       "\\begin{description*}\n",
       "\\item[28012] 2060\n",
       "\\item[28004] 1796\n",
       "\\item[28005] 1195\n",
       "\\item[28013] 1019\n",
       "\\item[28014] 630\n",
       "\\end{description*}\n"
      ],
      "text/markdown": [
       "28012\n",
       ":   206028004\n",
       ":   179628005\n",
       ":   119528013\n",
       ":   101928014\n",
       ":   630\n",
       "\n"
      ],
      "text/plain": [
       "28012 28004 28005 28013 28014 \n",
       " 2060  1796  1195  1019   630 "
      ]
     },
     "metadata": {},
     "output_type": "display_data"
    }
   ],
   "source": [
    "print(\"Los 5 codigos postales con mas entradas son: \") \n",
    "sort(summary(airbnb$CodigoPostal),decreasing = TRUE)[1:5]"
   ]
  },
  {
   "cell_type": "code",
   "execution_count": 778,
   "metadata": {},
   "outputs": [
    {
     "name": "stdout",
     "output_type": "stream",
     "text": [
      "[1] \"Los 5 codigos postales con menos entradas son: \"\n"
     ]
    },
    {
     "data": {
      "text/html": [
       "<style>\n",
       ".dl-inline {width: auto; margin:0; padding: 0}\n",
       ".dl-inline>dt, .dl-inline>dd {float: none; width: auto; display: inline-block}\n",
       ".dl-inline>dt::after {content: \":\\0020\"; padding-right: .5ex}\n",
       ".dl-inline>dt:not(:first-of-type) {padding-left: .5ex}\n",
       "</style><dl class=dl-inline><dt>280013</dt><dd>1</dd><dt>28048</dt><dd>1</dd><dt>28052</dt><dd>1</dd><dt>28056</dt><dd>1</dd><dt>28058</dt><dd>1</dd></dl>\n"
      ],
      "text/latex": [
       "\\begin{description*}\n",
       "\\item[280013] 1\n",
       "\\item[28048] 1\n",
       "\\item[28052] 1\n",
       "\\item[28056] 1\n",
       "\\item[28058] 1\n",
       "\\end{description*}\n"
      ],
      "text/markdown": [
       "280013\n",
       ":   128048\n",
       ":   128052\n",
       ":   128056\n",
       ":   128058\n",
       ":   1\n",
       "\n"
      ],
      "text/plain": [
       "280013  28048  28052  28056  28058 \n",
       "     1      1      1      1      1 "
      ]
     },
     "metadata": {},
     "output_type": "display_data"
    }
   ],
   "source": [
    "print(\"Los 5 codigos postales con menos entradas son: \") \n",
    "sort(summary(airbnb$CodigoPostal))[1:5]"
   ]
  },
  {
   "cell_type": "markdown",
   "metadata": {},
   "source": [
    "¿Cuales son los barrios que hay en el código postal 28012?"
   ]
  },
  {
   "cell_type": "code",
   "execution_count": 779,
   "metadata": {
    "scrolled": false
   },
   "outputs": [
    {
     "data": {
      "text/html": [
       "<style>\n",
       ".list-inline {list-style: none; margin:0; padding: 0}\n",
       ".list-inline>li {display: inline-block}\n",
       ".list-inline>li:not(:last-child)::after {content: \"\\00b7\"; padding: 0 .5ex}\n",
       "</style>\n",
       "<ol class=list-inline><li>Sol</li><li>Acacias</li><li>Palos de Moguer</li><li>Embajadores</li><li>Cortes</li><li>Palacio</li><li>Universidad</li><li>Delicias</li><li>Arapiles</li><li>Atocha</li><li>Goya</li></ol>\n",
       "\n",
       "<details>\n",
       "\t<summary style=display:list-item;cursor:pointer>\n",
       "\t\t<strong>Levels</strong>:\n",
       "\t</summary>\n",
       "\t<style>\n",
       "\t.list-inline {list-style: none; margin:0; padding: 0}\n",
       "\t.list-inline>li {display: inline-block}\n",
       "\t.list-inline>li:not(:last-child)::after {content: \"\\00b7\"; padding: 0 .5ex}\n",
       "\t</style>\n",
       "\t<ol class=list-inline><li>'Abrantes'</li><li>'Acacias'</li><li>'Adelfas'</li><li>'Aeropuerto'</li><li>'Aguilas'</li><li>'Alameda de Osuna'</li><li>'Almagro'</li><li>'Almenara'</li><li>'Almendrales'</li><li>'Aluche'</li><li>'Ambroz'</li><li>'Amposta'</li><li>'Apostol Santiago'</li><li>'Arapiles'</li><li>'Aravaca'</li><li>'Arcos'</li><li>'Argüelles'</li><li>'Atocha'</li><li>'Bellas Vistas'</li><li>'Berruguete'</li><li>'Buenavista'</li><li>'Butarque'</li><li>'Campamento'</li><li>'Canillas'</li><li>'Canillejas'</li><li>'Cármenes'</li><li>'Casa de Campo'</li><li>'Casco Histórico de Barajas'</li><li>'Casco Histórico de Vallecas'</li><li>'Casco Histórico de Vicálvaro'</li><li>'Castellana'</li><li>'Castilla'</li><li>'Castillejos'</li><li>'Chopera'</li><li>'Ciudad Jardín'</li><li>'Ciudad Universitaria'</li><li>'Colina'</li><li>'Comillas'</li><li>'Concepción'</li><li>'Corralejos'</li><li>'Cortes'</li><li>'Costillares'</li><li>'Cuatro Caminos'</li><li>'Cuatro Vientos'</li><li>'Delicias'</li><li>'El Goloso'</li><li>'El Plantío'</li><li>'El Viso'</li><li>'Embajadores'</li><li>'Entrevías'</li><li>'Estrella'</li><li>'Fontarrón'</li><li>'Fuente del Berro'</li><li>'Fuentelareina'</li><li>'Gaztambide'</li><li>'Goya'</li><li>'Guindalera'</li><li>'Hellín'</li><li>'Hispanoamérica'</li><li>'Ibiza'</li><li>'Imperial'</li><li>'Jerónimos'</li><li>'Justicia'</li><li>'La Paz'</li><li>'Legazpi'</li><li>'Lista'</li><li>'Los Angeles'</li><li>'Los Rosales'</li><li>'Lucero'</li><li>'Marroquina'</li><li>'Media Legua'</li><li>'Mirasierra'</li><li>'Moscardó'</li><li>'Niño Jesús'</li><li>'Nueva España'</li><li>'Numancia'</li><li>'Opañel'</li><li>'Orcasitas'</li><li>'Orcasur'</li><li>'Pacífico'</li><li>'Palacio'</li><li>'Palomas'</li><li>'Palomeras Bajas'</li><li>'Palomeras Sureste'</li><li>'Palos de Moguer'</li><li>'Pavones'</li><li>'Peñagrande'</li><li>'Pilar'</li><li>'Pinar del Rey'</li><li>'Piovera'</li><li>'Portazgo'</li><li>'Pradolongo'</li><li>'Prosperidad'</li><li>'Pueblo Nuevo'</li><li>'Puerta Bonita'</li><li>'Puerta del Angel'</li><li>'Quintana'</li><li>'Recoletos'</li><li>'Rejas'</li><li>'Rios Rosas'</li><li>'Rosas'</li><li>'Salvador'</li><li>'San Andrés'</li><li>'San Cristobal'</li><li>'San Diego'</li><li>'San Fermín'</li><li>'San Isidro'</li><li>'San Juan Bautista'</li><li>'San Pascual'</li><li>'Santa Eugenia'</li><li>'Simancas'</li><li>'Sol'</li><li>'Timón'</li><li>'Trafalgar'</li><li>'Universidad'</li><li>'Valdeacederas'</li><li>'Valdefuentes'</li><li>'Valdemarín'</li><li>'Valdezarza'</li><li>'Vallehermoso'</li><li>'Valverde'</li><li>'Ventas'</li><li>'Vinateros'</li><li>'Vista Alegre'</li><li>'Zofío'</li></ol>\n",
       "</details>"
      ],
      "text/latex": [
       "\\begin{enumerate*}\n",
       "\\item Sol\n",
       "\\item Acacias\n",
       "\\item Palos de Moguer\n",
       "\\item Embajadores\n",
       "\\item Cortes\n",
       "\\item Palacio\n",
       "\\item Universidad\n",
       "\\item Delicias\n",
       "\\item Arapiles\n",
       "\\item Atocha\n",
       "\\item Goya\n",
       "\\end{enumerate*}\n",
       "\n",
       "\\emph{Levels}: \\begin{enumerate*}\n",
       "\\item 'Abrantes'\n",
       "\\item 'Acacias'\n",
       "\\item 'Adelfas'\n",
       "\\item 'Aeropuerto'\n",
       "\\item 'Aguilas'\n",
       "\\item 'Alameda de Osuna'\n",
       "\\item 'Almagro'\n",
       "\\item 'Almenara'\n",
       "\\item 'Almendrales'\n",
       "\\item 'Aluche'\n",
       "\\item 'Ambroz'\n",
       "\\item 'Amposta'\n",
       "\\item 'Apostol Santiago'\n",
       "\\item 'Arapiles'\n",
       "\\item 'Aravaca'\n",
       "\\item 'Arcos'\n",
       "\\item 'Argüelles'\n",
       "\\item 'Atocha'\n",
       "\\item 'Bellas Vistas'\n",
       "\\item 'Berruguete'\n",
       "\\item 'Buenavista'\n",
       "\\item 'Butarque'\n",
       "\\item 'Campamento'\n",
       "\\item 'Canillas'\n",
       "\\item 'Canillejas'\n",
       "\\item 'Cármenes'\n",
       "\\item 'Casa de Campo'\n",
       "\\item 'Casco Histórico de Barajas'\n",
       "\\item 'Casco Histórico de Vallecas'\n",
       "\\item 'Casco Histórico de Vicálvaro'\n",
       "\\item 'Castellana'\n",
       "\\item 'Castilla'\n",
       "\\item 'Castillejos'\n",
       "\\item 'Chopera'\n",
       "\\item 'Ciudad Jardín'\n",
       "\\item 'Ciudad Universitaria'\n",
       "\\item 'Colina'\n",
       "\\item 'Comillas'\n",
       "\\item 'Concepción'\n",
       "\\item 'Corralejos'\n",
       "\\item 'Cortes'\n",
       "\\item 'Costillares'\n",
       "\\item 'Cuatro Caminos'\n",
       "\\item 'Cuatro Vientos'\n",
       "\\item 'Delicias'\n",
       "\\item 'El Goloso'\n",
       "\\item 'El Plantío'\n",
       "\\item 'El Viso'\n",
       "\\item 'Embajadores'\n",
       "\\item 'Entrevías'\n",
       "\\item 'Estrella'\n",
       "\\item 'Fontarrón'\n",
       "\\item 'Fuente del Berro'\n",
       "\\item 'Fuentelareina'\n",
       "\\item 'Gaztambide'\n",
       "\\item 'Goya'\n",
       "\\item 'Guindalera'\n",
       "\\item 'Hellín'\n",
       "\\item 'Hispanoamérica'\n",
       "\\item 'Ibiza'\n",
       "\\item 'Imperial'\n",
       "\\item 'Jerónimos'\n",
       "\\item 'Justicia'\n",
       "\\item 'La Paz'\n",
       "\\item 'Legazpi'\n",
       "\\item 'Lista'\n",
       "\\item 'Los Angeles'\n",
       "\\item 'Los Rosales'\n",
       "\\item 'Lucero'\n",
       "\\item 'Marroquina'\n",
       "\\item 'Media Legua'\n",
       "\\item 'Mirasierra'\n",
       "\\item 'Moscardó'\n",
       "\\item 'Niño Jesús'\n",
       "\\item 'Nueva España'\n",
       "\\item 'Numancia'\n",
       "\\item 'Opañel'\n",
       "\\item 'Orcasitas'\n",
       "\\item 'Orcasur'\n",
       "\\item 'Pacífico'\n",
       "\\item 'Palacio'\n",
       "\\item 'Palomas'\n",
       "\\item 'Palomeras Bajas'\n",
       "\\item 'Palomeras Sureste'\n",
       "\\item 'Palos de Moguer'\n",
       "\\item 'Pavones'\n",
       "\\item 'Peñagrande'\n",
       "\\item 'Pilar'\n",
       "\\item 'Pinar del Rey'\n",
       "\\item 'Piovera'\n",
       "\\item 'Portazgo'\n",
       "\\item 'Pradolongo'\n",
       "\\item 'Prosperidad'\n",
       "\\item 'Pueblo Nuevo'\n",
       "\\item 'Puerta Bonita'\n",
       "\\item 'Puerta del Angel'\n",
       "\\item 'Quintana'\n",
       "\\item 'Recoletos'\n",
       "\\item 'Rejas'\n",
       "\\item 'Rios Rosas'\n",
       "\\item 'Rosas'\n",
       "\\item 'Salvador'\n",
       "\\item 'San Andrés'\n",
       "\\item 'San Cristobal'\n",
       "\\item 'San Diego'\n",
       "\\item 'San Fermín'\n",
       "\\item 'San Isidro'\n",
       "\\item 'San Juan Bautista'\n",
       "\\item 'San Pascual'\n",
       "\\item 'Santa Eugenia'\n",
       "\\item 'Simancas'\n",
       "\\item 'Sol'\n",
       "\\item 'Timón'\n",
       "\\item 'Trafalgar'\n",
       "\\item 'Universidad'\n",
       "\\item 'Valdeacederas'\n",
       "\\item 'Valdefuentes'\n",
       "\\item 'Valdemarín'\n",
       "\\item 'Valdezarza'\n",
       "\\item 'Vallehermoso'\n",
       "\\item 'Valverde'\n",
       "\\item 'Ventas'\n",
       "\\item 'Vinateros'\n",
       "\\item 'Vista Alegre'\n",
       "\\item 'Zofío'\n",
       "\\end{enumerate*}\n"
      ],
      "text/markdown": [
       "1. Sol\n",
       "2. Acacias\n",
       "3. Palos de Moguer\n",
       "4. Embajadores\n",
       "5. Cortes\n",
       "6. Palacio\n",
       "7. Universidad\n",
       "8. Delicias\n",
       "9. Arapiles\n",
       "10. Atocha\n",
       "11. Goya\n",
       "\n",
       "\n",
       "\n",
       "**Levels**: 1. 'Abrantes'\n",
       "2. 'Acacias'\n",
       "3. 'Adelfas'\n",
       "4. 'Aeropuerto'\n",
       "5. 'Aguilas'\n",
       "6. 'Alameda de Osuna'\n",
       "7. 'Almagro'\n",
       "8. 'Almenara'\n",
       "9. 'Almendrales'\n",
       "10. 'Aluche'\n",
       "11. 'Ambroz'\n",
       "12. 'Amposta'\n",
       "13. 'Apostol Santiago'\n",
       "14. 'Arapiles'\n",
       "15. 'Aravaca'\n",
       "16. 'Arcos'\n",
       "17. 'Argüelles'\n",
       "18. 'Atocha'\n",
       "19. 'Bellas Vistas'\n",
       "20. 'Berruguete'\n",
       "21. 'Buenavista'\n",
       "22. 'Butarque'\n",
       "23. 'Campamento'\n",
       "24. 'Canillas'\n",
       "25. 'Canillejas'\n",
       "26. 'Cármenes'\n",
       "27. 'Casa de Campo'\n",
       "28. 'Casco Histórico de Barajas'\n",
       "29. 'Casco Histórico de Vallecas'\n",
       "30. 'Casco Histórico de Vicálvaro'\n",
       "31. 'Castellana'\n",
       "32. 'Castilla'\n",
       "33. 'Castillejos'\n",
       "34. 'Chopera'\n",
       "35. 'Ciudad Jardín'\n",
       "36. 'Ciudad Universitaria'\n",
       "37. 'Colina'\n",
       "38. 'Comillas'\n",
       "39. 'Concepción'\n",
       "40. 'Corralejos'\n",
       "41. 'Cortes'\n",
       "42. 'Costillares'\n",
       "43. 'Cuatro Caminos'\n",
       "44. 'Cuatro Vientos'\n",
       "45. 'Delicias'\n",
       "46. 'El Goloso'\n",
       "47. 'El Plantío'\n",
       "48. 'El Viso'\n",
       "49. 'Embajadores'\n",
       "50. 'Entrevías'\n",
       "51. 'Estrella'\n",
       "52. 'Fontarrón'\n",
       "53. 'Fuente del Berro'\n",
       "54. 'Fuentelareina'\n",
       "55. 'Gaztambide'\n",
       "56. 'Goya'\n",
       "57. 'Guindalera'\n",
       "58. 'Hellín'\n",
       "59. 'Hispanoamérica'\n",
       "60. 'Ibiza'\n",
       "61. 'Imperial'\n",
       "62. 'Jerónimos'\n",
       "63. 'Justicia'\n",
       "64. 'La Paz'\n",
       "65. 'Legazpi'\n",
       "66. 'Lista'\n",
       "67. 'Los Angeles'\n",
       "68. 'Los Rosales'\n",
       "69. 'Lucero'\n",
       "70. 'Marroquina'\n",
       "71. 'Media Legua'\n",
       "72. 'Mirasierra'\n",
       "73. 'Moscardó'\n",
       "74. 'Niño Jesús'\n",
       "75. 'Nueva España'\n",
       "76. 'Numancia'\n",
       "77. 'Opañel'\n",
       "78. 'Orcasitas'\n",
       "79. 'Orcasur'\n",
       "80. 'Pacífico'\n",
       "81. 'Palacio'\n",
       "82. 'Palomas'\n",
       "83. 'Palomeras Bajas'\n",
       "84. 'Palomeras Sureste'\n",
       "85. 'Palos de Moguer'\n",
       "86. 'Pavones'\n",
       "87. 'Peñagrande'\n",
       "88. 'Pilar'\n",
       "89. 'Pinar del Rey'\n",
       "90. 'Piovera'\n",
       "91. 'Portazgo'\n",
       "92. 'Pradolongo'\n",
       "93. 'Prosperidad'\n",
       "94. 'Pueblo Nuevo'\n",
       "95. 'Puerta Bonita'\n",
       "96. 'Puerta del Angel'\n",
       "97. 'Quintana'\n",
       "98. 'Recoletos'\n",
       "99. 'Rejas'\n",
       "100. 'Rios Rosas'\n",
       "101. 'Rosas'\n",
       "102. 'Salvador'\n",
       "103. 'San Andrés'\n",
       "104. 'San Cristobal'\n",
       "105. 'San Diego'\n",
       "106. 'San Fermín'\n",
       "107. 'San Isidro'\n",
       "108. 'San Juan Bautista'\n",
       "109. 'San Pascual'\n",
       "110. 'Santa Eugenia'\n",
       "111. 'Simancas'\n",
       "112. 'Sol'\n",
       "113. 'Timón'\n",
       "114. 'Trafalgar'\n",
       "115. 'Universidad'\n",
       "116. 'Valdeacederas'\n",
       "117. 'Valdefuentes'\n",
       "118. 'Valdemarín'\n",
       "119. 'Valdezarza'\n",
       "120. 'Vallehermoso'\n",
       "121. 'Valverde'\n",
       "122. 'Ventas'\n",
       "123. 'Vinateros'\n",
       "124. 'Vista Alegre'\n",
       "125. 'Zofío'\n",
       "\n",
       "\n"
      ],
      "text/plain": [
       " [1] Sol             Acacias         Palos de Moguer Embajadores    \n",
       " [5] Cortes          Palacio         Universidad     Delicias       \n",
       " [9] Arapiles        Atocha          Goya           \n",
       "125 Levels: Abrantes Acacias Adelfas Aeropuerto Aguilas ... Zofío"
      ]
     },
     "metadata": {},
     "output_type": "display_data"
    }
   ],
   "source": [
    "unique(airbnb[which(airbnb$CodigoPostal==\"28012\"),2])"
   ]
  },
  {
   "cell_type": "markdown",
   "metadata": {},
   "source": [
    "¿Cuantas entradas hay en cada uno de esos barrios para el codigo postal 28012?"
   ]
  },
  {
   "cell_type": "code",
   "execution_count": 780,
   "metadata": {},
   "outputs": [],
   "source": [
    "airbnb_28012_Barrios<-factor(airbnb[which(airbnb$CodigoPostal=='28012'),]$Barrio)"
   ]
  },
  {
   "cell_type": "code",
   "execution_count": 781,
   "metadata": {},
   "outputs": [
    {
     "data": {
      "text/html": [
       "<style>\n",
       ".dl-inline {width: auto; margin:0; padding: 0}\n",
       ".dl-inline>dt, .dl-inline>dd {float: none; width: auto; display: inline-block}\n",
       ".dl-inline>dt::after {content: \":\\0020\"; padding-right: .5ex}\n",
       ".dl-inline>dt:not(:first-of-type) {padding-left: .5ex}\n",
       "</style><dl class=dl-inline><dt>Acacias</dt><dd>13</dd><dt>Arapiles</dt><dd>1</dd><dt>Atocha</dt><dd>1</dd><dt>Cortes</dt><dd>216</dd><dt>Delicias</dt><dd>1</dd><dt>Embajadores</dt><dd>1449</dd><dt>Goya</dt><dd>1</dd><dt>Palacio</dt><dd>27</dd><dt>Palos de Moguer</dt><dd>46</dd><dt>Sol</dt><dd>301</dd><dt>Universidad</dt><dd>4</dd></dl>\n"
      ],
      "text/latex": [
       "\\begin{description*}\n",
       "\\item[Acacias] 13\n",
       "\\item[Arapiles] 1\n",
       "\\item[Atocha] 1\n",
       "\\item[Cortes] 216\n",
       "\\item[Delicias] 1\n",
       "\\item[Embajadores] 1449\n",
       "\\item[Goya] 1\n",
       "\\item[Palacio] 27\n",
       "\\item[Palos de Moguer] 46\n",
       "\\item[Sol] 301\n",
       "\\item[Universidad] 4\n",
       "\\end{description*}\n"
      ],
      "text/markdown": [
       "Acacias\n",
       ":   13Arapiles\n",
       ":   1Atocha\n",
       ":   1Cortes\n",
       ":   216Delicias\n",
       ":   1Embajadores\n",
       ":   1449Goya\n",
       ":   1Palacio\n",
       ":   27Palos de Moguer\n",
       ":   46Sol\n",
       ":   301Universidad\n",
       ":   4\n",
       "\n"
      ],
      "text/plain": [
       "        Acacias        Arapiles          Atocha          Cortes        Delicias \n",
       "             13               1               1             216               1 \n",
       "    Embajadores            Goya         Palacio Palos de Moguer             Sol \n",
       "           1449               1              27              46             301 \n",
       "    Universidad \n",
       "              4 "
      ]
     },
     "metadata": {},
     "output_type": "display_data"
    }
   ],
   "source": [
    "summary(airbnb_28012_Barrios)"
   ]
  },
  {
   "cell_type": "markdown",
   "metadata": {},
   "source": [
    "¿Cuantos barrios hay en todo el dataset airbnb? ¿Cuales son?"
   ]
  },
  {
   "cell_type": "code",
   "execution_count": 782,
   "metadata": {},
   "outputs": [
    {
     "data": {
      "text/html": [
       "125"
      ],
      "text/latex": [
       "125"
      ],
      "text/markdown": [
       "125"
      ],
      "text/plain": [
       "[1] 125"
      ]
     },
     "metadata": {},
     "output_type": "display_data"
    }
   ],
   "source": [
    "length(unique(airbnb$Barrio))"
   ]
  },
  {
   "cell_type": "code",
   "execution_count": 783,
   "metadata": {},
   "outputs": [
    {
     "data": {
      "text/html": [
       "<style>\n",
       ".list-inline {list-style: none; margin:0; padding: 0}\n",
       ".list-inline>li {display: inline-block}\n",
       ".list-inline>li:not(:last-child)::after {content: \"\\00b7\"; padding: 0 .5ex}\n",
       "</style>\n",
       "<ol class=list-inline><li>'Abrantes'</li><li>'Acacias'</li><li>'Adelfas'</li><li>'Aeropuerto'</li><li>'Aguilas'</li><li>'Alameda de Osuna'</li><li>'Almagro'</li><li>'Almenara'</li><li>'Almendrales'</li><li>'Aluche'</li><li>'Ambroz'</li><li>'Amposta'</li><li>'Apostol Santiago'</li><li>'Arapiles'</li><li>'Aravaca'</li><li>'Arcos'</li><li>'Argüelles'</li><li>'Atocha'</li><li>'Bellas Vistas'</li><li>'Berruguete'</li><li>'Buenavista'</li><li>'Butarque'</li><li>'Campamento'</li><li>'Canillas'</li><li>'Canillejas'</li><li>'Cármenes'</li><li>'Casa de Campo'</li><li>'Casco Histórico de Barajas'</li><li>'Casco Histórico de Vallecas'</li><li>'Casco Histórico de Vicálvaro'</li><li>'Castellana'</li><li>'Castilla'</li><li>'Castillejos'</li><li>'Chopera'</li><li>'Ciudad Jardín'</li><li>'Ciudad Universitaria'</li><li>'Colina'</li><li>'Comillas'</li><li>'Concepción'</li><li>'Corralejos'</li><li>'Cortes'</li><li>'Costillares'</li><li>'Cuatro Caminos'</li><li>'Cuatro Vientos'</li><li>'Delicias'</li><li>'El Goloso'</li><li>'El Plantío'</li><li>'El Viso'</li><li>'Embajadores'</li><li>'Entrevías'</li><li>'Estrella'</li><li>'Fontarrón'</li><li>'Fuente del Berro'</li><li>'Fuentelareina'</li><li>'Gaztambide'</li><li>'Goya'</li><li>'Guindalera'</li><li>'Hellín'</li><li>'Hispanoamérica'</li><li>'Ibiza'</li><li>'Imperial'</li><li>'Jerónimos'</li><li>'Justicia'</li><li>'La Paz'</li><li>'Legazpi'</li><li>'Lista'</li><li>'Los Angeles'</li><li>'Los Rosales'</li><li>'Lucero'</li><li>'Marroquina'</li><li>'Media Legua'</li><li>'Mirasierra'</li><li>'Moscardó'</li><li>'Niño Jesús'</li><li>'Nueva España'</li><li>'Numancia'</li><li>'Opañel'</li><li>'Orcasitas'</li><li>'Orcasur'</li><li>'Pacífico'</li><li>'Palacio'</li><li>'Palomas'</li><li>'Palomeras Bajas'</li><li>'Palomeras Sureste'</li><li>'Palos de Moguer'</li><li>'Pavones'</li><li>'Peñagrande'</li><li>'Pilar'</li><li>'Pinar del Rey'</li><li>'Piovera'</li><li>'Portazgo'</li><li>'Pradolongo'</li><li>'Prosperidad'</li><li>'Pueblo Nuevo'</li><li>'Puerta Bonita'</li><li>'Puerta del Angel'</li><li>'Quintana'</li><li>'Recoletos'</li><li>'Rejas'</li><li>'Rios Rosas'</li><li>'Rosas'</li><li>'Salvador'</li><li>'San Andrés'</li><li>'San Cristobal'</li><li>'San Diego'</li><li>'San Fermín'</li><li>'San Isidro'</li><li>'San Juan Bautista'</li><li>'San Pascual'</li><li>'Santa Eugenia'</li><li>'Simancas'</li><li>'Sol'</li><li>'Timón'</li><li>'Trafalgar'</li><li>'Universidad'</li><li>'Valdeacederas'</li><li>'Valdefuentes'</li><li>'Valdemarín'</li><li>'Valdezarza'</li><li>'Vallehermoso'</li><li>'Valverde'</li><li>'Ventas'</li><li>'Vinateros'</li><li>'Vista Alegre'</li><li>'Zofío'</li></ol>\n"
      ],
      "text/latex": [
       "\\begin{enumerate*}\n",
       "\\item 'Abrantes'\n",
       "\\item 'Acacias'\n",
       "\\item 'Adelfas'\n",
       "\\item 'Aeropuerto'\n",
       "\\item 'Aguilas'\n",
       "\\item 'Alameda de Osuna'\n",
       "\\item 'Almagro'\n",
       "\\item 'Almenara'\n",
       "\\item 'Almendrales'\n",
       "\\item 'Aluche'\n",
       "\\item 'Ambroz'\n",
       "\\item 'Amposta'\n",
       "\\item 'Apostol Santiago'\n",
       "\\item 'Arapiles'\n",
       "\\item 'Aravaca'\n",
       "\\item 'Arcos'\n",
       "\\item 'Argüelles'\n",
       "\\item 'Atocha'\n",
       "\\item 'Bellas Vistas'\n",
       "\\item 'Berruguete'\n",
       "\\item 'Buenavista'\n",
       "\\item 'Butarque'\n",
       "\\item 'Campamento'\n",
       "\\item 'Canillas'\n",
       "\\item 'Canillejas'\n",
       "\\item 'Cármenes'\n",
       "\\item 'Casa de Campo'\n",
       "\\item 'Casco Histórico de Barajas'\n",
       "\\item 'Casco Histórico de Vallecas'\n",
       "\\item 'Casco Histórico de Vicálvaro'\n",
       "\\item 'Castellana'\n",
       "\\item 'Castilla'\n",
       "\\item 'Castillejos'\n",
       "\\item 'Chopera'\n",
       "\\item 'Ciudad Jardín'\n",
       "\\item 'Ciudad Universitaria'\n",
       "\\item 'Colina'\n",
       "\\item 'Comillas'\n",
       "\\item 'Concepción'\n",
       "\\item 'Corralejos'\n",
       "\\item 'Cortes'\n",
       "\\item 'Costillares'\n",
       "\\item 'Cuatro Caminos'\n",
       "\\item 'Cuatro Vientos'\n",
       "\\item 'Delicias'\n",
       "\\item 'El Goloso'\n",
       "\\item 'El Plantío'\n",
       "\\item 'El Viso'\n",
       "\\item 'Embajadores'\n",
       "\\item 'Entrevías'\n",
       "\\item 'Estrella'\n",
       "\\item 'Fontarrón'\n",
       "\\item 'Fuente del Berro'\n",
       "\\item 'Fuentelareina'\n",
       "\\item 'Gaztambide'\n",
       "\\item 'Goya'\n",
       "\\item 'Guindalera'\n",
       "\\item 'Hellín'\n",
       "\\item 'Hispanoamérica'\n",
       "\\item 'Ibiza'\n",
       "\\item 'Imperial'\n",
       "\\item 'Jerónimos'\n",
       "\\item 'Justicia'\n",
       "\\item 'La Paz'\n",
       "\\item 'Legazpi'\n",
       "\\item 'Lista'\n",
       "\\item 'Los Angeles'\n",
       "\\item 'Los Rosales'\n",
       "\\item 'Lucero'\n",
       "\\item 'Marroquina'\n",
       "\\item 'Media Legua'\n",
       "\\item 'Mirasierra'\n",
       "\\item 'Moscardó'\n",
       "\\item 'Niño Jesús'\n",
       "\\item 'Nueva España'\n",
       "\\item 'Numancia'\n",
       "\\item 'Opañel'\n",
       "\\item 'Orcasitas'\n",
       "\\item 'Orcasur'\n",
       "\\item 'Pacífico'\n",
       "\\item 'Palacio'\n",
       "\\item 'Palomas'\n",
       "\\item 'Palomeras Bajas'\n",
       "\\item 'Palomeras Sureste'\n",
       "\\item 'Palos de Moguer'\n",
       "\\item 'Pavones'\n",
       "\\item 'Peñagrande'\n",
       "\\item 'Pilar'\n",
       "\\item 'Pinar del Rey'\n",
       "\\item 'Piovera'\n",
       "\\item 'Portazgo'\n",
       "\\item 'Pradolongo'\n",
       "\\item 'Prosperidad'\n",
       "\\item 'Pueblo Nuevo'\n",
       "\\item 'Puerta Bonita'\n",
       "\\item 'Puerta del Angel'\n",
       "\\item 'Quintana'\n",
       "\\item 'Recoletos'\n",
       "\\item 'Rejas'\n",
       "\\item 'Rios Rosas'\n",
       "\\item 'Rosas'\n",
       "\\item 'Salvador'\n",
       "\\item 'San Andrés'\n",
       "\\item 'San Cristobal'\n",
       "\\item 'San Diego'\n",
       "\\item 'San Fermín'\n",
       "\\item 'San Isidro'\n",
       "\\item 'San Juan Bautista'\n",
       "\\item 'San Pascual'\n",
       "\\item 'Santa Eugenia'\n",
       "\\item 'Simancas'\n",
       "\\item 'Sol'\n",
       "\\item 'Timón'\n",
       "\\item 'Trafalgar'\n",
       "\\item 'Universidad'\n",
       "\\item 'Valdeacederas'\n",
       "\\item 'Valdefuentes'\n",
       "\\item 'Valdemarín'\n",
       "\\item 'Valdezarza'\n",
       "\\item 'Vallehermoso'\n",
       "\\item 'Valverde'\n",
       "\\item 'Ventas'\n",
       "\\item 'Vinateros'\n",
       "\\item 'Vista Alegre'\n",
       "\\item 'Zofío'\n",
       "\\end{enumerate*}\n"
      ],
      "text/markdown": [
       "1. 'Abrantes'\n",
       "2. 'Acacias'\n",
       "3. 'Adelfas'\n",
       "4. 'Aeropuerto'\n",
       "5. 'Aguilas'\n",
       "6. 'Alameda de Osuna'\n",
       "7. 'Almagro'\n",
       "8. 'Almenara'\n",
       "9. 'Almendrales'\n",
       "10. 'Aluche'\n",
       "11. 'Ambroz'\n",
       "12. 'Amposta'\n",
       "13. 'Apostol Santiago'\n",
       "14. 'Arapiles'\n",
       "15. 'Aravaca'\n",
       "16. 'Arcos'\n",
       "17. 'Argüelles'\n",
       "18. 'Atocha'\n",
       "19. 'Bellas Vistas'\n",
       "20. 'Berruguete'\n",
       "21. 'Buenavista'\n",
       "22. 'Butarque'\n",
       "23. 'Campamento'\n",
       "24. 'Canillas'\n",
       "25. 'Canillejas'\n",
       "26. 'Cármenes'\n",
       "27. 'Casa de Campo'\n",
       "28. 'Casco Histórico de Barajas'\n",
       "29. 'Casco Histórico de Vallecas'\n",
       "30. 'Casco Histórico de Vicálvaro'\n",
       "31. 'Castellana'\n",
       "32. 'Castilla'\n",
       "33. 'Castillejos'\n",
       "34. 'Chopera'\n",
       "35. 'Ciudad Jardín'\n",
       "36. 'Ciudad Universitaria'\n",
       "37. 'Colina'\n",
       "38. 'Comillas'\n",
       "39. 'Concepción'\n",
       "40. 'Corralejos'\n",
       "41. 'Cortes'\n",
       "42. 'Costillares'\n",
       "43. 'Cuatro Caminos'\n",
       "44. 'Cuatro Vientos'\n",
       "45. 'Delicias'\n",
       "46. 'El Goloso'\n",
       "47. 'El Plantío'\n",
       "48. 'El Viso'\n",
       "49. 'Embajadores'\n",
       "50. 'Entrevías'\n",
       "51. 'Estrella'\n",
       "52. 'Fontarrón'\n",
       "53. 'Fuente del Berro'\n",
       "54. 'Fuentelareina'\n",
       "55. 'Gaztambide'\n",
       "56. 'Goya'\n",
       "57. 'Guindalera'\n",
       "58. 'Hellín'\n",
       "59. 'Hispanoamérica'\n",
       "60. 'Ibiza'\n",
       "61. 'Imperial'\n",
       "62. 'Jerónimos'\n",
       "63. 'Justicia'\n",
       "64. 'La Paz'\n",
       "65. 'Legazpi'\n",
       "66. 'Lista'\n",
       "67. 'Los Angeles'\n",
       "68. 'Los Rosales'\n",
       "69. 'Lucero'\n",
       "70. 'Marroquina'\n",
       "71. 'Media Legua'\n",
       "72. 'Mirasierra'\n",
       "73. 'Moscardó'\n",
       "74. 'Niño Jesús'\n",
       "75. 'Nueva España'\n",
       "76. 'Numancia'\n",
       "77. 'Opañel'\n",
       "78. 'Orcasitas'\n",
       "79. 'Orcasur'\n",
       "80. 'Pacífico'\n",
       "81. 'Palacio'\n",
       "82. 'Palomas'\n",
       "83. 'Palomeras Bajas'\n",
       "84. 'Palomeras Sureste'\n",
       "85. 'Palos de Moguer'\n",
       "86. 'Pavones'\n",
       "87. 'Peñagrande'\n",
       "88. 'Pilar'\n",
       "89. 'Pinar del Rey'\n",
       "90. 'Piovera'\n",
       "91. 'Portazgo'\n",
       "92. 'Pradolongo'\n",
       "93. 'Prosperidad'\n",
       "94. 'Pueblo Nuevo'\n",
       "95. 'Puerta Bonita'\n",
       "96. 'Puerta del Angel'\n",
       "97. 'Quintana'\n",
       "98. 'Recoletos'\n",
       "99. 'Rejas'\n",
       "100. 'Rios Rosas'\n",
       "101. 'Rosas'\n",
       "102. 'Salvador'\n",
       "103. 'San Andrés'\n",
       "104. 'San Cristobal'\n",
       "105. 'San Diego'\n",
       "106. 'San Fermín'\n",
       "107. 'San Isidro'\n",
       "108. 'San Juan Bautista'\n",
       "109. 'San Pascual'\n",
       "110. 'Santa Eugenia'\n",
       "111. 'Simancas'\n",
       "112. 'Sol'\n",
       "113. 'Timón'\n",
       "114. 'Trafalgar'\n",
       "115. 'Universidad'\n",
       "116. 'Valdeacederas'\n",
       "117. 'Valdefuentes'\n",
       "118. 'Valdemarín'\n",
       "119. 'Valdezarza'\n",
       "120. 'Vallehermoso'\n",
       "121. 'Valverde'\n",
       "122. 'Ventas'\n",
       "123. 'Vinateros'\n",
       "124. 'Vista Alegre'\n",
       "125. 'Zofío'\n",
       "\n",
       "\n"
      ],
      "text/plain": [
       "  [1] \"Abrantes\"                     \"Acacias\"                     \n",
       "  [3] \"Adelfas\"                      \"Aeropuerto\"                  \n",
       "  [5] \"Aguilas\"                      \"Alameda de Osuna\"            \n",
       "  [7] \"Almagro\"                      \"Almenara\"                    \n",
       "  [9] \"Almendrales\"                  \"Aluche\"                      \n",
       " [11] \"Ambroz\"                       \"Amposta\"                     \n",
       " [13] \"Apostol Santiago\"             \"Arapiles\"                    \n",
       " [15] \"Aravaca\"                      \"Arcos\"                       \n",
       " [17] \"Argüelles\"                    \"Atocha\"                      \n",
       " [19] \"Bellas Vistas\"                \"Berruguete\"                  \n",
       " [21] \"Buenavista\"                   \"Butarque\"                    \n",
       " [23] \"Campamento\"                   \"Canillas\"                    \n",
       " [25] \"Canillejas\"                   \"Cármenes\"                    \n",
       " [27] \"Casa de Campo\"                \"Casco Histórico de Barajas\"  \n",
       " [29] \"Casco Histórico de Vallecas\"  \"Casco Histórico de Vicálvaro\"\n",
       " [31] \"Castellana\"                   \"Castilla\"                    \n",
       " [33] \"Castillejos\"                  \"Chopera\"                     \n",
       " [35] \"Ciudad Jardín\"                \"Ciudad Universitaria\"        \n",
       " [37] \"Colina\"                       \"Comillas\"                    \n",
       " [39] \"Concepción\"                   \"Corralejos\"                  \n",
       " [41] \"Cortes\"                       \"Costillares\"                 \n",
       " [43] \"Cuatro Caminos\"               \"Cuatro Vientos\"              \n",
       " [45] \"Delicias\"                     \"El Goloso\"                   \n",
       " [47] \"El Plantío\"                   \"El Viso\"                     \n",
       " [49] \"Embajadores\"                  \"Entrevías\"                   \n",
       " [51] \"Estrella\"                     \"Fontarrón\"                   \n",
       " [53] \"Fuente del Berro\"             \"Fuentelareina\"               \n",
       " [55] \"Gaztambide\"                   \"Goya\"                        \n",
       " [57] \"Guindalera\"                   \"Hellín\"                      \n",
       " [59] \"Hispanoamérica\"               \"Ibiza\"                       \n",
       " [61] \"Imperial\"                     \"Jerónimos\"                   \n",
       " [63] \"Justicia\"                     \"La Paz\"                      \n",
       " [65] \"Legazpi\"                      \"Lista\"                       \n",
       " [67] \"Los Angeles\"                  \"Los Rosales\"                 \n",
       " [69] \"Lucero\"                       \"Marroquina\"                  \n",
       " [71] \"Media Legua\"                  \"Mirasierra\"                  \n",
       " [73] \"Moscardó\"                     \"Niño Jesús\"                  \n",
       " [75] \"Nueva España\"                 \"Numancia\"                    \n",
       " [77] \"Opañel\"                       \"Orcasitas\"                   \n",
       " [79] \"Orcasur\"                      \"Pacífico\"                    \n",
       " [81] \"Palacio\"                      \"Palomas\"                     \n",
       " [83] \"Palomeras Bajas\"              \"Palomeras Sureste\"           \n",
       " [85] \"Palos de Moguer\"              \"Pavones\"                     \n",
       " [87] \"Peñagrande\"                   \"Pilar\"                       \n",
       " [89] \"Pinar del Rey\"                \"Piovera\"                     \n",
       " [91] \"Portazgo\"                     \"Pradolongo\"                  \n",
       " [93] \"Prosperidad\"                  \"Pueblo Nuevo\"                \n",
       " [95] \"Puerta Bonita\"                \"Puerta del Angel\"            \n",
       " [97] \"Quintana\"                     \"Recoletos\"                   \n",
       " [99] \"Rejas\"                        \"Rios Rosas\"                  \n",
       "[101] \"Rosas\"                        \"Salvador\"                    \n",
       "[103] \"San Andrés\"                   \"San Cristobal\"               \n",
       "[105] \"San Diego\"                    \"San Fermín\"                  \n",
       "[107] \"San Isidro\"                   \"San Juan Bautista\"           \n",
       "[109] \"San Pascual\"                  \"Santa Eugenia\"               \n",
       "[111] \"Simancas\"                     \"Sol\"                         \n",
       "[113] \"Timón\"                        \"Trafalgar\"                   \n",
       "[115] \"Universidad\"                  \"Valdeacederas\"               \n",
       "[117] \"Valdefuentes\"                 \"Valdemarín\"                  \n",
       "[119] \"Valdezarza\"                   \"Vallehermoso\"                \n",
       "[121] \"Valverde\"                     \"Ventas\"                      \n",
       "[123] \"Vinateros\"                    \"Vista Alegre\"                \n",
       "[125] \"Zofío\"                       "
      ]
     },
     "metadata": {},
     "output_type": "display_data"
    }
   ],
   "source": [
    "levels(airbnb$Barrio)"
   ]
  },
  {
   "cell_type": "markdown",
   "metadata": {},
   "source": [
    "¿Cuales son los 5 barrios que tienen mayor número entradas?"
   ]
  },
  {
   "cell_type": "code",
   "execution_count": 784,
   "metadata": {},
   "outputs": [
    {
     "name": "stdout",
     "output_type": "stream",
     "text": [
      "[1] \"Los 5 barrios con mayor numero de entradas son: \"\n"
     ]
    },
    {
     "data": {
      "text/html": [
       "<style>\n",
       ".dl-inline {width: auto; margin:0; padding: 0}\n",
       ".dl-inline>dt, .dl-inline>dd {float: none; width: auto; display: inline-block}\n",
       ".dl-inline>dt::after {content: \":\\0020\"; padding-right: .5ex}\n",
       ".dl-inline>dt:not(:first-of-type) {padding-left: .5ex}\n",
       "</style><dl class=dl-inline><dt>Embajadores</dt><dd>1844</dd><dt>Universidad</dt><dd>1358</dd><dt>Palacio</dt><dd>1083</dd><dt>Sol</dt><dd>940</dd><dt>Justicia</dt><dd>785</dd></dl>\n"
      ],
      "text/latex": [
       "\\begin{description*}\n",
       "\\item[Embajadores] 1844\n",
       "\\item[Universidad] 1358\n",
       "\\item[Palacio] 1083\n",
       "\\item[Sol] 940\n",
       "\\item[Justicia] 785\n",
       "\\end{description*}\n"
      ],
      "text/markdown": [
       "Embajadores\n",
       ":   1844Universidad\n",
       ":   1358Palacio\n",
       ":   1083Sol\n",
       ":   940Justicia\n",
       ":   785\n",
       "\n"
      ],
      "text/plain": [
       "Embajadores Universidad     Palacio         Sol    Justicia \n",
       "       1844        1358        1083         940         785 "
      ]
     },
     "metadata": {},
     "output_type": "display_data"
    }
   ],
   "source": [
    "print(\"Los 5 barrios con mayor numero de entradas son: \") \n",
    "sort(summary(airbnb$Barrio),decreasing = TRUE)[1:5]"
   ]
  },
  {
   "cell_type": "markdown",
   "metadata": {},
   "source": [
    "¿Cuantos Tipos de Alquiler diferentes hay? ¿Cuales son? ¿Cuantas entradas en el dataframe hay por cada tipo?"
   ]
  },
  {
   "cell_type": "code",
   "execution_count": 785,
   "metadata": {},
   "outputs": [
    {
     "name": "stdout",
     "output_type": "stream",
     "text": [
      "[1] \"hay  3 tipos de alquileres diferentes\"\n"
     ]
    },
    {
     "data": {
      "text/plain": [
       "\n",
       "Entire home/apt    Private room     Shared room \n",
       "           7903            5113             191 "
      ]
     },
     "metadata": {},
     "output_type": "display_data"
    }
   ],
   "source": [
    "print(paste(\"hay \", length(levels(airbnb$TipoAlquiler)), \"tipos de alquileres diferentes\"))\n",
    "table(airbnb$TipoAlquiler)"
   ]
  },
  {
   "cell_type": "markdown",
   "metadata": {},
   "source": [
    "Muestra el diagrama de cajas del precio para cada uno de los diferentes Tipos de Alquiler"
   ]
  },
  {
   "cell_type": "code",
   "execution_count": 786,
   "metadata": {},
   "outputs": [
    {
     "data": {
      "text/plain": [
       "   Min. 1st Qu.  Median    Mean 3rd Qu.    Max.    NA's \n",
       "   9.00   31.00   52.00   65.92   80.00  875.00       9 "
      ]
     },
     "metadata": {},
     "output_type": "display_data"
    }
   ],
   "source": [
    "summary(airbnb$Precio)"
   ]
  },
  {
   "cell_type": "code",
   "execution_count": 787,
   "metadata": {},
   "outputs": [
    {
     "name": "stderr",
     "output_type": "stream",
     "text": [
      "Warning message:\n",
      "“Removed 9 rows containing non-finite values (stat_boxplot).”\n"
     ]
    },
    {
     "data": {
      "image/png": "[encoded data removed]",
      "text/plain": [
       "plot without title"
      ]
     },
     "metadata": {
      "image/png": {
       "height": 240,
       "width": 360
      },
      "text/plain": {
       "height": 240,
       "width": 360
      }
     },
     "output_type": "display_data"
    }
   ],
   "source": [
    "ggplot(data=airbnb,aes(x=TipoAlquiler, y=Precio,color=TipoAlquiler))+geom_boxplot()+\n",
    " scale_color_discrete(name=\"Tipo de Alquiler\")+ylab(\"Precio\")+xlab(\"Tipo de Alquiler\")"
   ]
  },
  {
   "cell_type": "markdown",
   "metadata": {},
   "source": [
    "Cual es el precio medio de alquiler de cada uno, la diferencia que hay ¿es estadísticamente significativa?\n",
    "¿Con que test lo comprobarías?"
   ]
  },
  {
   "cell_type": "code",
   "execution_count": 788,
   "metadata": {},
   "outputs": [
    {
     "data": {
      "text/html": [
       "<style>\n",
       ".list-inline {list-style: none; margin:0; padding: 0}\n",
       ".list-inline>li {display: inline-block}\n",
       ".list-inline>li:not(:last-child)::after {content: \"\\00b7\"; padding: 0 .5ex}\n",
       "</style>\n",
       "<ol class=list-inline><li>'Entire home/apt'</li><li>'Private room'</li><li>'Shared room'</li></ol>\n"
      ],
      "text/latex": [
       "\\begin{enumerate*}\n",
       "\\item 'Entire home/apt'\n",
       "\\item 'Private room'\n",
       "\\item 'Shared room'\n",
       "\\end{enumerate*}\n"
      ],
      "text/markdown": [
       "1. 'Entire home/apt'\n",
       "2. 'Private room'\n",
       "3. 'Shared room'\n",
       "\n",
       "\n"
      ],
      "text/plain": [
       "[1] \"Entire home/apt\" \"Private room\"    \"Shared room\"    "
      ]
     },
     "metadata": {},
     "output_type": "display_data"
    },
    {
     "name": "stdout",
     "output_type": "stream",
     "text": [
      "[1] \"Precio medio de alquileres Entire home/apt:  87.2966058763931\"\n",
      "[1] \"Precio medio de alquileres Private room:  34.255135981217\"\n",
      "[1] \"Precio medio de alquileres Shared room:  29.8534031413613\"\n",
      "[1] \"Test de shapiro en Entire: \"\n"
     ]
    },
    {
     "data": {
      "text/html": [
       "1.24077898621874e-72"
      ],
      "text/latex": [
       "1.24077898621874e-72"
      ],
      "text/markdown": [
       "1.24077898621874e-72"
      ],
      "text/plain": [
       "[1] 1.240779e-72"
      ]
     },
     "metadata": {},
     "output_type": "display_data"
    },
    {
     "name": "stdout",
     "output_type": "stream",
     "text": [
      "[1] \"Test de shapiro en Private: \"\n"
     ]
    },
    {
     "data": {
      "text/html": [
       "9.18974842339072e-85"
      ],
      "text/latex": [
       "9.18974842339072e-85"
      ],
      "text/markdown": [
       "9.18974842339072e-85"
      ],
      "text/plain": [
       "[1] 9.189748e-85"
      ]
     },
     "metadata": {},
     "output_type": "display_data"
    },
    {
     "name": "stdout",
     "output_type": "stream",
     "text": [
      "[1] \"Test de shapiro en Shared: \"\n"
     ]
    },
    {
     "data": {
      "text/html": [
       "4.51672121600842e-24"
      ],
      "text/latex": [
       "4.51672121600842e-24"
      ],
      "text/markdown": [
       "4.51672121600842e-24"
      ],
      "text/plain": [
       "[1] 4.516721e-24"
      ]
     },
     "metadata": {},
     "output_type": "display_data"
    }
   ],
   "source": [
    "levels(airbnb$TipoAlquiler)\n",
    "entire<-subset(airbnb,TipoAlquiler=='Entire home/apt')\n",
    "print(paste(\"Precio medio de alquileres Entire home/apt: \",mean(entire$Precio,na.rm=TRUE)))\n",
    "\n",
    "Private<-subset(airbnb,TipoAlquiler=='Private room')\n",
    "print(paste(\"Precio medio de alquileres Private room: \",mean(Private$Precio,na.rm=TRUE)))\n",
    "Shared<-subset(airbnb,TipoAlquiler=='Shared room')\n",
    "print(paste(\"Precio medio de alquileres Shared room: \",mean(Shared$Precio,na.rm=TRUE)))\n",
    "\n",
    "print(\"Test de shapiro en Entire: \")\n",
    "shapiro.test(entire[1:5000,]$Precio)$p.value\n",
    "print(\"Test de shapiro en Private: \")\n",
    "shapiro.test(Private[1:5000,]$Precio)$p.value\n",
    "print(\"Test de shapiro en Shared: \")\n",
    "shapiro.test(Shared[1:5000,]$Precio)$p.value\n",
    "\n"
   ]
  },
  {
   "cell_type": "code",
   "execution_count": 789,
   "metadata": {},
   "outputs": [
    {
     "name": "stdout",
     "output_type": "stream",
     "text": [
      "[1] \"Al no ser una gaussiana, lo comprobamos con el test de kruskal\"\n"
     ]
    },
    {
     "data": {
      "text/plain": [
       "\n",
       "\tKruskal-Wallis rank sum test\n",
       "\n",
       "data:  Precio by TipoAlquiler\n",
       "Kruskal-Wallis chi-squared = 7235.6, df = 2, p-value < 2.2e-16\n"
      ]
     },
     "metadata": {},
     "output_type": "display_data"
    },
    {
     "data": {
      "text/html": [
       "'pvalor= 0'"
      ],
      "text/latex": [
       "'pvalor= 0'"
      ],
      "text/markdown": [
       "'pvalor= 0'"
      ],
      "text/plain": [
       "[1] \"pvalor= 0\""
      ]
     },
     "metadata": {},
     "output_type": "display_data"
    },
    {
     "name": "stdout",
     "output_type": "stream",
     "text": [
      "[1] \"Al tener un pvalor muy bajo, no es estadisticamente significativo\"\n"
     ]
    }
   ],
   "source": [
    "print(\"Al no ser una gaussiana, lo comprobamos con el test de kruskal\")\n",
    "TEST<-kruskal.test(Precio~TipoAlquiler,data= airbnb)\n",
    "TEST\n",
    "\n",
    "paste(\"pvalor=\",TEST$p.value)\n",
    "\n",
    "print(\"Al tener un pvalor muy bajo, no es estadisticamente significativo\")"
   ]
  },
  {
   "cell_type": "markdown",
   "metadata": {},
   "source": [
    "Filtra el dataframe cuyos tipo de alquiler sea  'Entire home/apt' y guardalo en un dataframe llamado \n",
    "*airbnb_entire*.\n",
    "Estas serán las entradas que tienen un alquiler del piso completo."
   ]
  },
  {
   "cell_type": "code",
   "execution_count": 790,
   "metadata": {},
   "outputs": [],
   "source": [
    " airbnb_entire<-subset(airbnb,TipoAlquiler=='Entire home/apt')"
   ]
  },
  {
   "cell_type": "markdown",
   "metadata": {},
   "source": [
    "¿Cuales son los 5 barrios que tienen un mayor número de apartamentos enteros en alquiler?\n",
    "Nota: Mirar solo en airbnb_entire"
   ]
  },
  {
   "cell_type": "code",
   "execution_count": 791,
   "metadata": {},
   "outputs": [
    {
     "data": {
      "text/plain": [
       "\n",
       "Embajadores Universidad     Palacio         Sol      Cortes \n",
       "       1228         984         769         701         574 "
      ]
     },
     "metadata": {},
     "output_type": "display_data"
    }
   ],
   "source": [
    "head(sort(table(airbnb_entire$Barrio),decreasing=TRUE),5)"
   ]
  },
  {
   "cell_type": "markdown",
   "metadata": {},
   "source": [
    "¿Cuales son los 5 barrios que tienen un mayor precio medio de alquiler para apartamentos enteros?\n",
    "\n",
    "¿Cual es su precio medio?\n",
    "\n",
    "Ayuda: Usa la función aggregate `aggregate(.~colname,df,mean,na.rm=TRUE)`"
   ]
  },
  {
   "cell_type": "code",
   "execution_count": 792,
   "metadata": {},
   "outputs": [
    {
     "data": {
      "text/html": [
       "<table>\n",
       "<caption>A data.frame: 5 × 2</caption>\n",
       "<thead>\n",
       "\t<tr><th></th><th scope=col>Barrio</th><th scope=col>Precio</th></tr>\n",
       "\t<tr><th></th><th scope=col>&lt;fct&gt;</th><th scope=col>&lt;dbl&gt;</th></tr>\n",
       "</thead>\n",
       "<tbody>\n",
       "\t<tr><th scope=row>77</th><td>Palomas      </td><td>309.7500</td></tr>\n",
       "\t<tr><th scope=row>50</th><td>Fuentelareina</td><td>180.0000</td></tr>\n",
       "\t<tr><th scope=row>93</th><td>Recoletos    </td><td>161.9254</td></tr>\n",
       "\t<tr><th scope=row>43</th><td>El Plantío   </td><td>150.0000</td></tr>\n",
       "\t<tr><th scope=row>30</th><td>Castellana   </td><td>141.3889</td></tr>\n",
       "</tbody>\n",
       "</table>\n"
      ],
      "text/latex": [
       "A data.frame: 5 × 2\n",
       "\\begin{tabular}{r|ll}\n",
       "  & Barrio & Precio\\\\\n",
       "  & <fct> & <dbl>\\\\\n",
       "\\hline\n",
       "\t77 & Palomas       & 309.7500\\\\\n",
       "\t50 & Fuentelareina & 180.0000\\\\\n",
       "\t93 & Recoletos     & 161.9254\\\\\n",
       "\t43 & El Plantío    & 150.0000\\\\\n",
       "\t30 & Castellana    & 141.3889\\\\\n",
       "\\end{tabular}\n"
      ],
      "text/markdown": [
       "\n",
       "A data.frame: 5 × 2\n",
       "\n",
       "| <!--/--> | Barrio &lt;fct&gt; | Precio &lt;dbl&gt; |\n",
       "|---|---|---|\n",
       "| 77 | Palomas       | 309.7500 |\n",
       "| 50 | Fuentelareina | 180.0000 |\n",
       "| 93 | Recoletos     | 161.9254 |\n",
       "| 43 | El Plantío    | 150.0000 |\n",
       "| 30 | Castellana    | 141.3889 |\n",
       "\n"
      ],
      "text/plain": [
       "   Barrio        Precio  \n",
       "77 Palomas       309.7500\n",
       "50 Fuentelareina 180.0000\n",
       "93 Recoletos     161.9254\n",
       "43 El Plantío    150.0000\n",
       "30 Castellana    141.3889"
      ]
     },
     "metadata": {},
     "output_type": "display_data"
    }
   ],
   "source": [
    "PrecioMedio<-aggregate(. ~ Barrio, airbnb_entire[c(\"Barrio\",\"Precio\")], mean,na.rm=TRUE)\n",
    "head(PrecioMedio[order(PrecioMedio$Precio,decreasing=TRUE),],5)\n"
   ]
  },
  {
   "cell_type": "markdown",
   "metadata": {},
   "source": [
    "¿Cuantos apartamentos hay en cada uno de esos barrios?\n",
    "\n",
    "Mostrar una dataframe con el nombre del barrio, el precio y el número de entradas.\n",
    "\n",
    "Ayuda: Podeis crear un nuevo dataframe con las columnas \"Barrio\" y \"Freq\" que contenga el número de entradas en cada barrio y hacer un merge con el dataframe del punto anterior."
   ]
  },
  {
   "cell_type": "code",
   "execution_count": 793,
   "metadata": {},
   "outputs": [
    {
     "data": {
      "text/html": [
       "<table>\n",
       "<caption>A data.frame: 5 × 3</caption>\n",
       "<thead>\n",
       "\t<tr><th></th><th scope=col>Barrio</th><th scope=col>Freq</th><th scope=col>Precio</th></tr>\n",
       "\t<tr><th></th><th scope=col>&lt;fct&gt;</th><th scope=col>&lt;int&gt;</th><th scope=col>&lt;dbl&gt;</th></tr>\n",
       "</thead>\n",
       "<tbody>\n",
       "\t<tr><th scope=row>77</th><td>Palomas      </td><td>  4</td><td>309.7500</td></tr>\n",
       "\t<tr><th scope=row>50</th><td>Fuentelareina</td><td>  2</td><td>180.0000</td></tr>\n",
       "\t<tr><th scope=row>93</th><td>Recoletos    </td><td>135</td><td>161.9254</td></tr>\n",
       "\t<tr><th scope=row>43</th><td>El Plantío   </td><td>  1</td><td>150.0000</td></tr>\n",
       "\t<tr><th scope=row>30</th><td>Castellana   </td><td> 73</td><td>141.3889</td></tr>\n",
       "</tbody>\n",
       "</table>\n"
      ],
      "text/latex": [
       "A data.frame: 5 × 3\n",
       "\\begin{tabular}{r|lll}\n",
       "  & Barrio & Freq & Precio\\\\\n",
       "  & <fct> & <int> & <dbl>\\\\\n",
       "\\hline\n",
       "\t77 & Palomas       &   4 & 309.7500\\\\\n",
       "\t50 & Fuentelareina &   2 & 180.0000\\\\\n",
       "\t93 & Recoletos     & 135 & 161.9254\\\\\n",
       "\t43 & El Plantío    &   1 & 150.0000\\\\\n",
       "\t30 & Castellana    &  73 & 141.3889\\\\\n",
       "\\end{tabular}\n"
      ],
      "text/markdown": [
       "\n",
       "A data.frame: 5 × 3\n",
       "\n",
       "| <!--/--> | Barrio &lt;fct&gt; | Freq &lt;int&gt; | Precio &lt;dbl&gt; |\n",
       "|---|---|---|---|\n",
       "| 77 | Palomas       |   4 | 309.7500 |\n",
       "| 50 | Fuentelareina |   2 | 180.0000 |\n",
       "| 93 | Recoletos     | 135 | 161.9254 |\n",
       "| 43 | El Plantío    |   1 | 150.0000 |\n",
       "| 30 | Castellana    |  73 | 141.3889 |\n",
       "\n"
      ],
      "text/plain": [
       "   Barrio        Freq Precio  \n",
       "77 Palomas         4  309.7500\n",
       "50 Fuentelareina   2  180.0000\n",
       "93 Recoletos     135  161.9254\n",
       "43 El Plantío      1  150.0000\n",
       "30 Castellana     73  141.3889"
      ]
     },
     "metadata": {},
     "output_type": "display_data"
    }
   ],
   "source": [
    "VAR<-data.frame(table(airbnb_entire$Barrio))\n",
    "colnames(VAR)<-c(\"Barrio\",\"Freq\")\n",
    "\n",
    "PrecioMedio<-merge(VAR,PrecioMedio,by=\"Barrio\")\n",
    "PrecioMedio<-PrecioMedio[order(PrecioMedio$Precio,decreasing=TRUE),]\n",
    "\n",
    "head(PrecioMedio,5)\n"
   ]
  },
  {
   "cell_type": "markdown",
   "metadata": {},
   "source": [
    "Partiendo del dataframe anterior, muestra los 5 barrios con mayor precio, pero que tengan más de 100 entradas de alquiler."
   ]
  },
  {
   "cell_type": "code",
   "execution_count": 794,
   "metadata": {},
   "outputs": [
    {
     "data": {
      "text/html": [
       "<table>\n",
       "<caption>A data.frame: 5 × 3</caption>\n",
       "<thead>\n",
       "\t<tr><th></th><th scope=col>Barrio</th><th scope=col>Freq</th><th scope=col>Precio</th></tr>\n",
       "\t<tr><th></th><th scope=col>&lt;fct&gt;</th><th scope=col>&lt;int&gt;</th><th scope=col>&lt;dbl&gt;</th></tr>\n",
       "</thead>\n",
       "<tbody>\n",
       "\t<tr><th scope=row>93</th><td>Recoletos</td><td>135</td><td>161.92537</td></tr>\n",
       "\t<tr><th scope=row>52</th><td>Goya     </td><td>142</td><td>111.33803</td></tr>\n",
       "\t<tr><th scope=row>106</th><td>Sol      </td><td>701</td><td>100.75036</td></tr>\n",
       "\t<tr><th scope=row>108</th><td>Trafalgar</td><td>223</td><td> 98.57848</td></tr>\n",
       "\t<tr><th scope=row>59</th><td>Justicia </td><td>534</td><td> 98.25468</td></tr>\n",
       "</tbody>\n",
       "</table>\n"
      ],
      "text/latex": [
       "A data.frame: 5 × 3\n",
       "\\begin{tabular}{r|lll}\n",
       "  & Barrio & Freq & Precio\\\\\n",
       "  & <fct> & <int> & <dbl>\\\\\n",
       "\\hline\n",
       "\t93 & Recoletos & 135 & 161.92537\\\\\n",
       "\t52 & Goya      & 142 & 111.33803\\\\\n",
       "\t106 & Sol       & 701 & 100.75036\\\\\n",
       "\t108 & Trafalgar & 223 &  98.57848\\\\\n",
       "\t59 & Justicia  & 534 &  98.25468\\\\\n",
       "\\end{tabular}\n"
      ],
      "text/markdown": [
       "\n",
       "A data.frame: 5 × 3\n",
       "\n",
       "| <!--/--> | Barrio &lt;fct&gt; | Freq &lt;int&gt; | Precio &lt;dbl&gt; |\n",
       "|---|---|---|---|\n",
       "| 93 | Recoletos | 135 | 161.92537 |\n",
       "| 52 | Goya      | 142 | 111.33803 |\n",
       "| 106 | Sol       | 701 | 100.75036 |\n",
       "| 108 | Trafalgar | 223 |  98.57848 |\n",
       "| 59 | Justicia  | 534 |  98.25468 |\n",
       "\n"
      ],
      "text/plain": [
       "    Barrio    Freq Precio   \n",
       "93  Recoletos 135  161.92537\n",
       "52  Goya      142  111.33803\n",
       "106 Sol       701  100.75036\n",
       "108 Trafalgar 223   98.57848\n",
       "59  Justicia  534   98.25468"
      ]
     },
     "metadata": {},
     "output_type": "display_data"
    }
   ],
   "source": [
    "PrecioMedio100<-subset(PrecioMedio,PrecioMedio$Freq>100)\n",
    "head(PrecioMedio100,5)"
   ]
  },
  {
   "cell_type": "markdown",
   "metadata": {},
   "source": [
    "Dibuja el diagrama de densidad de distribución de los diferentes precios. Serían 5 gráficas, una por cada barrio."
   ]
  },
  {
   "cell_type": "code",
   "execution_count": 795,
   "metadata": {},
   "outputs": [
    {
     "name": "stderr",
     "output_type": "stream",
     "text": [
      "Warning message:\n",
      "“Removed 1 rows containing non-finite values (stat_density).”\n"
     ]
    },
    {
     "data": {
      "image/png": "[encoded data removed]",
      "text/plain": [
       "plot without title"
      ]
     },
     "metadata": {
      "image/png": {
       "height": 240,
       "width": 360
      },
      "text/plain": {
       "height": 240,
       "width": 360
      }
     },
     "output_type": "display_data"
    }
   ],
   "source": [
    "Barrios<-head(PrecioMedio100,5)$Barrio\n",
    "Barrios_Precios<-subset(airbnb_entire,Barrio %in% Barrios)\n",
    "ggplot(Barrios_Precios,aes(x=Precio,color=Barrio))+geom_density(bw=10)"
   ]
  },
  {
   "cell_type": "markdown",
   "metadata": {},
   "source": [
    "Calcula el tamaño medio, en metros cuadrados, para los 5 barrios anteriores y muestralo en el mismo dataframe junto con el precio y número de entradas"
   ]
  },
  {
   "cell_type": "code",
   "execution_count": 796,
   "metadata": {},
   "outputs": [
    {
     "data": {
      "text/html": [
       "<table>\n",
       "<caption>A data.frame: 5 × 4</caption>\n",
       "<thead>\n",
       "\t<tr><th></th><th scope=col>Barrio</th><th scope=col>Freq</th><th scope=col>Precio</th><th scope=col>MetrosCuadrados</th></tr>\n",
       "\t<tr><th></th><th scope=col>&lt;fct&gt;</th><th scope=col>&lt;int&gt;</th><th scope=col>&lt;dbl&gt;</th><th scope=col>&lt;dbl&gt;</th></tr>\n",
       "</thead>\n",
       "<tbody>\n",
       "\t<tr><th scope=row>8</th><td>Recoletos</td><td>135</td><td>161.92537</td><td>26.66316</td></tr>\n",
       "\t<tr><th scope=row>4</th><td>Goya     </td><td>142</td><td>111.33803</td><td>51.68504</td></tr>\n",
       "\t<tr><th scope=row>9</th><td>Sol      </td><td>701</td><td>100.75036</td><td>45.61692</td></tr>\n",
       "\t<tr><th scope=row>10</th><td>Trafalgar</td><td>223</td><td> 98.57848</td><td>29.30426</td></tr>\n",
       "\t<tr><th scope=row>5</th><td>Justicia </td><td>534</td><td> 98.25468</td><td>28.52669</td></tr>\n",
       "</tbody>\n",
       "</table>\n"
      ],
      "text/latex": [
       "A data.frame: 5 × 4\n",
       "\\begin{tabular}{r|llll}\n",
       "  & Barrio & Freq & Precio & MetrosCuadrados\\\\\n",
       "  & <fct> & <int> & <dbl> & <dbl>\\\\\n",
       "\\hline\n",
       "\t8 & Recoletos & 135 & 161.92537 & 26.66316\\\\\n",
       "\t4 & Goya      & 142 & 111.33803 & 51.68504\\\\\n",
       "\t9 & Sol       & 701 & 100.75036 & 45.61692\\\\\n",
       "\t10 & Trafalgar & 223 &  98.57848 & 29.30426\\\\\n",
       "\t5 & Justicia  & 534 &  98.25468 & 28.52669\\\\\n",
       "\\end{tabular}\n"
      ],
      "text/markdown": [
       "\n",
       "A data.frame: 5 × 4\n",
       "\n",
       "| <!--/--> | Barrio &lt;fct&gt; | Freq &lt;int&gt; | Precio &lt;dbl&gt; | MetrosCuadrados &lt;dbl&gt; |\n",
       "|---|---|---|---|---|\n",
       "| 8 | Recoletos | 135 | 161.92537 | 26.66316 |\n",
       "| 4 | Goya      | 142 | 111.33803 | 51.68504 |\n",
       "| 9 | Sol       | 701 | 100.75036 | 45.61692 |\n",
       "| 10 | Trafalgar | 223 |  98.57848 | 29.30426 |\n",
       "| 5 | Justicia  | 534 |  98.25468 | 28.52669 |\n",
       "\n"
      ],
      "text/plain": [
       "   Barrio    Freq Precio    MetrosCuadrados\n",
       "8  Recoletos 135  161.92537 26.66316       \n",
       "4  Goya      142  111.33803 51.68504       \n",
       "9  Sol       701  100.75036 45.61692       \n",
       "10 Trafalgar 223   98.57848 29.30426       \n",
       "5  Justicia  534   98.25468 28.52669       "
      ]
     },
     "metadata": {},
     "output_type": "display_data"
    }
   ],
   "source": [
    "Tamano_Medio<-aggregate(. ~ Barrio, airbnb_entire[c(\"Barrio\",\"MetrosCuadrados\")], mean,na.rm=TRUE)\n",
    "PrecioMedio100<-merge(PrecioMedio100,Tamano_Medio,by=\"Barrio\")\n",
    "\n",
    "PrecioMedio100<-PrecioMedio100[order(PrecioMedio100$Precio,decreasing = T),]\n",
    "head(PrecioMedio100,5)"
   ]
  },
  {
   "cell_type": "markdown",
   "metadata": {},
   "source": [
    "Dibuja el diagrama de densidad de distribución de los diferentes tamaños de apartamentos. Serían 5 gráficas, una por cada barrio."
   ]
  },
  {
   "cell_type": "code",
   "execution_count": 797,
   "metadata": {},
   "outputs": [
    {
     "name": "stderr",
     "output_type": "stream",
     "text": [
      "Warning message:\n",
      "“Removed 1645 rows containing non-finite values (stat_density).”\n"
     ]
    },
    {
     "data": {
      "image/png": "[encoded data removed]",
      "text/plain": [
       "plot without title"
      ]
     },
     "metadata": {
      "image/png": {
       "height": 240,
       "width": 360
      },
      "text/plain": {
       "height": 240,
       "width": 360
      }
     },
     "output_type": "display_data"
    }
   ],
   "source": [
    " Barrios_Precios<-subset(airbnb_entire,Barrio %in% Barrios)\n",
    "ggplot(Barrios_Precios,aes(x=MetrosCuadrados,color=Barrio))+geom_density()"
   ]
  },
  {
   "cell_type": "markdown",
   "metadata": {},
   "source": [
    "Esta claro que las medias de cada uno de estos 5 barrios parecen ser diferentes, pero ¿son estadísticamente diferentes?\n",
    "¿Que test habría que usar para comprobarlo?"
   ]
  },
  {
   "cell_type": "code",
   "execution_count": 798,
   "metadata": {},
   "outputs": [
    {
     "name": "stdout",
     "output_type": "stream",
     "text": [
      "[1] \"El precio medio en el barrio Sol  =  45.6169213833333\"\n",
      "[1] \" El pvlalor en el Test de Shapiro para el barrio  Sol  es =  6.82296081876145e-30\"\n",
      "[1] \"El precio medio en el barrio Justicia  =  28.5266858823529\"\n",
      "[1] \" El pvlalor en el Test de Shapiro para el barrio  Justicia  es =  6.68576869862315e-32\"\n",
      "[1] \"El precio medio en el barrio Recoletos  =  26.663161\"\n",
      "[1] \" El pvlalor en el Test de Shapiro para el barrio  Recoletos  es =  2.80034621674868e-13\"\n",
      "[1] \"El precio medio en el barrio Goya  =  51.6850356666667\"\n",
      "[1] \" El pvlalor en el Test de Shapiro para el barrio  Goya  es =  2.76797989326578e-11\"\n",
      "[1] \"El precio medio en el barrio Trafalgar  =  29.3042605714286\"\n",
      "[1] \" El pvlalor en el Test de Shapiro para el barrio  Trafalgar  es =  5.98924729847284e-17\"\n",
      "[1] \"Al no ser una gaussiana, lo comprobamos con el test de kruskal\"\n"
     ]
    },
    {
     "data": {
      "text/plain": [
       "\n",
       "\tKruskal-Wallis rank sum test\n",
       "\n",
       "data:  MetrosCuadrados by Barrio\n",
       "Kruskal-Wallis chi-squared = 1.882, df = 4, p-value = 0.7574\n"
      ]
     },
     "metadata": {},
     "output_type": "display_data"
    },
    {
     "name": "stdout",
     "output_type": "stream",
     "text": [
      "[1] \"como el pvalue es muy alto, no se puede saber con seguridad si los apartamentos son estadisticamente diferentes en tamaño\"\n"
     ]
    }
   ],
   "source": [
    " for (barrio in unique(Barrios_Precios$Barrio)){\n",
    "    df<-Barrios_Precios[which(Barrios_Precios$Barrio==as.character(barrio)),]\n",
    "    print(paste(\"El precio medio en el barrio\",barrio,\" = \",mean(df$MetrosCuadrados,na.rm=T)))\n",
    "    if (nrow(df)>5000){\n",
    "        df<-df[1:5000,]\n",
    "    }\n",
    "    sp<-shapiro.test(df$Precio)\n",
    "    print(paste(\" El pvlalor en el Test de Shapiro para el barrio \",barrio,\" es = \",sp$p.value))\n",
    "}\n",
    "\n",
    "print(\"Al no ser una gaussiana, lo comprobamos con el test de kruskal\")\n",
    "\n",
    "TEST2<-kruskal.test(MetrosCuadrados~Barrio,Barrios_Precios)\n",
    "TEST2\n",
    "\n",
    "print(\"como el pvalue es muy alto, no se puede saber con seguridad si los apartamentos son estadisticamente diferentes en tamaño\")"
   ]
  },
  {
   "cell_type": "markdown",
   "metadata": {},
   "source": [
    "Para únicamente los pisos de alquiler en el barrio de Sol:\n",
    "\n",
    "``barrio_sol<-subset(airbnb_entire,Barrio==\"Sol\")``\n",
    "\n",
    "Calcular un modelo lineal que combine alguna de estas variables:\n",
    "* NumBanyos\n",
    "* NumDormitorios\n",
    "* MaxOcupantes\n",
    "* MetrosCuadrados"
   ]
  },
  {
   "cell_type": "code",
   "execution_count": 799,
   "metadata": {},
   "outputs": [],
   "source": [
    "barrio_sol<-subset(airbnb_entire,Barrio==\"Sol\")"
   ]
  },
  {
   "cell_type": "markdown",
   "metadata": {},
   "source": [
    "Primero calculamos la correlación para ver como se relacionan estas variables entre sí."
   ]
  },
  {
   "cell_type": "code",
   "execution_count": 800,
   "metadata": {},
   "outputs": [
    {
     "data": {
      "text/html": [
       "<table>\n",
       "<caption>A matrix: 4 × 4 of type dbl</caption>\n",
       "<thead>\n",
       "\t<tr><th></th><th scope=col>NumBanyos</th><th scope=col>NumDormitorios</th><th scope=col>MaxOcupantes</th><th scope=col>MetrosCuadrados</th></tr>\n",
       "</thead>\n",
       "<tbody>\n",
       "\t<tr><th scope=row>NumBanyos</th><td>1.0000000</td><td>0.6761906</td><td>0.6578162</td><td>0.4820549</td></tr>\n",
       "\t<tr><th scope=row>NumDormitorios</th><td>0.6761906</td><td>1.0000000</td><td>0.7594598</td><td>0.5684521</td></tr>\n",
       "\t<tr><th scope=row>MaxOcupantes</th><td>0.6578162</td><td>0.7594598</td><td>1.0000000</td><td>0.4286233</td></tr>\n",
       "\t<tr><th scope=row>MetrosCuadrados</th><td>0.4820549</td><td>0.5684521</td><td>0.4286233</td><td>1.0000000</td></tr>\n",
       "</tbody>\n",
       "</table>\n"
      ],
      "text/latex": [
       "A matrix: 4 × 4 of type dbl\n",
       "\\begin{tabular}{r|llll}\n",
       "  & NumBanyos & NumDormitorios & MaxOcupantes & MetrosCuadrados\\\\\n",
       "\\hline\n",
       "\tNumBanyos & 1.0000000 & 0.6761906 & 0.6578162 & 0.4820549\\\\\n",
       "\tNumDormitorios & 0.6761906 & 1.0000000 & 0.7594598 & 0.5684521\\\\\n",
       "\tMaxOcupantes & 0.6578162 & 0.7594598 & 1.0000000 & 0.4286233\\\\\n",
       "\tMetrosCuadrados & 0.4820549 & 0.5684521 & 0.4286233 & 1.0000000\\\\\n",
       "\\end{tabular}\n"
      ],
      "text/markdown": [
       "\n",
       "A matrix: 4 × 4 of type dbl\n",
       "\n",
       "| <!--/--> | NumBanyos | NumDormitorios | MaxOcupantes | MetrosCuadrados |\n",
       "|---|---|---|---|---|\n",
       "| NumBanyos | 1.0000000 | 0.6761906 | 0.6578162 | 0.4820549 |\n",
       "| NumDormitorios | 0.6761906 | 1.0000000 | 0.7594598 | 0.5684521 |\n",
       "| MaxOcupantes | 0.6578162 | 0.7594598 | 1.0000000 | 0.4286233 |\n",
       "| MetrosCuadrados | 0.4820549 | 0.5684521 | 0.4286233 | 1.0000000 |\n",
       "\n"
      ],
      "text/plain": [
       "                NumBanyos NumDormitorios MaxOcupantes MetrosCuadrados\n",
       "NumBanyos       1.0000000 0.6761906      0.6578162    0.4820549      \n",
       "NumDormitorios  0.6761906 1.0000000      0.7594598    0.5684521      \n",
       "MaxOcupantes    0.6578162 0.7594598      1.0000000    0.4286233      \n",
       "MetrosCuadrados 0.4820549 0.5684521      0.4286233    1.0000000      "
      ]
     },
     "metadata": {},
     "output_type": "display_data"
    }
   ],
   "source": [
    "cor(barrio_sol[,c(\"NumBanyos\",\"NumDormitorios\",\"MaxOcupantes\",\"MetrosCuadrados\")],use=\"pairwise.complete.obs\")"
   ]
  },
  {
   "cell_type": "markdown",
   "metadata": {},
   "source": [
    "Se observa que la correlación entre el número de dormitorios y los metros cuadrados es sorprendentemente baja.\n",
    "¿Son de fiar esos números?\n",
    "\n",
    "Mediante un histograma o curvas de densidad podemos descartar números que notienen sentido en el dataframe barrio_sol,\n",
    "para tener una matriz de correlación que tenga mayor sentido.\n"
   ]
  },
  {
   "cell_type": "code",
   "execution_count": 801,
   "metadata": {},
   "outputs": [
    {
     "name": "stderr",
     "output_type": "stream",
     "text": [
      "Warning message:\n",
      "“Removed 641 rows containing non-finite values (stat_density).”\n"
     ]
    },
    {
     "data": {
      "image/png": "[encoded data removed]",
      "text/plain": [
       "plot without title"
      ]
     },
     "metadata": {
      "image/png": {
       "height": 240,
       "width": 360
      },
      "text/plain": {
       "height": 240,
       "width": 360
      }
     },
     "output_type": "display_data"
    }
   ],
   "source": [
    "ggplot(barrio_sol,aes(x=MetrosCuadrados))+geom_density(bw=3)"
   ]
  },
  {
   "cell_type": "code",
   "execution_count": 802,
   "metadata": {},
   "outputs": [
    {
     "data": {
      "text/html": [
       "<table>\n",
       "<caption>A matrix: 4 × 4 of type dbl</caption>\n",
       "<thead>\n",
       "\t<tr><th></th><th scope=col>NumBanyos</th><th scope=col>NumDormitorios</th><th scope=col>MaxOcupantes</th><th scope=col>MetrosCuadrados</th></tr>\n",
       "</thead>\n",
       "<tbody>\n",
       "\t<tr><th scope=row>NumBanyos</th><td>1.0000000</td><td>0.7292599</td><td>0.8589205</td><td>0.6113095</td></tr>\n",
       "\t<tr><th scope=row>NumDormitorios</th><td>0.7292599</td><td>1.0000000</td><td>0.7855310</td><td>0.8215065</td></tr>\n",
       "\t<tr><th scope=row>MaxOcupantes</th><td>0.8589205</td><td>0.7855310</td><td>1.0000000</td><td>0.7121088</td></tr>\n",
       "\t<tr><th scope=row>MetrosCuadrados</th><td>0.6113095</td><td>0.8215065</td><td>0.7121088</td><td>1.0000000</td></tr>\n",
       "</tbody>\n",
       "</table>\n"
      ],
      "text/latex": [
       "A matrix: 4 × 4 of type dbl\n",
       "\\begin{tabular}{r|llll}\n",
       "  & NumBanyos & NumDormitorios & MaxOcupantes & MetrosCuadrados\\\\\n",
       "\\hline\n",
       "\tNumBanyos & 1.0000000 & 0.7292599 & 0.8589205 & 0.6113095\\\\\n",
       "\tNumDormitorios & 0.7292599 & 1.0000000 & 0.7855310 & 0.8215065\\\\\n",
       "\tMaxOcupantes & 0.8589205 & 0.7855310 & 1.0000000 & 0.7121088\\\\\n",
       "\tMetrosCuadrados & 0.6113095 & 0.8215065 & 0.7121088 & 1.0000000\\\\\n",
       "\\end{tabular}\n"
      ],
      "text/markdown": [
       "\n",
       "A matrix: 4 × 4 of type dbl\n",
       "\n",
       "| <!--/--> | NumBanyos | NumDormitorios | MaxOcupantes | MetrosCuadrados |\n",
       "|---|---|---|---|---|\n",
       "| NumBanyos | 1.0000000 | 0.7292599 | 0.8589205 | 0.6113095 |\n",
       "| NumDormitorios | 0.7292599 | 1.0000000 | 0.7855310 | 0.8215065 |\n",
       "| MaxOcupantes | 0.8589205 | 0.7855310 | 1.0000000 | 0.7121088 |\n",
       "| MetrosCuadrados | 0.6113095 | 0.8215065 | 0.7121088 | 1.0000000 |\n",
       "\n"
      ],
      "text/plain": [
       "                NumBanyos NumDormitorios MaxOcupantes MetrosCuadrados\n",
       "NumBanyos       1.0000000 0.7292599      0.8589205    0.6113095      \n",
       "NumDormitorios  0.7292599 1.0000000      0.7855310    0.8215065      \n",
       "MaxOcupantes    0.8589205 0.7855310      1.0000000    0.7121088      \n",
       "MetrosCuadrados 0.6113095 0.8215065      0.7121088    1.0000000      "
      ]
     },
     "metadata": {},
     "output_type": "display_data"
    }
   ],
   "source": [
    "barrio_sol<-subset(barrio_sol, MetrosCuadrados>15)\n",
    "\n",
    "barrio_sol<-subset(airbnb_entire,Barrio==\"Sol\" & MetrosCuadrados>15)\n",
    "cor(barrio_sol[,c(\"NumBanyos\",\"NumDormitorios\",\"MaxOcupantes\",\"MetrosCuadrados\")],use=\"pairwise.complete.obs\")"
   ]
  },
  {
   "cell_type": "markdown",
   "metadata": {},
   "source": [
    "Una vez que hayamos filtrado los datos correspondientes calcular el valor o la combinación de valores que mejor nos permite obtener el precio de un inmueble."
   ]
  },
  {
   "cell_type": "code",
   "execution_count": 803,
   "metadata": {},
   "outputs": [
    {
     "data": {
      "text/plain": [
       "\n",
       "Call:\n",
       "lm(formula = Precio ~ NumBanyos + NumDormitorios + MetrosCuadrados + \n",
       "    MaxOcupantes, data = barrio_sol)\n",
       "\n",
       "Residuals:\n",
       "    Min      1Q  Median      3Q     Max \n",
       "-76.852 -13.673  -5.048  18.523  69.473 \n",
       "\n",
       "Coefficients:\n",
       "                Estimate Std. Error t value Pr(>|t|)   \n",
       "(Intercept)      28.0362    12.9584   2.164  0.03859 * \n",
       "NumBanyos         0.5647    14.6038   0.039  0.96941   \n",
       "NumDormitorios   28.2119     8.5440   3.302  0.00249 **\n",
       "MetrosCuadrados   0.2237     0.2050   1.091  0.28393   \n",
       "MaxOcupantes      2.6738     4.4329   0.603  0.55093   \n",
       "---\n",
       "Signif. codes:  0 ‘***’ 0.001 ‘**’ 0.01 ‘*’ 0.05 ‘.’ 0.1 ‘ ’ 1\n",
       "\n",
       "Residual standard error: 31.32 on 30 degrees of freedom\n",
       "Multiple R-squared:  0.7588,\tAdjusted R-squared:  0.7267 \n",
       "F-statistic:  23.6 on 4 and 30 DF,  p-value: 6.728e-09\n"
      ]
     },
     "metadata": {},
     "output_type": "display_data"
    }
   ],
   "source": [
    "model<-lm(barrio_sol,formula=Precio~NumBanyos+NumDormitorios+MetrosCuadrados+MaxOcupantes)\n",
    "summary(model)"
   ]
  },
  {
   "cell_type": "code",
   "execution_count": 804,
   "metadata": {},
   "outputs": [
    {
     "data": {
      "text/plain": [
       "\n",
       "Call:\n",
       "lm(formula = Precio ~ MetrosCuadrados, data = barrio_sol)\n",
       "\n",
       "Residuals:\n",
       "    Min      1Q  Median      3Q     Max \n",
       "-65.154 -18.405  -0.139   9.146 122.102 \n",
       "\n",
       "Coefficients:\n",
       "                Estimate Std. Error t value Pr(>|t|)    \n",
       "(Intercept)      30.9151    12.6752   2.439   0.0203 *  \n",
       "MetrosCuadrados   0.9796     0.1404   6.978  5.6e-08 ***\n",
       "---\n",
       "Signif. codes:  0 ‘***’ 0.001 ‘**’ 0.01 ‘*’ 0.05 ‘.’ 0.1 ‘ ’ 1\n",
       "\n",
       "Residual standard error: 38.65 on 33 degrees of freedom\n",
       "Multiple R-squared:  0.5961,\tAdjusted R-squared:  0.5838 \n",
       "F-statistic:  48.7 on 1 and 33 DF,  p-value: 5.596e-08\n"
      ]
     },
     "metadata": {},
     "output_type": "display_data"
    }
   ],
   "source": [
    "model<-lm(barrio_sol,formula=Precio~MetrosCuadrados)\n",
    "summary(model)"
   ]
  },
  {
   "cell_type": "code",
   "execution_count": 805,
   "metadata": {},
   "outputs": [
    {
     "data": {
      "text/plain": [
       "\n",
       "Call:\n",
       "lm(formula = Precio ~ NumDormitorios, data = barrio_sol)\n",
       "\n",
       "Residuals:\n",
       "    Min      1Q  Median      3Q     Max \n",
       "-89.704 -17.010  -5.768  19.490  61.296 \n",
       "\n",
       "Coefficients:\n",
       "               Estimate Std. Error t value Pr(>|t|)    \n",
       "(Intercept)      41.283      8.554   4.826 3.08e-05 ***\n",
       "NumDormitorios   39.484      4.078   9.682 3.61e-11 ***\n",
       "---\n",
       "Signif. codes:  0 ‘***’ 0.001 ‘**’ 0.01 ‘*’ 0.05 ‘.’ 0.1 ‘ ’ 1\n",
       "\n",
       "Residual standard error: 31.03 on 33 degrees of freedom\n",
       "Multiple R-squared:  0.7396,\tAdjusted R-squared:  0.7317 \n",
       "F-statistic: 93.75 on 1 and 33 DF,  p-value: 3.611e-11\n"
      ]
     },
     "metadata": {},
     "output_type": "display_data"
    }
   ],
   "source": [
    "model<-lm(barrio_sol,formula=Precio~NumDormitorios)\n",
    "summary(model)"
   ]
  },
  {
   "cell_type": "code",
   "execution_count": 806,
   "metadata": {},
   "outputs": [
    {
     "data": {
      "text/plain": [
       "\n",
       "Call:\n",
       "lm(formula = Precio ~ NumDormitorios + MetrosCuadrados, data = barrio_sol)\n",
       "\n",
       "Residuals:\n",
       "    Min      1Q  Median      3Q     Max \n",
       "-86.701 -15.056  -4.442  17.341  68.125 \n",
       "\n",
       "Coefficients:\n",
       "                Estimate Std. Error t value Pr(>|t|)    \n",
       "(Intercept)      34.0916    10.0930   3.378  0.00193 ** \n",
       "NumDormitorios   31.8817     7.0761   4.506 8.31e-05 ***\n",
       "MetrosCuadrados   0.2558     0.1956   1.308  0.20025    \n",
       "---\n",
       "Signif. codes:  0 ‘***’ 0.001 ‘**’ 0.01 ‘*’ 0.05 ‘.’ 0.1 ‘ ’ 1\n",
       "\n",
       "Residual standard error: 30.7 on 32 degrees of freedom\n",
       "Multiple R-squared:  0.7528,\tAdjusted R-squared:  0.7374 \n",
       "F-statistic: 48.74 on 2 and 32 DF,  p-value: 1.938e-10\n"
      ]
     },
     "metadata": {},
     "output_type": "display_data"
    }
   ],
   "source": [
    "model<-lm(barrio_sol,formula=Precio~NumDormitorios+MetrosCuadrados)\n",
    "summary(model)"
   ]
  },
  {
   "cell_type": "markdown",
   "metadata": {},
   "source": [
    "¿Que variable es más fiable para conocer el precio de un inmueble, el número de habitaciones o los metros cuadrados?"
   ]
  },
  {
   "cell_type": "code",
   "execution_count": 807,
   "metadata": {},
   "outputs": [
    {
     "name": "stdout",
     "output_type": "stream",
     "text": [
      "[1] \"El numero de habitaciones (NumDormitorios) es más fiable para conocer el precio de un inmueble\"\n"
     ]
    }
   ],
   "source": [
    "print(\"El numero de habitaciones (NumDormitorios) es más fiable para conocer el precio de un inmueble\")"
   ]
  },
  {
   "cell_type": "markdown",
   "metadata": {},
   "source": [
    "Responde con su correspondiente margen de error del 95%, ¿cuantos euros incrementa el precio del alquiler por cada metro cuadrado extra del piso?"
   ]
  },
  {
   "cell_type": "code",
   "execution_count": 808,
   "metadata": {},
   "outputs": [
    {
     "data": {
      "text/html": [
       "<style>\n",
       ".dl-inline {width: auto; margin:0; padding: 0}\n",
       ".dl-inline>dt, .dl-inline>dd {float: none; width: auto; display: inline-block}\n",
       ".dl-inline>dt::after {content: \":\\0020\"; padding-right: .5ex}\n",
       ".dl-inline>dt:not(:first-of-type) {padding-left: .5ex}\n",
       "</style><dl class=dl-inline><dt>2.5 %</dt><dd>0.694020052426474</dd><dt>97.5 %</dt><dd>1.26525006235795</dd></dl>\n"
      ],
      "text/latex": [
       "\\begin{description*}\n",
       "\\item[2.5 \\textbackslash{}\\%] 0.694020052426474\n",
       "\\item[97.5 \\textbackslash{}\\%] 1.26525006235795\n",
       "\\end{description*}\n"
      ],
      "text/markdown": [
       "2.5 %\n",
       ":   0.69402005242647497.5 %\n",
       ":   1.26525006235795\n",
       "\n"
      ],
      "text/plain": [
       "    2.5 %    97.5 % \n",
       "0.6940201 1.2652501 "
      ]
     },
     "metadata": {},
     "output_type": "display_data"
    }
   ],
   "source": [
    "model<-lm(barrio_sol,formula=Precio~MetrosCuadrados)\n",
    "confint(model)[\"MetrosCuadrados\",]"
   ]
  },
  {
   "cell_type": "markdown",
   "metadata": {},
   "source": [
    "Responde con su correspondiente margen de error del 95%, ¿cuantos euros incrementa el precio del alquiler por cada habitación?"
   ]
  },
  {
   "cell_type": "code",
   "execution_count": 809,
   "metadata": {},
   "outputs": [
    {
     "data": {
      "text/html": [
       "<style>\n",
       ".dl-inline {width: auto; margin:0; padding: 0}\n",
       ".dl-inline>dt, .dl-inline>dd {float: none; width: auto; display: inline-block}\n",
       ".dl-inline>dt::after {content: \":\\0020\"; padding-right: .5ex}\n",
       ".dl-inline>dt:not(:first-of-type) {padding-left: .5ex}\n",
       "</style><dl class=dl-inline><dt>2.5 %</dt><dd>31.1874637434115</dd><dt>97.5 %</dt><dd>47.7809469179902</dd></dl>\n"
      ],
      "text/latex": [
       "\\begin{description*}\n",
       "\\item[2.5 \\textbackslash{}\\%] 31.1874637434115\n",
       "\\item[97.5 \\textbackslash{}\\%] 47.7809469179902\n",
       "\\end{description*}\n"
      ],
      "text/markdown": [
       "2.5 %\n",
       ":   31.187463743411597.5 %\n",
       ":   47.7809469179902\n",
       "\n"
      ],
      "text/plain": [
       "   2.5 %   97.5 % \n",
       "31.18746 47.78095 "
      ]
     },
     "metadata": {},
     "output_type": "display_data"
    }
   ],
   "source": [
    "model<-lm(barrio_sol,formula=Precio~NumDormitorios)\n",
    "confint(model)[\"NumDormitorios\",]"
   ]
  },
  {
   "cell_type": "markdown",
   "metadata": {},
   "source": [
    "¿Cual es la probabilidad de encontrar, en el barrio de Sol, un apartamento en alquiler con 3 dormitorios?\n",
    "¿Cual es el margen de error de esa probabilidad?"
   ]
  },
  {
   "cell_type": "code",
   "execution_count": 810,
   "metadata": {},
   "outputs": [],
   "source": [
    "Dormitorios3<-sum(barrio_sol$NumDormitorios==3)\n",
    "TotalDormitorios3<-nrow(barrio_sol)"
   ]
  },
  {
   "cell_type": "code",
   "execution_count": 811,
   "metadata": {},
   "outputs": [
    {
     "name": "stdout",
     "output_type": "stream",
     "text": [
      "[1] \"La probabilidad de encontrar, en el barrio de Sol, un apartamento en alquiler con 3 dormitorios es del: 0.0857142857142857\"\n",
      "[1] \"El margen de error de esa probabilidad es: \"\n"
     ]
    },
    {
     "data": {
      "text/html": [
       "<style>\n",
       ".list-inline {list-style: none; margin:0; padding: 0}\n",
       ".list-inline>li {display: inline-block}\n",
       ".list-inline>li:not(:last-child)::after {content: \"\\00b7\"; padding: 0 .5ex}\n",
       "</style>\n",
       "<ol class=list-inline><li>0.0180376398142175</li><li>0.230575018658877</li></ol>\n"
      ],
      "text/latex": [
       "\\begin{enumerate*}\n",
       "\\item 0.0180376398142175\n",
       "\\item 0.230575018658877\n",
       "\\end{enumerate*}\n"
      ],
      "text/markdown": [
       "1. 0.0180376398142175\n",
       "2. 0.230575018658877\n",
       "\n",
       "\n"
      ],
      "text/plain": [
       "[1] 0.01803764 0.23057502\n",
       "attr(,\"conf.level\")\n",
       "[1] 0.95"
      ]
     },
     "metadata": {},
     "output_type": "display_data"
    }
   ],
   "source": [
    "print(paste(\"La probabilidad de encontrar, en el barrio de Sol, un apartamento en alquiler con 3 dormitorios es del:\",Dormitorios3/TotalDormitorios3))\n",
    "print(\"El margen de error de esa probabilidad es: \")\n",
    "binom.test(Dormitorios3,TotalDormitorios3)$conf"
   ]
  }
 ],
 "metadata": {
  "kernelspec": {
   "display_name": "R",
   "language": "R",
   "name": "ir"
  },
  "language_info": {
   "codemirror_mode": "r",
   "file_extension": ".r",
   "mimetype": "text/x-r-source",
   "name": "R",
   "pygments_lexer": "r",
   "version": "3.6.0"
  }
 },
 "nbformat": 4,
 "nbformat_minor": 2
}
